{
 "cells": [
  {
   "cell_type": "code",
   "execution_count": 1,
   "metadata": {},
   "outputs": [],
   "source": [
    "class MovingAverage:\n",
    "    def __init__(self,size):\n",
    "        self.size = size\n",
    "        self.queue = []\n",
    "    def next(self,val):\n",
    "        size,queue = self.size,self.queue\n",
    "        queue.append(val)\n",
    "        return sum(queue[-size:])/min(len(queue),size)"
   ]
  },
  {
   "cell_type": "code",
   "execution_count": 2,
   "metadata": {},
   "outputs": [
    {
     "name": "stdout",
     "output_type": "stream",
     "text": [
      "1.0\n",
      "3.25\n",
      "3.7222233333333334\n",
      "5.38889\n"
     ]
    }
   ],
   "source": [
    "avg = MovingAverage(3)\n",
    "print(avg.next(1.0))\n",
    "print(avg.next(5.5))\n",
    "print(avg.next(4.66667))\n",
    "print(avg.next(6.0))"
   ]
  }
 ],
 "metadata": {
  "kernelspec": {
   "display_name": "Python 3",
   "language": "python",
   "name": "python3"
  },
  "language_info": {
   "codemirror_mode": {
    "name": "ipython",
    "version": 3
   },
   "file_extension": ".py",
   "mimetype": "text/x-python",
   "name": "python",
   "nbconvert_exporter": "python",
   "pygments_lexer": "ipython3",
   "version": "3.7.6"
  }
 },
 "nbformat": 4,
 "nbformat_minor": 4
}
