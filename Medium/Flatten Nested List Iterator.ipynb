{
 "cells": [
  {
   "cell_type": "code",
   "execution_count": 1,
   "metadata": {},
   "outputs": [],
   "source": [
    "class NestedIterator:\n",
    "    def __init__(self,nestedList):\n",
    "        self.stack = nestedList\n",
    "    def next(self):\n",
    "        return self.stack.pop(0)\n",
    "    def has_next(self):\n",
    "        while self.stack:\n",
    "            top = self.stack[0]\n",
    "            if type(top) == list:\n",
    "                self.stack = top + self.stack[1:]\n",
    "            else:\n",
    "                return True\n",
    "        return False\n",
    "\n",
    "#Time Complexity O(N)\n",
    "#Space Complexity O(N)"
   ]
  }
 ],
 "metadata": {
  "kernelspec": {
   "display_name": "Python 3",
   "language": "python",
   "name": "python3"
  },
  "language_info": {
   "codemirror_mode": {
    "name": "ipython",
    "version": 3
   },
   "file_extension": ".py",
   "mimetype": "text/x-python",
   "name": "python",
   "nbconvert_exporter": "python",
   "pygments_lexer": "ipython3",
   "version": "3.7.6"
  }
 },
 "nbformat": 4,
 "nbformat_minor": 4
}
