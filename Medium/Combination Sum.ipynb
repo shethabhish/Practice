{
 "cells": [
  {
   "cell_type": "code",
   "execution_count": 1,
   "metadata": {},
   "outputs": [],
   "source": [
    "def combination_sum(candidates,target):\n",
    "    result = []\n",
    "    def dfs(nums,target,buffer):\n",
    "        if target < 0:\n",
    "            return\n",
    "        if target == 0:\n",
    "            result.append(buffer)\n",
    "            return result\n",
    "        for i in range(len(nums)):\n",
    "            dfs(nums[i:],target-nums[i],buffer+[nums[i]])\n",
    "    dfs(candidates,target,[])\n",
    "    return result"
   ]
  },
  {
   "cell_type": "code",
   "execution_count": 2,
   "metadata": {},
   "outputs": [
    {
     "data": {
      "text/plain": [
       "[[2, 2, 3], [7]]"
      ]
     },
     "execution_count": 2,
     "metadata": {},
     "output_type": "execute_result"
    }
   ],
   "source": [
    "combination_sum([2,3,6,7],7)\n",
    "#Time Complexity O(N*2^N)\n",
    "#Space Complexity O(N*2^N)"
   ]
  }
 ],
 "metadata": {
  "kernelspec": {
   "display_name": "Python 3",
   "language": "python",
   "name": "python3"
  },
  "language_info": {
   "codemirror_mode": {
    "name": "ipython",
    "version": 3
   },
   "file_extension": ".py",
   "mimetype": "text/x-python",
   "name": "python",
   "nbconvert_exporter": "python",
   "pygments_lexer": "ipython3",
   "version": "3.7.6"
  }
 },
 "nbformat": 4,
 "nbformat_minor": 4
}
