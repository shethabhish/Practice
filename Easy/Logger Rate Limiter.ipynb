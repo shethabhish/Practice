{
 "cells": [
  {
   "cell_type": "code",
   "execution_count": 1,
   "metadata": {},
   "outputs": [],
   "source": [
    "class Logger:\n",
    "    def __init__(self):\n",
    "        self.arr = {}\n",
    "    def should_print_message(self,timestamp,message):\n",
    "        if message not in self.arr:\n",
    "            self.arr[message] = timestamp\n",
    "            return True\n",
    "        else:\n",
    "            if timestamp - self.arr[message] >= 10:\n",
    "                self.arr[message] = timestamp\n",
    "                return True\n",
    "            else:\n",
    "                return False"
   ]
  },
  {
   "cell_type": "code",
   "execution_count": 2,
   "metadata": {},
   "outputs": [
    {
     "name": "stdout",
     "output_type": "stream",
     "text": [
      "True\n",
      "True\n",
      "False\n",
      "False\n",
      "False\n",
      "True\n"
     ]
    }
   ],
   "source": [
    "logger = Logger()\n",
    "print(logger.should_print_message(1,\"foo\"))\n",
    "print(logger.should_print_message(2,\"bar\"))\n",
    "print(logger.should_print_message(3,\"foo\"))\n",
    "print(logger.should_print_message(8,\"bar\"))\n",
    "print(logger.should_print_message(10,\"foo\"))\n",
    "print(logger.should_print_message(11,\"foo\"))"
   ]
  }
 ],
 "metadata": {
  "kernelspec": {
   "display_name": "Python 3",
   "language": "python",
   "name": "python3"
  },
  "language_info": {
   "codemirror_mode": {
    "name": "ipython",
    "version": 3
   },
   "file_extension": ".py",
   "mimetype": "text/x-python",
   "name": "python",
   "nbconvert_exporter": "python",
   "pygments_lexer": "ipython3",
   "version": "3.7.6"
  }
 },
 "nbformat": 4,
 "nbformat_minor": 4
}
