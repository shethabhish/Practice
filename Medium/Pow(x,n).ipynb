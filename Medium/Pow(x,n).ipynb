{
 "cells": [
  {
   "cell_type": "code",
   "execution_count": 1,
   "metadata": {},
   "outputs": [],
   "source": [
    "def my_pow(x,n):\n",
    "    result = power(abs(x),abs(n))\n",
    "    if n < 0:\n",
    "        result = 1/result\n",
    "    if x <= 0 and n%2 == 1:\n",
    "        return -1*result\n",
    "    return result"
   ]
  },
  {
   "cell_type": "code",
   "execution_count": 2,
   "metadata": {},
   "outputs": [],
   "source": [
    "def power(x,n):\n",
    "    if n== 0:\n",
    "        return 1\n",
    "    if n == 1:\n",
    "        return x\n",
    "    half = power(x,n//2)\n",
    "    if n%2 == 0:\n",
    "        return half*half\n",
    "    else:\n",
    "        return half*half*x"
   ]
  },
  {
   "cell_type": "code",
   "execution_count": 3,
   "metadata": {},
   "outputs": [
    {
     "data": {
      "text/plain": [
       "1024"
      ]
     },
     "execution_count": 3,
     "metadata": {},
     "output_type": "execute_result"
    }
   ],
   "source": [
    "my_pow(2,10)\n",
    "#Time Complexity O(logN)\n",
    "#Space Complexity O(1)"
   ]
  }
 ],
 "metadata": {
  "kernelspec": {
   "display_name": "Python 3",
   "language": "python",
   "name": "python3"
  },
  "language_info": {
   "codemirror_mode": {
    "name": "ipython",
    "version": 3
   },
   "file_extension": ".py",
   "mimetype": "text/x-python",
   "name": "python",
   "nbconvert_exporter": "python",
   "pygments_lexer": "ipython3",
   "version": "3.7.6"
  }
 },
 "nbformat": 4,
 "nbformat_minor": 4
}
