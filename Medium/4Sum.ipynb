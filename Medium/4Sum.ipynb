{
 "cells": [
  {
   "cell_type": "code",
   "execution_count": 1,
   "metadata": {},
   "outputs": [],
   "source": [
    "def four_sum(nums,target):\n",
    "    result = []\n",
    "    nums.sort()\n",
    "    for i in range(len(nums)-3):\n",
    "        if i > 0 and nums[i-1] == nums[i]:\n",
    "            continue\n",
    "        for j in range(i+1,len(nums)-2):\n",
    "            if j > 0 and nums[j-1] == nums[j]:\n",
    "                continue\n",
    "            left,right = j+1,len(nums)-1\n",
    "            while left < right:\n",
    "                current = nums[i] + nums[j] + nums[left] + nums[right]\n",
    "                if current < target:\n",
    "                    left += 1\n",
    "                elif current > target:\n",
    "                    right -= 1\n",
    "                else:\n",
    "                    result.append([nums[i],nums[j],nums[left],nums[right]])\n",
    "                    while left < right and nums[left+1] == nums[left]:\n",
    "                        left += 1\n",
    "                    while left < right and nums[right] == nums[right-1]:\n",
    "                        right -= 1\n",
    "                    left += 1\n",
    "                    right -= 1\n",
    "    return result"
   ]
  },
  {
   "cell_type": "code",
   "execution_count": 2,
   "metadata": {},
   "outputs": [
    {
     "data": {
      "text/plain": [
       "[[-2, -1, 1, 2], [-2, 0, 0, 2], [-1, 0, 0, 1]]"
      ]
     },
     "execution_count": 2,
     "metadata": {},
     "output_type": "execute_result"
    }
   ],
   "source": [
    "four_sum([1,0,-1,0,-2,2],0)\n",
    "#Time Complexity O(N^3)\n",
    "#Space Complexity O(N)"
   ]
  }
 ],
 "metadata": {
  "kernelspec": {
   "display_name": "Python 3",
   "language": "python",
   "name": "python3"
  },
  "language_info": {
   "codemirror_mode": {
    "name": "ipython",
    "version": 3
   },
   "file_extension": ".py",
   "mimetype": "text/x-python",
   "name": "python",
   "nbconvert_exporter": "python",
   "pygments_lexer": "ipython3",
   "version": "3.7.6"
  }
 },
 "nbformat": 4,
 "nbformat_minor": 4
}
