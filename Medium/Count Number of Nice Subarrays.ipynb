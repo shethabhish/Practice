{
 "cells": [
  {
   "cell_type": "code",
   "execution_count": 1,
   "metadata": {},
   "outputs": [],
   "source": [
    "def number_nice(nums,k):\n",
    "    result,odd,count,start = 0,0,0,0\n",
    "    for i in range(len(nums)):\n",
    "        if nums[i] % 2 == 1:\n",
    "            odd += 1\n",
    "            if odd == k:\n",
    "                count = 0\n",
    "                while odd == k:\n",
    "                    if nums[start] % 2 == 1:\n",
    "                        odd -= 1\n",
    "                    start += 1\n",
    "                    count += 1\n",
    "        result += count\n",
    "    return result"
   ]
  },
  {
   "cell_type": "code",
   "execution_count": 2,
   "metadata": {},
   "outputs": [
    {
     "data": {
      "text/plain": [
       "2"
      ]
     },
     "execution_count": 2,
     "metadata": {},
     "output_type": "execute_result"
    }
   ],
   "source": [
    "number_nice([1,1,2,1,1],3)\n",
    "#Time Complexity O(N)\n",
    "#Space Complexity O(1)"
   ]
  }
 ],
 "metadata": {
  "kernelspec": {
   "display_name": "Python 3",
   "language": "python",
   "name": "python3"
  },
  "language_info": {
   "codemirror_mode": {
    "name": "ipython",
    "version": 3
   },
   "file_extension": ".py",
   "mimetype": "text/x-python",
   "name": "python",
   "nbconvert_exporter": "python",
   "pygments_lexer": "ipython3",
   "version": "3.7.6"
  }
 },
 "nbformat": 4,
 "nbformat_minor": 4
}
