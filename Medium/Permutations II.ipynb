{
 "cells": [
  {
   "cell_type": "code",
   "execution_count": 1,
   "metadata": {},
   "outputs": [],
   "source": [
    "def permute_unique(nums):\n",
    "    permu,result = [[]],[]\n",
    "    for i in range(len(nums)):\n",
    "        for _ in range(len(permu)):\n",
    "            oldpermu = permu.pop(0)\n",
    "            for j in range(len(oldpermu)+1):\n",
    "                newpermu = list(oldpermu)\n",
    "                newpermu.insert(j,nums[i])\n",
    "                if len(newpermu) == len(nums) and newpermu not in result:\n",
    "                    result.append(newpermu)\n",
    "                else:\n",
    "                    permu.append(newpermu)\n",
    "    return result"
   ]
  },
  {
   "cell_type": "code",
   "execution_count": 2,
   "metadata": {},
   "outputs": [
    {
     "data": {
      "text/plain": [
       "[[2, 1, 1], [1, 2, 1], [1, 1, 2]]"
      ]
     },
     "execution_count": 2,
     "metadata": {},
     "output_type": "execute_result"
    }
   ],
   "source": [
    "permute_unique([1,1,2])\n",
    "#Time Complexity O(2^N)\n",
    "#Space Complexity O(2^N)"
   ]
  }
 ],
 "metadata": {
  "kernelspec": {
   "display_name": "Python 3",
   "language": "python",
   "name": "python3"
  },
  "language_info": {
   "codemirror_mode": {
    "name": "ipython",
    "version": 3
   },
   "file_extension": ".py",
   "mimetype": "text/x-python",
   "name": "python",
   "nbconvert_exporter": "python",
   "pygments_lexer": "ipython3",
   "version": "3.7.6"
  }
 },
 "nbformat": 4,
 "nbformat_minor": 4
}
