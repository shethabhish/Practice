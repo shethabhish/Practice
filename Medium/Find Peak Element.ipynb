{
 "cells": [
  {
   "cell_type": "code",
   "execution_count": 1,
   "metadata": {},
   "outputs": [],
   "source": [
    "def find_peak_element(nums):\n",
    "    if len(nums) == 0:\n",
    "        return -1\n",
    "    start,end = 0,len(nums)-1\n",
    "    while start < end:\n",
    "        mid = start + (end - start)//2\n",
    "        if nums[mid] > nums[mid+1]:\n",
    "            end = mid\n",
    "        else:\n",
    "            start = mid + 1\n",
    "    return start"
   ]
  },
  {
   "cell_type": "code",
   "execution_count": 2,
   "metadata": {},
   "outputs": [
    {
     "data": {
      "text/plain": [
       "5"
      ]
     },
     "execution_count": 2,
     "metadata": {},
     "output_type": "execute_result"
    }
   ],
   "source": [
    "find_peak_element([1,2,1,3,5,6,4])\n",
    "#Time Complexity O(logN)\n",
    "#Space Complexity O(1)"
   ]
  }
 ],
 "metadata": {
  "kernelspec": {
   "display_name": "Python 3",
   "language": "python",
   "name": "python3"
  },
  "language_info": {
   "codemirror_mode": {
    "name": "ipython",
    "version": 3
   },
   "file_extension": ".py",
   "mimetype": "text/x-python",
   "name": "python",
   "nbconvert_exporter": "python",
   "pygments_lexer": "ipython3",
   "version": "3.7.6"
  }
 },
 "nbformat": 4,
 "nbformat_minor": 4
}
