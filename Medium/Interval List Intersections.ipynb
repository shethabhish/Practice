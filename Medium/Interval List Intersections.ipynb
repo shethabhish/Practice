{
 "cells": [
  {
   "cell_type": "code",
   "execution_count": 1,
   "metadata": {},
   "outputs": [],
   "source": [
    "def interval_intersecrtion(A,B):\n",
    "    result,i,j = [],0,0\n",
    "    while i < len(A) and j < len(B):\n",
    "        aoverlapb = A[i][0] >= B[j][0] and A[i][0] <= B[j][1]\n",
    "        boverlapa = B[j][0] >= A[i][0] and B[j][0] <= A[i][1]\n",
    "        if aoverlapb or boverlapa:\n",
    "            result.append([max(A[i][0],B[j][0]),min(A[i][1],B[j][1])])\n",
    "        if A[i][1] < B[j][1]:\n",
    "            i += 1\n",
    "        else:\n",
    "            j += 1\n",
    "    return result"
   ]
  },
  {
   "cell_type": "code",
   "execution_count": 2,
   "metadata": {},
   "outputs": [
    {
     "data": {
      "text/plain": [
       "[[1, 2], [5, 5], [8, 10], [15, 23], [24, 24], [25, 25]]"
      ]
     },
     "execution_count": 2,
     "metadata": {},
     "output_type": "execute_result"
    }
   ],
   "source": [
    "interval_intersecrtion([[0,2],[5,10],[13,23],[24,25]],[[1,5],[8,12],[15,24],[25,26]])\n",
    "#Time Complexity O(N)\n",
    "#Space Complexity O(N)"
   ]
  }
 ],
 "metadata": {
  "kernelspec": {
   "display_name": "Python 3",
   "language": "python",
   "name": "python3"
  },
  "language_info": {
   "codemirror_mode": {
    "name": "ipython",
    "version": 3
   },
   "file_extension": ".py",
   "mimetype": "text/x-python",
   "name": "python",
   "nbconvert_exporter": "python",
   "pygments_lexer": "ipython3",
   "version": "3.7.6"
  }
 },
 "nbformat": 4,
 "nbformat_minor": 4
}
