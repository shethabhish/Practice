{
 "cells": [
  {
   "cell_type": "code",
   "execution_count": 1,
   "metadata": {},
   "outputs": [],
   "source": [
    "def connected_components(n,edges):\n",
    "    graph = {i:[] for i in range(n)}\n",
    "    for i,j in edges:\n",
    "        graph[i].append(j)\n",
    "        graph[j].append(i)\n",
    "    result = 0\n",
    "    for i in range(n):\n",
    "        queue = [i]\n",
    "        result += 1 if i in graph else 0\n",
    "        for j in queue:\n",
    "            if j in graph:\n",
    "                queue += graph[j]\n",
    "                del graph[j]\n",
    "    return result"
   ]
  },
  {
   "cell_type": "code",
   "execution_count": 2,
   "metadata": {},
   "outputs": [
    {
     "data": {
      "text/plain": [
       "2"
      ]
     },
     "execution_count": 2,
     "metadata": {},
     "output_type": "execute_result"
    }
   ],
   "source": [
    "connected_components(5,[[0, 1], [1, 2], [3, 4]])\n",
    "#Time Complexity O(N^2)\n",
    "#Space Complexity O(N)"
   ]
  }
 ],
 "metadata": {
  "kernelspec": {
   "display_name": "Python 3",
   "language": "python",
   "name": "python3"
  },
  "language_info": {
   "codemirror_mode": {
    "name": "ipython",
    "version": 3
   },
   "file_extension": ".py",
   "mimetype": "text/x-python",
   "name": "python",
   "nbconvert_exporter": "python",
   "pygments_lexer": "ipython3",
   "version": "3.7.6"
  }
 },
 "nbformat": 4,
 "nbformat_minor": 4
}
