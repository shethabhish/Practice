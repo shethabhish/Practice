{
 "cells": [
  {
   "cell_type": "code",
   "execution_count": 1,
   "metadata": {},
   "outputs": [],
   "source": [
    "from heapq import *\n",
    "def smallest_range(nums):\n",
    "    minheap = []\n",
    "    start,end,maxi = 0,float(\"inf\"),float(\"-inf\")\n",
    "    for arr in nums:\n",
    "        heappush(minheap,(arr[0],0,arr))\n",
    "        maxi = max(maxi,arr[0])\n",
    "    while len(minheap) == len(nums):\n",
    "        num,ind,arr = heappop(minheap)\n",
    "        if end - start > maxi - num:\n",
    "            start,end = num,maxi\n",
    "        if len(arr) > ind+1:\n",
    "            heappush(minheap,(arr[ind+1],ind+1,arr))\n",
    "            maxi = max(maxi,arr[ind+1])\n",
    "    return [start,end]"
   ]
  },
  {
   "cell_type": "code",
   "execution_count": 2,
   "metadata": {},
   "outputs": [
    {
     "data": {
      "text/plain": [
       "[20, 24]"
      ]
     },
     "execution_count": 2,
     "metadata": {},
     "output_type": "execute_result"
    }
   ],
   "source": [
    "smallest_range([[4,10,15,24,26],[0,9,12,20],[5,18,22,30]])\n",
    "#Time Complexity O(NlogN)\n",
    "#Space Complexity O(N)"
   ]
  }
 ],
 "metadata": {
  "kernelspec": {
   "display_name": "Python 3",
   "language": "python",
   "name": "python3"
  },
  "language_info": {
   "codemirror_mode": {
    "name": "ipython",
    "version": 3
   },
   "file_extension": ".py",
   "mimetype": "text/x-python",
   "name": "python",
   "nbconvert_exporter": "python",
   "pygments_lexer": "ipython3",
   "version": "3.7.6"
  }
 },
 "nbformat": 4,
 "nbformat_minor": 4
}
