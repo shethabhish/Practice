{
 "cells": [
  {
   "cell_type": "code",
   "execution_count": 1,
   "metadata": {},
   "outputs": [],
   "source": [
    "class Node:\n",
    "    def __init__(self,val):\n",
    "        self.val = val\n",
    "        self.next = None"
   ]
  },
  {
   "cell_type": "code",
   "execution_count": 2,
   "metadata": {},
   "outputs": [],
   "source": [
    "def reverse_k(head,k):\n",
    "    if k <= 1 or head is None:\n",
    "        return head\n",
    "    current,prev = head,None\n",
    "    while True:\n",
    "        lastnodeprev = prev\n",
    "        lastnodesub = current\n",
    "        i = 0\n",
    "        while current and i < k:\n",
    "            next = current.next\n",
    "            current.next = prev\n",
    "            prev = current\n",
    "            current = next\n",
    "            i += 1\n",
    "        if lastnodeprev:\n",
    "            lastnodeprev.next = prev\n",
    "        else:\n",
    "            head = prev\n",
    "        lastnodesub.next = current\n",
    "        if current is None:\n",
    "            break\n",
    "        prev = lastnodesub\n",
    "    return head"
   ]
  },
  {
   "cell_type": "code",
   "execution_count": 3,
   "metadata": {},
   "outputs": [],
   "source": [
    "head = Node(1)\n",
    "head.next = Node(2)\n",
    "head.next.next = Node(3)\n",
    "head.next.next.next = Node(4)\n",
    "head.next.next.next.next = Node(5)"
   ]
  },
  {
   "cell_type": "code",
   "execution_count": 4,
   "metadata": {},
   "outputs": [
    {
     "data": {
      "text/plain": [
       "<__main__.Node at 0x1dc622daf48>"
      ]
     },
     "execution_count": 4,
     "metadata": {},
     "output_type": "execute_result"
    }
   ],
   "source": [
    "reverse_k(head,2)\n",
    "#Time Complexity O(N)\n",
    "#Space Complexity O(1)"
   ]
  }
 ],
 "metadata": {
  "kernelspec": {
   "display_name": "Python 3",
   "language": "python",
   "name": "python3"
  },
  "language_info": {
   "codemirror_mode": {
    "name": "ipython",
    "version": 3
   },
   "file_extension": ".py",
   "mimetype": "text/x-python",
   "name": "python",
   "nbconvert_exporter": "python",
   "pygments_lexer": "ipython3",
   "version": "3.7.6"
  }
 },
 "nbformat": 4,
 "nbformat_minor": 4
}
