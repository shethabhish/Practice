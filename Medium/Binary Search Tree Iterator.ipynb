{
 "cells": [
  {
   "cell_type": "code",
   "execution_count": 1,
   "metadata": {},
   "outputs": [],
   "source": [
    "class BSTIterator:\n",
    "    def __init__(self,root):\n",
    "        self.stack = []\n",
    "        self.inorder(root)\n",
    "    def inorder(self,root):\n",
    "        if root:\n",
    "            self.stack.append(root)\n",
    "            root = root.left\n",
    "    def next(self):\n",
    "        top = self.stack.pop()\n",
    "        if top.right:\n",
    "            self.inorder(top.right)\n",
    "        return top.val\n",
    "    def has_next(self):\n",
    "        return len(stack) > 0\n",
    "#Time Complexity O(N)\n",
    "#Space Complexity O(N)"
   ]
  }
 ],
 "metadata": {
  "kernelspec": {
   "display_name": "Python 3",
   "language": "python",
   "name": "python3"
  },
  "language_info": {
   "codemirror_mode": {
    "name": "ipython",
    "version": 3
   },
   "file_extension": ".py",
   "mimetype": "text/x-python",
   "name": "python",
   "nbconvert_exporter": "python",
   "pygments_lexer": "ipython3",
   "version": "3.7.6"
  }
 },
 "nbformat": 4,
 "nbformat_minor": 4
}
