{
 "cells": [
  {
   "cell_type": "code",
   "execution_count": 1,
   "metadata": {},
   "outputs": [],
   "source": [
    "class TwoSum:\n",
    "    def __init__(self):\n",
    "        self.arr = []\n",
    "    def add(self,num):\n",
    "        self.arr.append(num)\n",
    "    def find(self,value):\n",
    "        seen = []\n",
    "        for i in self.arr:\n",
    "            if i in seen:\n",
    "                return True\n",
    "            seen.append(value-i)\n",
    "        return False"
   ]
  },
  {
   "cell_type": "code",
   "execution_count": 2,
   "metadata": {},
   "outputs": [
    {
     "data": {
      "text/plain": [
       "True"
      ]
     },
     "execution_count": 2,
     "metadata": {},
     "output_type": "execute_result"
    }
   ],
   "source": [
    "twosum = TwoSum()\n",
    "twosum.add(1)\n",
    "twosum.add(3)\n",
    "twosum.add(5)\n",
    "twosum.find(4)\n",
    "#Time Complexity O(N)\n",
    "#Space Complexity O(1)"
   ]
  }
 ],
 "metadata": {
  "kernelspec": {
   "display_name": "Python 3",
   "language": "python",
   "name": "python3"
  },
  "language_info": {
   "codemirror_mode": {
    "name": "ipython",
    "version": 3
   },
   "file_extension": ".py",
   "mimetype": "text/x-python",
   "name": "python",
   "nbconvert_exporter": "python",
   "pygments_lexer": "ipython3",
   "version": "3.7.6"
  }
 },
 "nbformat": 4,
 "nbformat_minor": 4
}
