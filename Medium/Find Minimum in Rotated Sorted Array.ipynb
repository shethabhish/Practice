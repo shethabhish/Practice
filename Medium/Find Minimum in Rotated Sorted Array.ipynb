{
 "cells": [
  {
   "cell_type": "code",
   "execution_count": 1,
   "metadata": {},
   "outputs": [],
   "source": [
    "def find_min(nums):\n",
    "    if len(nums) == 1:\n",
    "        return nums[0]\n",
    "    start,end = 0,len(nums)-1\n",
    "    if nums[end] > nums[0]:\n",
    "        return nums[0]\n",
    "    while start < end:\n",
    "        mid = start + (end - start)//2\n",
    "        if nums[mid - 1] > nums[mid]:\n",
    "            return nums[mid]\n",
    "        if nums[mid] > nums[mid+1]:\n",
    "            return nums[mid+1]\n",
    "        if nums[mid] > nums[0]:\n",
    "            start = mid + 1\n",
    "        else:\n",
    "            end = mid - 1"
   ]
  },
  {
   "cell_type": "code",
   "execution_count": 2,
   "metadata": {},
   "outputs": [
    {
     "data": {
      "text/plain": [
       "0"
      ]
     },
     "execution_count": 2,
     "metadata": {},
     "output_type": "execute_result"
    }
   ],
   "source": [
    "find_min([4,5,6,7,0,1,2])\n",
    "#Time Complexity O(logN)\n",
    "#Space Complexity O(1)"
   ]
  }
 ],
 "metadata": {
  "kernelspec": {
   "display_name": "Python 3",
   "language": "python",
   "name": "python3"
  },
  "language_info": {
   "codemirror_mode": {
    "name": "ipython",
    "version": 3
   },
   "file_extension": ".py",
   "mimetype": "text/x-python",
   "name": "python",
   "nbconvert_exporter": "python",
   "pygments_lexer": "ipython3",
   "version": "3.7.6"
  }
 },
 "nbformat": 4,
 "nbformat_minor": 4
}
