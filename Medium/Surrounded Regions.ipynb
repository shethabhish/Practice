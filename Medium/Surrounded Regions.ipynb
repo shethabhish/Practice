{
 "cells": [
  {
   "cell_type": "code",
   "execution_count": 1,
   "metadata": {},
   "outputs": [],
   "source": [
    "def solve(board):\n",
    "    if not board:\n",
    "        return None\n",
    "    for i in range(len(board)):\n",
    "        for j in range(len(board[i])):\n",
    "            if(i==0 or i==(len(board)-1) or j==0 or j==(len(board[i])-1)):\n",
    "                if(board[i][j]=='O'):\n",
    "                    dfs(board, i, j) \n",
    "    for i in range(len(board)):          \n",
    "        for j in range(len(board[i])):\n",
    "            if(board[i][j]=='#'):             \n",
    "                board[i][j]='O'\n",
    "            else:\n",
    "                board[i][j]='X' \n",
    "    return board"
   ]
  },
  {
   "cell_type": "code",
   "execution_count": 2,
   "metadata": {},
   "outputs": [],
   "source": [
    "def dfs(board, i, j):\n",
    "    if (i<0 or i>=len(board) or j<0 or j>=len(board[i]) or board[i][j]=='X'):\n",
    "        return None\n",
    "    if board[i][j]=='#':            \n",
    "        return None\n",
    "    board[i][j] = '#'\n",
    "    dfs(board, i-1, j)\n",
    "    dfs(board, i+1, j)\n",
    "    dfs(board, i, j-1)\n",
    "    dfs(board, i, j+1)"
   ]
  },
  {
   "cell_type": "code",
   "execution_count": 3,
   "metadata": {},
   "outputs": [
    {
     "data": {
      "text/plain": [
       "[['X', 'X', 'X', 'X'],\n",
       " ['X', 'X', 'X', 'X'],\n",
       " ['X', 'X', 'X', 'X'],\n",
       " ['X', 'O', 'X', 'X']]"
      ]
     },
     "execution_count": 3,
     "metadata": {},
     "output_type": "execute_result"
    }
   ],
   "source": [
    "solve([['X','X','X','X'],\n",
    "['X', 'O', 'O', 'X'],\n",
    "['X' ,'X', 'O', 'X'],\n",
    "['X' ,'O' ,'X' ,'X']])\n",
    "#Time Complexity O(M*N*4^n)\n",
    "#Space Complexity O(M*N*4^n)"
   ]
  }
 ],
 "metadata": {
  "kernelspec": {
   "display_name": "Python 3",
   "language": "python",
   "name": "python3"
  },
  "language_info": {
   "codemirror_mode": {
    "name": "ipython",
    "version": 3
   },
   "file_extension": ".py",
   "mimetype": "text/x-python",
   "name": "python",
   "nbconvert_exporter": "python",
   "pygments_lexer": "ipython3",
   "version": "3.7.6"
  }
 },
 "nbformat": 4,
 "nbformat_minor": 4
}
