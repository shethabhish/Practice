{
 "cells": [
  {
   "cell_type": "code",
   "execution_count": 1,
   "metadata": {},
   "outputs": [],
   "source": [
    "class Tree:\n",
    "    def __init__(self,val):\n",
    "        self.val = val\n",
    "        self.left = None\n",
    "        self.right = None"
   ]
  },
  {
   "cell_type": "code",
   "execution_count": 2,
   "metadata": {},
   "outputs": [],
   "source": [
    "from collections import deque\n",
    "def maximumu_width(root):\n",
    "    if root is None:\n",
    "        return 0\n",
    "    queue = deque()\n",
    "    queue.append((root,0))\n",
    "    result = 0\n",
    "    while queue:\n",
    "        _,head = queue[0]\n",
    "        levelsize = len(queue)\n",
    "        for _ in range(levelsize):\n",
    "            node,col = queue.popleft()\n",
    "            if node.left:\n",
    "                queue.append((node.left,col*2))\n",
    "            if node.right:\n",
    "                queue.append((node.right,2*col+1))\n",
    "        result = max(result,col-head+1)\n",
    "    return result"
   ]
  },
  {
   "cell_type": "code",
   "execution_count": 3,
   "metadata": {},
   "outputs": [],
   "source": [
    "root = Tree(1)\n",
    "root.left = Tree(3)\n",
    "root.right = Tree(2)\n",
    "root.left.left = Tree(5)\n",
    "root.left.right = Tree(3)\n",
    "root.right.right = Tree(9)"
   ]
  },
  {
   "cell_type": "code",
   "execution_count": 4,
   "metadata": {},
   "outputs": [
    {
     "data": {
      "text/plain": [
       "4"
      ]
     },
     "execution_count": 4,
     "metadata": {},
     "output_type": "execute_result"
    }
   ],
   "source": [
    "maximumu_width(root)\n",
    "#Time Complexity O(V+E)\n",
    "#Space Complexity O(V+E)"
   ]
  }
 ],
 "metadata": {
  "kernelspec": {
   "display_name": "Python 3",
   "language": "python",
   "name": "python3"
  },
  "language_info": {
   "codemirror_mode": {
    "name": "ipython",
    "version": 3
   },
   "file_extension": ".py",
   "mimetype": "text/x-python",
   "name": "python",
   "nbconvert_exporter": "python",
   "pygments_lexer": "ipython3",
   "version": "3.7.6"
  }
 },
 "nbformat": 4,
 "nbformat_minor": 4
}
