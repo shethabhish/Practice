{
 "cells": [
  {
   "cell_type": "code",
   "execution_count": 1,
   "metadata": {},
   "outputs": [],
   "source": [
    "def subsets(nums):\n",
    "    nums.sort()\n",
    "    subset = [[]]\n",
    "    start,end = 0,0\n",
    "    for i in range(len(nums)):\n",
    "        start = 0\n",
    "        if i > 0 and nums[i-1] == nums[i]:\n",
    "            start = end+1\n",
    "        end = len(subset)-1\n",
    "        for j in range(start,end+1):\n",
    "            sub = list(subset[j])\n",
    "            sub.append(nums[i])\n",
    "            subset.append(sub)\n",
    "    return subset"
   ]
  },
  {
   "cell_type": "code",
   "execution_count": 2,
   "metadata": {},
   "outputs": [
    {
     "data": {
      "text/plain": [
       "[[], [1], [2], [1, 2], [2, 2], [1, 2, 2]]"
      ]
     },
     "execution_count": 2,
     "metadata": {},
     "output_type": "execute_result"
    }
   ],
   "source": [
    "subsets([1,2,2])\n",
    "#Time Complexity O(2^N)\n",
    "#Space Complexity O(2^N)"
   ]
  }
 ],
 "metadata": {
  "kernelspec": {
   "display_name": "Python 3",
   "language": "python",
   "name": "python3"
  },
  "language_info": {
   "codemirror_mode": {
    "name": "ipython",
    "version": 3
   },
   "file_extension": ".py",
   "mimetype": "text/x-python",
   "name": "python",
   "nbconvert_exporter": "python",
   "pygments_lexer": "ipython3",
   "version": "3.7.6"
  }
 },
 "nbformat": 4,
 "nbformat_minor": 4
}
