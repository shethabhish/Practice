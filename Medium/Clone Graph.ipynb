{
 "cells": [
  {
   "cell_type": "code",
   "execution_count": 1,
   "metadata": {},
   "outputs": [],
   "source": [
    "class Node:\n",
    "    def __init__(self,val,neighbors):\n",
    "        self.val = val\n",
    "        self.neighbors = [] if neighbors == [] else None"
   ]
  },
  {
   "cell_type": "code",
   "execution_count": 2,
   "metadata": {},
   "outputs": [],
   "source": [
    "def clone_graph(node):\n",
    "    if not node:\n",
    "        return node\n",
    "    visited = {}\n",
    "    visited[node] = Node(node.val,[])\n",
    "    queue = deque([node])\n",
    "    while queue:\n",
    "        current = queue.popleft()\n",
    "        for nei in current.neighbors:\n",
    "            if nei not in visited:\n",
    "                visited[nei] = Node(nei.val,[])\n",
    "                queue.append(nei)\n",
    "            visited[current].neighors.append(visited[nei])\n",
    "    return visited[node]\n",
    "#Time Complexity O(V+E)\n",
    "#Space Complexity O(V+E)"
   ]
  }
 ],
 "metadata": {
  "kernelspec": {
   "display_name": "Python 3",
   "language": "python",
   "name": "python3"
  },
  "language_info": {
   "codemirror_mode": {
    "name": "ipython",
    "version": 3
   },
   "file_extension": ".py",
   "mimetype": "text/x-python",
   "name": "python",
   "nbconvert_exporter": "python",
   "pygments_lexer": "ipython3",
   "version": "3.7.6"
  }
 },
 "nbformat": 4,
 "nbformat_minor": 4
}
