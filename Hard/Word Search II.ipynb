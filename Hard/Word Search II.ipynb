{
 "cells": [
  {
   "cell_type": "code",
   "execution_count": 1,
   "metadata": {},
   "outputs": [],
   "source": [
    "from collections import defaultdict\n",
    "class TrieNode:\n",
    "    def __init__(self):\n",
    "        self.children = defaultdict(TrieNode)\n",
    "        self.end = False"
   ]
  },
  {
   "cell_type": "code",
   "execution_count": 2,
   "metadata": {},
   "outputs": [],
   "source": [
    "class Trie:\n",
    "    def __init__(self):\n",
    "        self.root = TrieNode()\n",
    "    def insert(self,word):\n",
    "        node = self.root\n",
    "        for c in word:\n",
    "            node = node.children[c]\n",
    "        node.end = True\n",
    "    def search(self,word):\n",
    "        node = self.root\n",
    "        for c in word:\n",
    "            node = node.children.get(c)\n",
    "            if not node:\n",
    "                return False\n",
    "        return node.end"
   ]
  },
  {
   "cell_type": "code",
   "execution_count": 3,
   "metadata": {},
   "outputs": [],
   "source": [
    "def find_words(board,words):\n",
    "    res = []\n",
    "    trie = Trie()\n",
    "    node = trie.root\n",
    "    for w in words:\n",
    "        trie.insert(w)\n",
    "    for i in range(len(board)):\n",
    "        for j in range(len(board[0])):\n",
    "            dfs(board,node,i,j,\"\",res)\n",
    "    return res"
   ]
  },
  {
   "cell_type": "code",
   "execution_count": 4,
   "metadata": {},
   "outputs": [],
   "source": [
    "def dfs(board,node,i,j,path,res):\n",
    "    if node.end:\n",
    "        res.append(path)\n",
    "        node.end = False \n",
    "    if i < 0 or i >= len(board) or j < 0 or j >= len(board[0]):\n",
    "        return\n",
    "    tmp = board[i][j]\n",
    "    node = node.children.get(tmp)\n",
    "    if not node:\n",
    "        return\n",
    "    board[i][j] = '#'\n",
    "    dfs(board,node,i+1,j,path+tmp,res)\n",
    "    dfs(board,node,i-1,j,path+tmp,res)    \n",
    "    dfs(board,node,i,j+1,path+tmp,res)    \n",
    "    dfs(board,node,i,j-1,path+tmp,res) \n",
    "    board[i][j] = tmp"
   ]
  },
  {
   "cell_type": "code",
   "execution_count": 5,
   "metadata": {},
   "outputs": [
    {
     "data": {
      "text/plain": [
       "['oath', 'eat']"
      ]
     },
     "execution_count": 5,
     "metadata": {},
     "output_type": "execute_result"
    }
   ],
   "source": [
    "find_words([[\"o\",\"a\",\"a\",\"n\"],[\"e\",\"t\",\"a\",\"e\"],[\"i\",\"h\",\"k\",\"r\"],[\"i\",\"f\",\"l\",\"v\"]],[\"oath\",\"pea\",\"eat\",\"rain\"])\n",
    "#Time Complexity O(W+(M*N)^2)"
   ]
  }
 ],
 "metadata": {
  "kernelspec": {
   "display_name": "Python 3",
   "language": "python",
   "name": "python3"
  },
  "language_info": {
   "codemirror_mode": {
    "name": "ipython",
    "version": 3
   },
   "file_extension": ".py",
   "mimetype": "text/x-python",
   "name": "python",
   "nbconvert_exporter": "python",
   "pygments_lexer": "ipython3",
   "version": "3.7.6"
  }
 },
 "nbformat": 4,
 "nbformat_minor": 4
}
