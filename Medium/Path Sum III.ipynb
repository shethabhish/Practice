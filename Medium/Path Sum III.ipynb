{
 "cells": [
  {
   "cell_type": "code",
   "execution_count": 1,
   "metadata": {},
   "outputs": [],
   "source": [
    "class Tree:\n",
    "    def __init__(self,val):\n",
    "        self.val = val\n",
    "        self.left = None\n",
    "        self.right = None"
   ]
  },
  {
   "cell_type": "code",
   "execution_count": 2,
   "metadata": {},
   "outputs": [],
   "source": [
    "def path_sum(root,sum):\n",
    "    return count(root,sum,[])"
   ]
  },
  {
   "cell_type": "code",
   "execution_count": 3,
   "metadata": {},
   "outputs": [],
   "source": [
    "def count(root,sum,temp):\n",
    "    if root is None:\n",
    "        return 0\n",
    "    temp.append(root.val)\n",
    "    cnt,pathsum = 0,0\n",
    "    for i in range(len(temp)-1,-1,-1):\n",
    "        pathsum += temp[i]\n",
    "        if pathsum == sum:\n",
    "            cnt += 1\n",
    "    cnt += count(root.left,sum,temp)\n",
    "    cnt += count(root.right,sum,temp)\n",
    "    del temp[-1]\n",
    "    return cnt"
   ]
  },
  {
   "cell_type": "code",
   "execution_count": 4,
   "metadata": {},
   "outputs": [
    {
     "data": {
      "text/plain": [
       "3"
      ]
     },
     "execution_count": 4,
     "metadata": {},
     "output_type": "execute_result"
    }
   ],
   "source": [
    "root = Tree(10)\n",
    "root.left = Tree(5)\n",
    "root.right = Tree(-3)\n",
    "root.left.left = Tree(3)\n",
    "root.left.right = Tree(2)\n",
    "root.left.left.left = Tree(3)\n",
    "root.left.left.right = Tree(-2)\n",
    "root.left.right.right = Tree(1)\n",
    "root.right.right = Tree(11)\n",
    "path_sum(root,8)\n",
    "#Time Complexity O(N)\n",
    "#Space Complexity O(N)"
   ]
  }
 ],
 "metadata": {
  "kernelspec": {
   "display_name": "Python 3",
   "language": "python",
   "name": "python3"
  },
  "language_info": {
   "codemirror_mode": {
    "name": "ipython",
    "version": 3
   },
   "file_extension": ".py",
   "mimetype": "text/x-python",
   "name": "python",
   "nbconvert_exporter": "python",
   "pygments_lexer": "ipython3",
   "version": "3.7.6"
  }
 },
 "nbformat": 4,
 "nbformat_minor": 4
}
