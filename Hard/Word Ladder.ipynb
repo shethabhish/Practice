{
 "cells": [
  {
   "cell_type": "code",
   "execution_count": 1,
   "metadata": {},
   "outputs": [],
   "source": [
    "from collections import defaultdict,deque\n",
    "def word_ladder(beginWord,endWord,wordList):\n",
    "    if endWord not in wordList or len(beginWord) != len(endWord):\n",
    "        return False\n",
    "    words = defaultdict(list)\n",
    "    for word in wordList:\n",
    "        for i in range(len(word)):\n",
    "            words[word[:i]+'*'+word[i+1:]].append(word)\n",
    "    queue = deque([(beginWord,1)])\n",
    "    visited = {beginWord: True}\n",
    "    while queue:\n",
    "        current,level = queue.popleft()\n",
    "        for i in range(len(beginWord)):\n",
    "            word = current[:i]+'*'+current[i+1:]\n",
    "            for i in words[word]:\n",
    "                if i == endWord:\n",
    "                    return level+1\n",
    "                if i not in visited:\n",
    "                    visited[i] = True\n",
    "                    queue.append((i,level+1))\n",
    "        words[word] = []\n",
    "    return 0"
   ]
  },
  {
   "cell_type": "code",
   "execution_count": 2,
   "metadata": {},
   "outputs": [
    {
     "data": {
      "text/plain": [
       "5"
      ]
     },
     "execution_count": 2,
     "metadata": {},
     "output_type": "execute_result"
    }
   ],
   "source": [
    "word_ladder(\"hit\",\"cog\",[\"hot\",\"dot\",\"dog\",\"lot\",\"log\",\"cog\"])\n",
    "#Time Complexity O(M^2*N)\n",
    "#Space Complexity O(M^2*N)"
   ]
  }
 ],
 "metadata": {
  "kernelspec": {
   "display_name": "Python 3",
   "language": "python",
   "name": "python3"
  },
  "language_info": {
   "codemirror_mode": {
    "name": "ipython",
    "version": 3
   },
   "file_extension": ".py",
   "mimetype": "text/x-python",
   "name": "python",
   "nbconvert_exporter": "python",
   "pygments_lexer": "ipython3",
   "version": "3.7.6"
  }
 },
 "nbformat": 4,
 "nbformat_minor": 4
}
