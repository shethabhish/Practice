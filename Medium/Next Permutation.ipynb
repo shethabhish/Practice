{
 "cells": [
  {
   "cell_type": "code",
   "execution_count": 1,
   "metadata": {},
   "outputs": [],
   "source": [
    "def next_permutation(nums):\n",
    "    i,j = len(nums)-1,len(nums)-1\n",
    "    while i > 0 and nums[i-1] >= nums[i]:\n",
    "        i -= 1\n",
    "    if i == 0:\n",
    "        return nums.reverse()\n",
    "    k = i-1\n",
    "    while nums[j] <= nums[k]:\n",
    "        j -= 1\n",
    "    nums[k],nums[j] = nums[j],nums[k]\n",
    "    l,r = k+1,len(nums)-1\n",
    "    while l < r:\n",
    "        nums[l],nums[r] = nums[r],nums[l]\n",
    "        l += 1\n",
    "        r -= 1\n",
    "    return nums"
   ]
  },
  {
   "cell_type": "code",
   "execution_count": 2,
   "metadata": {},
   "outputs": [
    {
     "data": {
      "text/plain": [
       "[1, 3, 2]"
      ]
     },
     "execution_count": 2,
     "metadata": {},
     "output_type": "execute_result"
    }
   ],
   "source": [
    "next_permutation([1,2,3])\n",
    "#Time Complexity O(N)\n",
    "#Space Complexity O(1)"
   ]
  }
 ],
 "metadata": {
  "kernelspec": {
   "display_name": "Python 3",
   "language": "python",
   "name": "python3"
  },
  "language_info": {
   "codemirror_mode": {
    "name": "ipython",
    "version": 3
   },
   "file_extension": ".py",
   "mimetype": "text/x-python",
   "name": "python",
   "nbconvert_exporter": "python",
   "pygments_lexer": "ipython3",
   "version": "3.7.6"
  }
 },
 "nbformat": 4,
 "nbformat_minor": 4
}
