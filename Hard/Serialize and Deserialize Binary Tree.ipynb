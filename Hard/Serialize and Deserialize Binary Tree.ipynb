{
 "cells": [
  {
   "cell_type": "code",
   "execution_count": 1,
   "metadata": {},
   "outputs": [],
   "source": [
    "class Tree:\n",
    "    def __init__(self,val):\n",
    "        self.val = val\n",
    "        self.left = None\n",
    "        self.right = None"
   ]
  },
  {
   "cell_type": "code",
   "execution_count": 2,
   "metadata": {},
   "outputs": [],
   "source": [
    "class Codec:\n",
    "    \n",
    "    def serialize(self,root):\n",
    "        def rserialize(root,string):\n",
    "            if root is None:\n",
    "                string += 'None,'\n",
    "            else:\n",
    "                string += str(root.val) + ','\n",
    "                string = rserialize(root.left,string)\n",
    "                string = rserialize(root.right,string)\n",
    "            return string\n",
    "        return rserialize(root,'')\n",
    "\n",
    "#Time Complexity O(N)\n",
    "#Space Complexity O(N)\n",
    "\n",
    "    def deserialize(self,data):\n",
    "        def rdeserialize(l):\n",
    "            if l[0] == 'None':\n",
    "                l.pop(0)\n",
    "                return None\n",
    "            root = Tree(l[0])\n",
    "            l.pop(0)\n",
    "            root.left = rdeserialize(l)\n",
    "            root.right = rdeserialize(l)\n",
    "            return root\n",
    "        data_list = data.split(',')\n",
    "        root = rdeserialize(data_list)\n",
    "        return root\n",
    "    \n",
    "#Time Complexity O(N)\n",
    "#Space Complexity O(N)"
   ]
  }
 ],
 "metadata": {
  "kernelspec": {
   "display_name": "Python 3",
   "language": "python",
   "name": "python3"
  },
  "language_info": {
   "codemirror_mode": {
    "name": "ipython",
    "version": 3
   },
   "file_extension": ".py",
   "mimetype": "text/x-python",
   "name": "python",
   "nbconvert_exporter": "python",
   "pygments_lexer": "ipython3",
   "version": "3.7.6"
  }
 },
 "nbformat": 4,
 "nbformat_minor": 4
}
