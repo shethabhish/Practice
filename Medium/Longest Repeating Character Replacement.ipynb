{
 "cells": [
  {
   "cell_type": "code",
   "execution_count": 1,
   "metadata": {},
   "outputs": [],
   "source": [
    "def longest_repeating(s,k):\n",
    "    windowstart,maxfreq,maxlength,freq = 0,0,0,{}\n",
    "    for windowend in range(len(s)):\n",
    "        right = s[windowend]\n",
    "        if right not in freq:\n",
    "            freq[right] = 0\n",
    "        freq[right] += 1\n",
    "        maxfreq = max(maxfreq,freq[right])\n",
    "        if windowend - windowstart + 1 - maxfreq > k:\n",
    "            left = s[windowstart]\n",
    "            windowstart += 1\n",
    "            freq[left] -= 1\n",
    "        maxlength = max(maxlength,windowend - windowstart + 1)\n",
    "    return maxlength"
   ]
  },
  {
   "cell_type": "code",
   "execution_count": 2,
   "metadata": {},
   "outputs": [
    {
     "data": {
      "text/plain": [
       "4"
      ]
     },
     "execution_count": 2,
     "metadata": {},
     "output_type": "execute_result"
    }
   ],
   "source": [
    "longest_repeating(\"ABAB\",2)\n",
    "#Time Complexity O(N)\n",
    "#Space Complexity O(N)"
   ]
  }
 ],
 "metadata": {
  "kernelspec": {
   "display_name": "Python 3",
   "language": "python",
   "name": "python3"
  },
  "language_info": {
   "codemirror_mode": {
    "name": "ipython",
    "version": 3
   },
   "file_extension": ".py",
   "mimetype": "text/x-python",
   "name": "python",
   "nbconvert_exporter": "python",
   "pygments_lexer": "ipython3",
   "version": "3.7.6"
  }
 },
 "nbformat": 4,
 "nbformat_minor": 4
}
