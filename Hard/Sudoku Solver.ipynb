{
 "cells": [
  {
   "cell_type": "code",
   "execution_count": 1,
   "metadata": {},
   "outputs": [],
   "source": [
    "from collections import defaultdict\n",
    "def solve_sudoku(board):\n",
    "    \n",
    "    def place_number(d,row,col):\n",
    "        rows[row][d] += 1\n",
    "        cols[col][d] += 1\n",
    "        boxes[boxindex(row,col)][d] += 1\n",
    "        board[row][col] = str(d)\n",
    "    \n",
    "    def backtrack(row=0,col=0):\n",
    "        if board[row][col] == '.':\n",
    "            for d in range(1,10):\n",
    "                if could_place(d,row,col):\n",
    "                    place_number(d,row,col)\n",
    "                    place_next_numbers(row,col)\n",
    "                    if not sudoku_solved:\n",
    "                        remove(d,row,col)\n",
    "        else:\n",
    "            place_next_numbers(row,col)\n",
    "    \n",
    "    def could_place(d,row,col):\n",
    "        return not (d in rows[row] or d in cols[col] or d in boxes[boxindex(row,col)])\n",
    "    \n",
    "    def place_next_numbers(row,col):\n",
    "        if col == N-1 and row == N-1:\n",
    "            nonlocal sudoku_solved\n",
    "            sudoku_solved = True\n",
    "        else:\n",
    "            if col == N-1:\n",
    "                backtrack(row+1,0)\n",
    "            else:\n",
    "                backtrack(row,col+1)\n",
    "    \n",
    "    def remove(d,row,col):\n",
    "        del rows[row][d]\n",
    "        del cols[col][d]\n",
    "        del boxes[boxindex(row,col)][d]\n",
    "        board[row][col] = \".\"\n",
    "    \n",
    "    n,N = 3,9\n",
    "    boxindex = lambda row,col: (row//n)*n + col//n\n",
    "    rows,cols,boxes = [defaultdict(int) for i in range(N)],[defaultdict(int) for i in range(N)],[defaultdict(int) for i in range(N)]\n",
    "    for i in range(N):\n",
    "        for j in range(N):\n",
    "            if board[i][j] != '.':\n",
    "                d = int(board[i][j])\n",
    "                place_number(d,i,j)\n",
    "    sudoku_solved = False\n",
    "    backtrack()\n",
    "    return board"
   ]
  },
  {
   "cell_type": "code",
   "execution_count": 2,
   "metadata": {},
   "outputs": [
    {
     "data": {
      "text/plain": [
       "[['5', '3', '4', '6', '7', '8', '9', '1', '2'],\n",
       " ['6', '7', '2', '1', '9', '5', '3', '4', '8'],\n",
       " ['1', '9', '8', '3', '4', '2', '5', '6', '7'],\n",
       " ['8', '5', '9', '7', '6', '1', '4', '2', '3'],\n",
       " ['4', '2', '6', '8', '5', '3', '7', '9', '1'],\n",
       " ['7', '1', '3', '9', '2', '4', '8', '5', '6'],\n",
       " ['9', '6', '1', '5', '3', '7', '2', '8', '4'],\n",
       " ['2', '8', '7', '4', '1', '9', '6', '3', '5'],\n",
       " ['3', '4', '5', '2', '8', '6', '1', '7', '9']]"
      ]
     },
     "execution_count": 2,
     "metadata": {},
     "output_type": "execute_result"
    }
   ],
   "source": [
    "solve_sudoku([[\"5\",\"3\",\".\",\".\",\"7\",\".\",\".\",\".\",\".\"],[\"6\",\".\",\".\",\"1\",\"9\",\"5\",\".\",\".\",\".\"],[\".\",\"9\",\"8\",\".\",\".\",\".\",\".\",\"6\",\".\"],[\"8\",\".\",\".\",\".\",\"6\",\".\",\".\",\".\",\"3\"],[\"4\",\".\",\".\",\"8\",\".\",\"3\",\".\",\".\",\"1\"],[\"7\",\".\",\".\",\".\",\"2\",\".\",\".\",\".\",\"6\"],[\".\",\"6\",\".\",\".\",\".\",\".\",\"2\",\"8\",\".\"],[\".\",\".\",\".\",\"4\",\"1\",\"9\",\".\",\".\",\"5\"],[\".\",\".\",\".\",\".\",\"8\",\".\",\".\",\"7\",\"9\"]])\n",
    "#Time Complexity O((9!)^9)\n",
    "#Space Complexity O(1)"
   ]
  }
 ],
 "metadata": {
  "kernelspec": {
   "display_name": "Python 3",
   "language": "python",
   "name": "python3"
  },
  "language_info": {
   "codemirror_mode": {
    "name": "ipython",
    "version": 3
   },
   "file_extension": ".py",
   "mimetype": "text/x-python",
   "name": "python",
   "nbconvert_exporter": "python",
   "pygments_lexer": "ipython3",
   "version": "3.7.6"
  }
 },
 "nbformat": 4,
 "nbformat_minor": 4
}
