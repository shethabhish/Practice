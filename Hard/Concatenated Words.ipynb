{
 "cells": [
  {
   "cell_type": "code",
   "execution_count": 1,
   "metadata": {},
   "outputs": [],
   "source": [
    "def concatenated_words(words):\n",
    "    wordset = set(words)\n",
    "    memo = {}\n",
    "    def dfs(word):\n",
    "        if word in memo:\n",
    "            return memo[word]\n",
    "        memo[word] = False\n",
    "        for i in range(1,len(word)):\n",
    "            prefix,suffix = word[:i],word[i:]\n",
    "            if prefix in wordset and suffix in wordset:\n",
    "                memo[word] = True\n",
    "                break\n",
    "            if prefix in wordset and dfs(suffix):\n",
    "                memo[word] = True\n",
    "                break\n",
    "        return memo[word]\n",
    "    result = []\n",
    "    for word in words:\n",
    "        if dfs(word):\n",
    "            result.append(word)\n",
    "    return result"
   ]
  },
  {
   "cell_type": "code",
   "execution_count": 2,
   "metadata": {},
   "outputs": [
    {
     "data": {
      "text/plain": [
       "['catsdogcats', 'dogcatsdog', 'ratcatdogcat']"
      ]
     },
     "execution_count": 2,
     "metadata": {},
     "output_type": "execute_result"
    }
   ],
   "source": [
    "concatenated_words([\"cat\",\"cats\",\"catsdogcats\",\"dog\",\"dogcatsdog\",\"hippopotamuses\",\"rat\",\"ratcatdogcat\"])\n",
    "#Time Complexity O(N*L^3)\n",
    "#Space Complexity O(N)"
   ]
  }
 ],
 "metadata": {
  "kernelspec": {
   "display_name": "Python 3",
   "language": "python",
   "name": "python3"
  },
  "language_info": {
   "codemirror_mode": {
    "name": "ipython",
    "version": 3
   },
   "file_extension": ".py",
   "mimetype": "text/x-python",
   "name": "python",
   "nbconvert_exporter": "python",
   "pygments_lexer": "ipython3",
   "version": "3.7.6"
  }
 },
 "nbformat": 4,
 "nbformat_minor": 4
}
