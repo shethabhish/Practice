{
 "cells": [
  {
   "cell_type": "code",
   "execution_count": 1,
   "metadata": {},
   "outputs": [],
   "source": [
    "def insert_interval(intervals,newinterval):\n",
    "    i = 0\n",
    "    result = []\n",
    "    intervals.sort(key = lambda x:x[0])\n",
    "    while i < len(intervals) and intervals[i][1] < newinterval[0]:\n",
    "        result.append(intervals[i])\n",
    "        i += 1\n",
    "    while i < len(intervals) and intervals[i][0] <= newinterval[1]:\n",
    "        newinterval[0] = min(newinterval[0],intervals[i][0])\n",
    "        newinterval[1] = max(newinterval[1],intervals[i][1])\n",
    "        i += 1\n",
    "    result.append(newinterval)\n",
    "    while i < len(intervals):\n",
    "        result.append(intervals[i])\n",
    "        i += 1\n",
    "    return result"
   ]
  },
  {
   "cell_type": "code",
   "execution_count": 2,
   "metadata": {},
   "outputs": [
    {
     "data": {
      "text/plain": [
       "[[1, 2], [3, 10], [12, 16]]"
      ]
     },
     "execution_count": 2,
     "metadata": {},
     "output_type": "execute_result"
    }
   ],
   "source": [
    "insert_interval([[1,2],[3,5],[6,7],[8,10],[12,16]],[4,8])\n",
    "#Time Complexity O(N)\n",
    "#Space Complexity O(N)"
   ]
  }
 ],
 "metadata": {
  "kernelspec": {
   "display_name": "Python 3",
   "language": "python",
   "name": "python3"
  },
  "language_info": {
   "codemirror_mode": {
    "name": "ipython",
    "version": 3
   },
   "file_extension": ".py",
   "mimetype": "text/x-python",
   "name": "python",
   "nbconvert_exporter": "python",
   "pygments_lexer": "ipython3",
   "version": "3.7.6"
  }
 },
 "nbformat": 4,
 "nbformat_minor": 4
}
