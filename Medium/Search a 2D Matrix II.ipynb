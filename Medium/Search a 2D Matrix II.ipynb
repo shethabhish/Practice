{
 "cells": [
  {
   "cell_type": "code",
   "execution_count": 1,
   "metadata": {},
   "outputs": [],
   "source": [
    "def search_matrix(matrix,target):\n",
    "    if not matrix:\n",
    "        return false\n",
    "    for i in range(min(len(matrix),len(matrix[0]))):\n",
    "        vertical = binary_search(matrix,target,i,True)\n",
    "        horizontal = binary_search(matrix,target,i,False)\n",
    "        if vertical or horizontal:\n",
    "            return True\n",
    "    return False"
   ]
  },
  {
   "cell_type": "code",
   "execution_count": 2,
   "metadata": {},
   "outputs": [],
   "source": [
    "def binary_search(matrix,target,start,vertical):\n",
    "    low,high = start,len(matrix[0])-1 if vertical else len(matrix)-1\n",
    "    while high >= low:\n",
    "        mid = (low+high)//2\n",
    "        if vertical:\n",
    "            if matrix[start][mid] < target:\n",
    "                low = mid + 1\n",
    "            elif matrix[start][mid] > target:\n",
    "                high = mid - 1\n",
    "            else:\n",
    "                return True\n",
    "        else:\n",
    "            if matrix[mid][start] < target:\n",
    "                low = mid + 1\n",
    "            elif matrix[mid][start] > target:\n",
    "                high = mid - 1\n",
    "            else:\n",
    "                return True\n",
    "    return False"
   ]
  },
  {
   "cell_type": "code",
   "execution_count": 3,
   "metadata": {},
   "outputs": [
    {
     "data": {
      "text/plain": [
       "True"
      ]
     },
     "execution_count": 3,
     "metadata": {},
     "output_type": "execute_result"
    }
   ],
   "source": [
    "search_matrix([[1,4,7,11,15],[2,5,8,12,19],[3,6,9,16,22],[10,13,14,17,24],[18,21,23,26,30]],5)\n",
    "#Time Complexity O(log(N!))\n",
    "#Space Complexity O(log(N!))"
   ]
  },
  {
   "cell_type": "code",
   "execution_count": 4,
   "metadata": {},
   "outputs": [],
   "source": [
    "def search_matrix(matrix,target):\n",
    "    if len(matrix) == 0 or len(matrix[0]) == 0:\n",
    "        return False\n",
    "    height,width = len(matrix),len(matrix[0])\n",
    "    row,col = height-1,0\n",
    "    while col < width and row >= 0:\n",
    "        if matrix[row][col] > target:\n",
    "            row -= 1\n",
    "        elif matrix[row][col] < target:\n",
    "            col += 1\n",
    "        else:\n",
    "            return True\n",
    "    return False"
   ]
  },
  {
   "cell_type": "code",
   "execution_count": 5,
   "metadata": {},
   "outputs": [
    {
     "data": {
      "text/plain": [
       "True"
      ]
     },
     "execution_count": 5,
     "metadata": {},
     "output_type": "execute_result"
    }
   ],
   "source": [
    "search_matrix([[1,4,7,11,15],[2,5,8,12,19],[3,6,9,16,22],[10,13,14,17,24],[18,21,23,26,30]],5)\n",
    "#Time Complexity O(M+N)\n",
    "#Space Complexity O(1)"
   ]
  }
 ],
 "metadata": {
  "kernelspec": {
   "display_name": "Python 3",
   "language": "python",
   "name": "python3"
  },
  "language_info": {
   "codemirror_mode": {
    "name": "ipython",
    "version": 3
   },
   "file_extension": ".py",
   "mimetype": "text/x-python",
   "name": "python",
   "nbconvert_exporter": "python",
   "pygments_lexer": "ipython3",
   "version": "3.7.6"
  }
 },
 "nbformat": 4,
 "nbformat_minor": 4
}
