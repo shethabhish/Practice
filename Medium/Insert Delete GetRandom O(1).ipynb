{
 "cells": [
  {
   "cell_type": "code",
   "execution_count": 1,
   "metadata": {},
   "outputs": [],
   "source": [
    "from random import choice\n",
    "class RandomizedSet:\n",
    "    def __init__(self):\n",
    "        self.dict = {}\n",
    "        self.arr = []\n",
    "    def insert(self,val):\n",
    "        if val in self.dict:\n",
    "            return False\n",
    "        self.dict[val] = len(self.arr)\n",
    "        self.arr.append(val)\n",
    "        return True\n",
    "    def remove(self,val):\n",
    "        if val not in self.dict:\n",
    "            return False\n",
    "        last,idx = self.arr[-1],self.dict[val]\n",
    "        self.arr[idx],self.dict[last] = last,idx\n",
    "        self.arr.pop()\n",
    "        del self.dict[val]\n",
    "        return True\n",
    "    def get_random(self):\n",
    "        return choice(self.arr)"
   ]
  },
  {
   "cell_type": "code",
   "execution_count": 2,
   "metadata": {},
   "outputs": [
    {
     "name": "stdout",
     "output_type": "stream",
     "text": [
      "True\n",
      "False\n",
      "True\n",
      "1\n",
      "True\n",
      "False\n",
      "2\n"
     ]
    }
   ],
   "source": [
    "rand = RandomizedSet()\n",
    "print(rand.insert(1))\n",
    "print(rand.remove(2))\n",
    "print(rand.insert(2))\n",
    "print(rand.get_random())\n",
    "print(rand.remove(1))\n",
    "print(rand.insert(2))\n",
    "print(rand.get_random())\n",
    "#Time Complexity O(1)\n",
    "#Space Complexity O(N)"
   ]
  }
 ],
 "metadata": {
  "kernelspec": {
   "display_name": "Python 3",
   "language": "python",
   "name": "python3"
  },
  "language_info": {
   "codemirror_mode": {
    "name": "ipython",
    "version": 3
   },
   "file_extension": ".py",
   "mimetype": "text/x-python",
   "name": "python",
   "nbconvert_exporter": "python",
   "pygments_lexer": "ipython3",
   "version": "3.7.6"
  }
 },
 "nbformat": 4,
 "nbformat_minor": 4
}
