{
 "cells": [
  {
   "cell_type": "code",
   "execution_count": 1,
   "metadata": {},
   "outputs": [],
   "source": [
    "from collections import deque\n",
    "def alien_dictionary(words):\n",
    "    if len(words) == 0:\n",
    "        return \"\"\n",
    "    indegree,graph = {},{}\n",
    "    for word in words:\n",
    "        for ch in word:\n",
    "            indegree[ch] = 0\n",
    "            graph[ch] = []\n",
    "    for i in range(len(words)-1):\n",
    "        w1,w2 = words[i],words[i+1]\n",
    "        for j in range(min(len(w1),len(w2))):\n",
    "            parent,child = w1[j],w2[j]\n",
    "            if parent != child:\n",
    "                graph[parent].append(child)\n",
    "                indegree[child] +=  1\n",
    "                break\n",
    "    sources = deque()\n",
    "    for key in indegree:\n",
    "        if indegree[key] == 0:\n",
    "            sources.append(key)\n",
    "    sortedOrder = []\n",
    "    while sources:\n",
    "        vertex = sources.popleft()\n",
    "        sortedOrder.append(vertex)\n",
    "        for child in graph[vertex]:\n",
    "            indegree[child] -= 1\n",
    "            if indegree[child] == 0:\n",
    "                sources.append(child)\n",
    "    if len(sortedOrder) != len(indegree):\n",
    "        return \"\"\n",
    "    return ''.join(sortedOrder)"
   ]
  },
  {
   "cell_type": "code",
   "execution_count": 2,
   "metadata": {},
   "outputs": [
    {
     "data": {
      "text/plain": [
       "'wertf'"
      ]
     },
     "execution_count": 2,
     "metadata": {},
     "output_type": "execute_result"
    }
   ],
   "source": [
    "alien_dictionary([\"wrt\",\"wrf\",\"er\",\"ett\",\"rftt\"])\n",
    "#Time Complexity O(V+E)\n",
    "#Space Complexity O(V+E)"
   ]
  }
 ],
 "metadata": {
  "kernelspec": {
   "display_name": "Python 3",
   "language": "python",
   "name": "python3"
  },
  "language_info": {
   "codemirror_mode": {
    "name": "ipython",
    "version": 3
   },
   "file_extension": ".py",
   "mimetype": "text/x-python",
   "name": "python",
   "nbconvert_exporter": "python",
   "pygments_lexer": "ipython3",
   "version": "3.7.6"
  }
 },
 "nbformat": 4,
 "nbformat_minor": 4
}
