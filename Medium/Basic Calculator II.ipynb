{
 "cells": [
  {
   "cell_type": "code",
   "execution_count": 1,
   "metadata": {},
   "outputs": [],
   "source": [
    "def basic_calculator(s):\n",
    "    operands,operators = [],[]\n",
    "    for i in s:\n",
    "        if i.isdigit():\n",
    "            operands.append(int(i))\n",
    "        else:\n",
    "            while operators and precedence(operators[-1]) >= precedence(i):\n",
    "                process(operands,operators)\n",
    "            operators.append(i)\n",
    "    while operators:\n",
    "        process(operands,operators)\n",
    "    return operands.pop()"
   ]
  },
  {
   "cell_type": "code",
   "execution_count": 2,
   "metadata": {},
   "outputs": [],
   "source": [
    "def process(operands,operators):\n",
    "    num2,num1 = operands.pop(),operands.pop()\n",
    "    operator = operators.pop()\n",
    "    if operator == '+':\n",
    "        operands.append(num1+num2)\n",
    "    elif operator == '-':\n",
    "        operands.append(num1-num2)\n",
    "    elif operator == '*':\n",
    "        operands.append(num1*num2)\n",
    "    elif operator == '/':\n",
    "        operands.append(num1/num2)"
   ]
  },
  {
   "cell_type": "code",
   "execution_count": 3,
   "metadata": {},
   "outputs": [],
   "source": [
    "def precedence(operator):\n",
    "    if operator == '*' or operator == '/':\n",
    "        return 2\n",
    "    elif operator == '+' or operator == '-':\n",
    "        return 1"
   ]
  },
  {
   "cell_type": "code",
   "execution_count": 4,
   "metadata": {},
   "outputs": [
    {
     "data": {
      "text/plain": [
       "7"
      ]
     },
     "execution_count": 4,
     "metadata": {},
     "output_type": "execute_result"
    }
   ],
   "source": [
    "basic_calculator(\"3+2*2\")\n",
    "#Time Complexity O(N^2)\n",
    "#Space Complexity O(N)"
   ]
  }
 ],
 "metadata": {
  "kernelspec": {
   "display_name": "Python 3",
   "language": "python",
   "name": "python3"
  },
  "language_info": {
   "codemirror_mode": {
    "name": "ipython",
    "version": 3
   },
   "file_extension": ".py",
   "mimetype": "text/x-python",
   "name": "python",
   "nbconvert_exporter": "python",
   "pygments_lexer": "ipython3",
   "version": "3.7.6"
  }
 },
 "nbformat": 4,
 "nbformat_minor": 4
}
