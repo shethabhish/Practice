{
 "cells": [
  {
   "cell_type": "code",
   "execution_count": 1,
   "metadata": {},
   "outputs": [],
   "source": [
    "def lemonade_change(bills):\n",
    "    five,ten = 0,0\n",
    "    for bill in bills:\n",
    "        if bill == 5:\n",
    "            five += 1\n",
    "        elif bill == 10:\n",
    "            if not five:\n",
    "                return False\n",
    "            five -= 1\n",
    "            ten += 1\n",
    "        else:\n",
    "            if ten and five:\n",
    "                ten -= 1\n",
    "                five -= 1\n",
    "            elif five >= 3:\n",
    "                five -= 3\n",
    "            else:\n",
    "                return False\n",
    "    return True"
   ]
  },
  {
   "cell_type": "code",
   "execution_count": 2,
   "metadata": {},
   "outputs": [
    {
     "data": {
      "text/plain": [
       "False"
      ]
     },
     "execution_count": 2,
     "metadata": {},
     "output_type": "execute_result"
    }
   ],
   "source": [
    "lemonade_change([5,5,10,10,20])\n",
    "#Time Complexity O(N)\n",
    "#Space Complexity O(1)"
   ]
  }
 ],
 "metadata": {
  "kernelspec": {
   "display_name": "Python 3",
   "language": "python",
   "name": "python3"
  },
  "language_info": {
   "codemirror_mode": {
    "name": "ipython",
    "version": 3
   },
   "file_extension": ".py",
   "mimetype": "text/x-python",
   "name": "python",
   "nbconvert_exporter": "python",
   "pygments_lexer": "ipython3",
   "version": "3.7.6"
  }
 },
 "nbformat": 4,
 "nbformat_minor": 4
}
