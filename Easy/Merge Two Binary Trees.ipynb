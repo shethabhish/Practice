{
 "cells": [
  {
   "cell_type": "code",
   "execution_count": 1,
   "metadata": {},
   "outputs": [],
   "source": [
    "class Tree:\n",
    "    def __init__(self,val):\n",
    "        self.val = val\n",
    "        self.left = None\n",
    "        self.right = None"
   ]
  },
  {
   "cell_type": "code",
   "execution_count": 2,
   "metadata": {},
   "outputs": [],
   "source": [
    "def merge_binary_trees(t1,t2):\n",
    "    if t1 is None:\n",
    "        return t2\n",
    "    if t2 is None:\n",
    "        return t1\n",
    "    t1.val += t2.val\n",
    "    t1.left = merge_binary_trees(t1.left,t2.left)\n",
    "    t1.right = merge_binary_trees(t1.right,t2.right)\n",
    "    return t1"
   ]
  },
  {
   "cell_type": "code",
   "execution_count": 3,
   "metadata": {},
   "outputs": [
    {
     "data": {
      "text/plain": [
       "<__main__.Tree at 0x17085598dc8>"
      ]
     },
     "execution_count": 3,
     "metadata": {},
     "output_type": "execute_result"
    }
   ],
   "source": [
    "t1 = Tree(1)\n",
    "t1.left = Tree(3)\n",
    "t1.left.left = Tree(5)\n",
    "t1.right = Tree(2)\n",
    "\n",
    "t2 = Tree(2)\n",
    "t2.left = Tree(1)\n",
    "t2.left.right = Tree(4)\n",
    "t2.right = Tree(3)\n",
    "t2.right.right = Tree(7)\n",
    "\n",
    "merge_binary_trees(t1,t2)"
   ]
  }
 ],
 "metadata": {
  "kernelspec": {
   "display_name": "Python 3",
   "language": "python",
   "name": "python3"
  },
  "language_info": {
   "codemirror_mode": {
    "name": "ipython",
    "version": 3
   },
   "file_extension": ".py",
   "mimetype": "text/x-python",
   "name": "python",
   "nbconvert_exporter": "python",
   "pygments_lexer": "ipython3",
   "version": "3.7.6"
  }
 },
 "nbformat": 4,
 "nbformat_minor": 4
}
