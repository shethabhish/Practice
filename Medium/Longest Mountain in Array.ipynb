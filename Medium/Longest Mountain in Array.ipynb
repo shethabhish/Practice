{
 "cells": [
  {
   "cell_type": "code",
   "execution_count": 1,
   "metadata": {},
   "outputs": [],
   "source": [
    "def longest_mountain_array(arr):\n",
    "    result = 0\n",
    "    for i in range(1,len(arr)-1):\n",
    "        if arr[i-1] < arr[i] > arr[i+1]:\n",
    "            left = right = i\n",
    "            while left and arr[left-1] < arr[left]:\n",
    "                left -= 1\n",
    "            while right+1 < len(arr) and arr[right] > arr[right+1]:\n",
    "                right += 1\n",
    "            if right - left + 1 > result:\n",
    "                result = right - left + 1\n",
    "    return result"
   ]
  },
  {
   "cell_type": "code",
   "execution_count": 2,
   "metadata": {},
   "outputs": [
    {
     "data": {
      "text/plain": [
       "5"
      ]
     },
     "execution_count": 2,
     "metadata": {},
     "output_type": "execute_result"
    }
   ],
   "source": [
    "longest_mountain_array([2,1,4,7,3,2,5])\n",
    "#Time Complexity O(N)\n",
    "#Space Complexity O(1)"
   ]
  }
 ],
 "metadata": {
  "kernelspec": {
   "display_name": "Python 3",
   "language": "python",
   "name": "python3"
  },
  "language_info": {
   "codemirror_mode": {
    "name": "ipython",
    "version": 3
   },
   "file_extension": ".py",
   "mimetype": "text/x-python",
   "name": "python",
   "nbconvert_exporter": "python",
   "pygments_lexer": "ipython3",
   "version": "3.7.6"
  }
 },
 "nbformat": 4,
 "nbformat_minor": 4
}
