{
 "cells": [
  {
   "cell_type": "code",
   "execution_count": 1,
   "metadata": {},
   "outputs": [],
   "source": [
    "def first_missing_positive(nums):\n",
    "    i = 0\n",
    "    while i <len(nums):\n",
    "        j = nums[i]-1\n",
    "        if nums[i] > 0 and nums[i] < len(nums) and nums[i] != nums[j]:\n",
    "            nums[i],nums[j] = nums[j],nums[i]\n",
    "        else:\n",
    "            i += 1\n",
    "    for i in range(len(nums)):\n",
    "        if i != nums[i]-1:\n",
    "            return i+1\n",
    "    return len(nums)+1"
   ]
  },
  {
   "cell_type": "code",
   "execution_count": 2,
   "metadata": {},
   "outputs": [
    {
     "data": {
      "text/plain": [
       "1"
      ]
     },
     "execution_count": 2,
     "metadata": {},
     "output_type": "execute_result"
    }
   ],
   "source": [
    "first_missing_positive([7,8,9,11,12])\n",
    "#Time Complexity O(N)\n",
    "#Space Complexity O(1)"
   ]
  }
 ],
 "metadata": {
  "kernelspec": {
   "display_name": "Python 3",
   "language": "python",
   "name": "python3"
  },
  "language_info": {
   "codemirror_mode": {
    "name": "ipython",
    "version": 3
   },
   "file_extension": ".py",
   "mimetype": "text/x-python",
   "name": "python",
   "nbconvert_exporter": "python",
   "pygments_lexer": "ipython3",
   "version": "3.7.6"
  }
 },
 "nbformat": 4,
 "nbformat_minor": 4
}
