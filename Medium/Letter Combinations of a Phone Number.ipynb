{
 "cells": [
  {
   "cell_type": "code",
   "execution_count": 1,
   "metadata": {},
   "outputs": [],
   "source": [
    "def letter_combinations(digits):\n",
    "    if len(digits) == 0:\n",
    "        return  []\n",
    "    buffer = [0]*len(digits)\n",
    "    result = []\n",
    "    mnemonics(digits,buffer,result,0,0)\n",
    "    return result"
   ]
  },
  {
   "cell_type": "code",
   "execution_count": 2,
   "metadata": {},
   "outputs": [],
   "source": [
    "def  mnemonics(digits,buffer,result,start,index):\n",
    "    if index >= len(buffer) or start >= len(digits):\n",
    "        result.append(''.join(buffer))\n",
    "        return \n",
    "    letters = get_letters(int(digits[start]))\n",
    "    if len(letters) == 0:\n",
    "        mnemonics(digits,buffer,result,start+1,index+1)\n",
    "        return\n",
    "    for i in letters:\n",
    "        buffer[index] = i\n",
    "        mnemonics(digits,buffer,result,start+1,index+1)"
   ]
  },
  {
   "cell_type": "code",
   "execution_count": 3,
   "metadata": {},
   "outputs": [],
   "source": [
    "def get_letters(digit):\n",
    "    digits = {\n",
    "            0: {},\n",
    "            1: {},\n",
    "            2: {\"a\",\"b\",\"c\"},\n",
    "            3: {\"d\",\"e\",\"f\"},\n",
    "            4: {\"g\",\"h\",\"i\"},\n",
    "            5: {\"j\",\"k\",\"l\"},\n",
    "            6: {\"m\",\"n\",\"o\"},\n",
    "            7: {\"p\",\"q\",\"r\",\"s\"},\n",
    "            8: {\"t\",\"u\",\"v\"},\n",
    "            9: {\"w\",\"x\",\"y\",\"z\"}\n",
    "        }\n",
    "    return digits.get(digit)"
   ]
  },
  {
   "cell_type": "code",
   "execution_count": 4,
   "metadata": {},
   "outputs": [
    {
     "data": {
      "text/plain": [
       "['bd', 'bf', 'be', 'ad', 'af', 'ae', 'cd', 'cf', 'ce']"
      ]
     },
     "execution_count": 4,
     "metadata": {},
     "output_type": "execute_result"
    }
   ],
   "source": [
    "letter_combinations(\"23\")"
   ]
  }
 ],
 "metadata": {
  "kernelspec": {
   "display_name": "Python 3",
   "language": "python",
   "name": "python3"
  },
  "language_info": {
   "codemirror_mode": {
    "name": "ipython",
    "version": 3
   },
   "file_extension": ".py",
   "mimetype": "text/x-python",
   "name": "python",
   "nbconvert_exporter": "python",
   "pygments_lexer": "ipython3",
   "version": "3.7.6"
  }
 },
 "nbformat": 4,
 "nbformat_minor": 4
}
