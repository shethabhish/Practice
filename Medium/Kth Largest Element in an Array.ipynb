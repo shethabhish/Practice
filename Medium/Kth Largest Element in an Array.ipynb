{
 "cells": [
  {
   "cell_type": "code",
   "execution_count": 1,
   "metadata": {},
   "outputs": [],
   "source": [
    "from random import randint\n",
    "def kth_largest(nums,k):\n",
    "    \n",
    "    def select(left,right,ksmallest):\n",
    "        if left == right:\n",
    "            return nums[left]\n",
    "        pivotindex = randint(left,right)\n",
    "        pivotindex = partition(left,right,pivotindex)\n",
    "        if ksmallest == pivotindex:\n",
    "            return nums[ksmallest]\n",
    "        elif ksmallest > pivotindex:\n",
    "            return select(pivotindex+1,right,ksmallest)\n",
    "        else:\n",
    "            return select(left,pivotindex-1,ksmallest)\n",
    "    \n",
    "    def partition(left,right,pivotindex):\n",
    "        pivot = nums[pivotindex]\n",
    "        nums[pivotindex],nums[right] = nums[right],nums[pivotindex]\n",
    "        storeindex = left\n",
    "        for i in range(left,right):\n",
    "            if nums[i] < pivot:\n",
    "                nums[storeindex],nums[i] = nums[i],nums[storeindex]\n",
    "                storeindex += 1\n",
    "        nums[right],nums[storeindex] = nums[storeindex],nums[right]\n",
    "        return storeindex\n",
    "    \n",
    "    return select(0,len(nums)-1,len(nums)-k)"
   ]
  },
  {
   "cell_type": "code",
   "execution_count": 2,
   "metadata": {},
   "outputs": [
    {
     "data": {
      "text/plain": [
       "5"
      ]
     },
     "execution_count": 2,
     "metadata": {},
     "output_type": "execute_result"
    }
   ],
   "source": [
    "kth_largest([3,2,1,5,6,4],2)\n",
    "#Time Complexity O(N)\n",
    "#Space Complexity O(N)"
   ]
  }
 ],
 "metadata": {
  "kernelspec": {
   "display_name": "Python 3",
   "language": "python",
   "name": "python3"
  },
  "language_info": {
   "codemirror_mode": {
    "name": "ipython",
    "version": 3
   },
   "file_extension": ".py",
   "mimetype": "text/x-python",
   "name": "python",
   "nbconvert_exporter": "python",
   "pygments_lexer": "ipython3",
   "version": "3.7.6"
  }
 },
 "nbformat": 4,
 "nbformat_minor": 4
}
