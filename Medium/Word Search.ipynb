{
 "cells": [
  {
   "cell_type": "code",
   "execution_count": 1,
   "metadata": {},
   "outputs": [],
   "source": [
    "def exists(board,word):\n",
    "    if not board:\n",
    "        return False\n",
    "    for i in range(len(board)):\n",
    "        for j in range(len(board[0])):\n",
    "            if dfs(board,i,j,word):\n",
    "                return True\n",
    "    return False"
   ]
  },
  {
   "cell_type": "code",
   "execution_count": 2,
   "metadata": {},
   "outputs": [],
   "source": [
    "def dfs(board,i,j,word):\n",
    "    if len(word) == 0:\n",
    "        return True\n",
    "    if i < 0 or i >= len(board) or j >= len(board[0]) or j < 0 or board[i][j] != word[0]:\n",
    "        return False\n",
    "    tmp = board[i][j]\n",
    "    board[i][j] = \"#\"\n",
    "    res = dfs(board,i+1,j,word[1:]) or dfs(board,i,j+1,word[1:]) or dfs(board,i-1,j,word[1:]) or dfs(board,i,j-1,word[1:])\n",
    "    board[i][j] = tmp\n",
    "    return res"
   ]
  },
  {
   "cell_type": "code",
   "execution_count": 3,
   "metadata": {},
   "outputs": [
    {
     "data": {
      "text/plain": [
       "True"
      ]
     },
     "execution_count": 3,
     "metadata": {},
     "output_type": "execute_result"
    }
   ],
   "source": [
    "exists([[\"A\",\"B\",\"C\",\"E\"],[\"S\",\"F\",\"C\",\"S\"],[\"A\",\"D\",\"E\",\"E\"]],\"ABCCED\")\n",
    "#Time Complexity O(M*N*4^s)\n",
    "#Space Complexity O(1)"
   ]
  }
 ],
 "metadata": {
  "kernelspec": {
   "display_name": "Python 3",
   "language": "python",
   "name": "python3"
  },
  "language_info": {
   "codemirror_mode": {
    "name": "ipython",
    "version": 3
   },
   "file_extension": ".py",
   "mimetype": "text/x-python",
   "name": "python",
   "nbconvert_exporter": "python",
   "pygments_lexer": "ipython3",
   "version": "3.7.6"
  }
 },
 "nbformat": 4,
 "nbformat_minor": 4
}
