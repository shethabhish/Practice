{
 "cells": [
  {
   "cell_type": "code",
   "execution_count": 1,
   "metadata": {},
   "outputs": [],
   "source": [
    "def target_sum(nums,s):\n",
    "    totalsum = sum(nums)\n",
    "    if totalsum < s or (s + totalsum)%2 == 1:\n",
    "        return 0\n",
    "    return count(nums,(s+totalsum)//2)"
   ]
  },
  {
   "cell_type": "code",
   "execution_count": 2,
   "metadata": {},
   "outputs": [],
   "source": [
    "def count(nums,s):\n",
    "    n = len(nums)\n",
    "    dp = [[0 for i in range(s+1)] for j in range(n)]\n",
    "    for i in range(0,n):\n",
    "        dp[i][0] = 1\n",
    "    for j in range(1,s+1):\n",
    "        dp[0][j] = 1 if nums[0] == j else 0\n",
    "    for i in range(1,n):\n",
    "        for j in range(1,s+1):\n",
    "            dp[i][j] = dp[i-1][j]\n",
    "            if j >= nums[i]:\n",
    "                dp[i][j] += dp[i-1][j-nums[i]]\n",
    "    return dp[n-1][s]"
   ]
  },
  {
   "cell_type": "code",
   "execution_count": 3,
   "metadata": {},
   "outputs": [
    {
     "data": {
      "text/plain": [
       "3"
      ]
     },
     "execution_count": 3,
     "metadata": {},
     "output_type": "execute_result"
    }
   ],
   "source": [
    "target_sum([1,1,2,3],1)\n",
    "#Time Complexity O(N^S)\n",
    "#Space Complexity O(N^S)"
   ]
  }
 ],
 "metadata": {
  "kernelspec": {
   "display_name": "Python 3",
   "language": "python",
   "name": "python3"
  },
  "language_info": {
   "codemirror_mode": {
    "name": "ipython",
    "version": 3
   },
   "file_extension": ".py",
   "mimetype": "text/x-python",
   "name": "python",
   "nbconvert_exporter": "python",
   "pygments_lexer": "ipython3",
   "version": "3.7.6"
  }
 },
 "nbformat": 4,
 "nbformat_minor": 4
}
