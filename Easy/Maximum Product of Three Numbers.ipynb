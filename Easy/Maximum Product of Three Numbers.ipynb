{
 "cells": [
  {
   "cell_type": "code",
   "execution_count": 1,
   "metadata": {},
   "outputs": [],
   "source": [
    "import math\n",
    "def maximum_product(nums):\n",
    "    min1,min2,max1,max2,max3 = math.inf,math.inf,-math.inf,-math.inf,-math.inf\n",
    "    for num in nums:\n",
    "        if num >= max1:\n",
    "            max3,max2,max1 = max2,max1,num\n",
    "        elif num >= max2:\n",
    "            max3,max2 = max2,num\n",
    "        elif num > max3:\n",
    "            max3 = num\n",
    "        if num <= min1:\n",
    "            min2,min1 = min1,num\n",
    "        elif num < min2:\n",
    "            min2 = num\n",
    "    return max(max1*max2*max3,max1*min1*min2)"
   ]
  },
  {
   "cell_type": "code",
   "execution_count": 2,
   "metadata": {},
   "outputs": [
    {
     "data": {
      "text/plain": [
       "24"
      ]
     },
     "execution_count": 2,
     "metadata": {},
     "output_type": "execute_result"
    }
   ],
   "source": [
    "maximum_product([1,2,3,4])"
   ]
  }
 ],
 "metadata": {
  "kernelspec": {
   "display_name": "Python 3",
   "language": "python",
   "name": "python3"
  },
  "language_info": {
   "codemirror_mode": {
    "name": "ipython",
    "version": 3
   },
   "file_extension": ".py",
   "mimetype": "text/x-python",
   "name": "python",
   "nbconvert_exporter": "python",
   "pygments_lexer": "ipython3",
   "version": "3.7.6"
  }
 },
 "nbformat": 4,
 "nbformat_minor": 4
}
