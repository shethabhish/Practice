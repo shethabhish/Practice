{
 "cells": [
  {
   "cell_type": "code",
   "execution_count": 1,
   "metadata": {},
   "outputs": [],
   "source": [
    "def pacific_atlanta(matrix):\n",
    "    if not matrix:\n",
    "        return []\n",
    "    directions = [(1,0),(0,1),(-1,0),(0,-1)]\n",
    "    m,n = len(matrix),len(matrix[0])\n",
    "    pvisited,avisited = [[False for _ in range(n)] for _ in range(m)],[[False for _ in range(n)] for _ in range(m)]\n",
    "    result = []\n",
    "    for i in range(m):\n",
    "        dfs(matrix,i,0,pvisited,m,n,directions)\n",
    "        dfs(matrix,i,n-1,avisited,m,n,directions)\n",
    "    for j in range(n):\n",
    "        dfs(matrix,0,j,pvisited,m,n,directions)\n",
    "        dfs(matrix,m-1,j,avisited,m,n,directions)\n",
    "    for i in range(m):\n",
    "        for j in range(n):\n",
    "            if pvisited[i][j] and avisited[i][j]:\n",
    "                result.append([i,j])\n",
    "    return result"
   ]
  },
  {
   "cell_type": "code",
   "execution_count": 2,
   "metadata": {},
   "outputs": [],
   "source": [
    "def dfs(matrix,i,j,visited,m,n,directions):\n",
    "    visited[i][j] = True\n",
    "    for dir in directions:\n",
    "        x,y = i+dir[0],j+dir[1]\n",
    "        if x < 0 or y < 0 or x >= m or y >= n or visited[x][y] or matrix[x][y] < matrix[i][j]:\n",
    "            continue\n",
    "        dfs(matrix,x,y,visited,m,n,directions)"
   ]
  },
  {
   "cell_type": "code",
   "execution_count": 3,
   "metadata": {},
   "outputs": [
    {
     "data": {
      "text/plain": [
       "[[0, 4], [1, 3], [1, 4], [2, 2], [3, 0], [3, 1], [4, 0]]"
      ]
     },
     "execution_count": 3,
     "metadata": {},
     "output_type": "execute_result"
    }
   ],
   "source": [
    "pacific_atlanta([[1,2,2,3,5],[3,2,3,4,4],[2,4,5,3,1],[6,7,1,4,5],[5,1,1,2,4]])\n",
    "#Time Complexity O(M*N)\n",
    "#Space Complexity O(M*N)"
   ]
  }
 ],
 "metadata": {
  "kernelspec": {
   "display_name": "Python 3",
   "language": "python",
   "name": "python3"
  },
  "language_info": {
   "codemirror_mode": {
    "name": "ipython",
    "version": 3
   },
   "file_extension": ".py",
   "mimetype": "text/x-python",
   "name": "python",
   "nbconvert_exporter": "python",
   "pygments_lexer": "ipython3",
   "version": "3.7.6"
  }
 },
 "nbformat": 4,
 "nbformat_minor": 4
}
