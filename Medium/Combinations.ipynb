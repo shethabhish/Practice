{
 "cells": [
  {
   "cell_type": "code",
   "execution_count": 1,
   "metadata": {},
   "outputs": [],
   "source": [
    "def combine(n,k):\n",
    "    result = []\n",
    "    arr = [i for i in range(1,n+1)]\n",
    "    \n",
    "    def print_all(arr,k):\n",
    "        if len(arr) == 0 or k > len(arr):\n",
    "            return None\n",
    "        buffer = [0]*k\n",
    "        print_combos(arr,buffer,0,0)\n",
    "    \n",
    "    def print_combos(arr,buffer,start,index):\n",
    "        if index == len(buffer):\n",
    "            temp = []\n",
    "            for i in buffer:\n",
    "                temp.append(i)\n",
    "            result.append(temp)\n",
    "            return \n",
    "        for i in range(start,len(arr)):\n",
    "            buffer[index] = arr[i]\n",
    "            print_combos(arr,buffer,i+1,index+1)\n",
    "    \n",
    "    print_all(arr,k)\n",
    "    return result"
   ]
  },
  {
   "cell_type": "code",
   "execution_count": 2,
   "metadata": {},
   "outputs": [
    {
     "data": {
      "text/plain": [
       "[[1, 2], [1, 3], [1, 4], [2, 3], [2, 4], [3, 4]]"
      ]
     },
     "execution_count": 2,
     "metadata": {},
     "output_type": "execute_result"
    }
   ],
   "source": [
    "combine(4,2)\n",
    "#Time Complexity O(K*N!/(N-K)!K!)\n",
    "#Space Complexity O(N!/(N-K)!K!)"
   ]
  }
 ],
 "metadata": {
  "kernelspec": {
   "display_name": "Python 3",
   "language": "python",
   "name": "python3"
  },
  "language_info": {
   "codemirror_mode": {
    "name": "ipython",
    "version": 3
   },
   "file_extension": ".py",
   "mimetype": "text/x-python",
   "name": "python",
   "nbconvert_exporter": "python",
   "pygments_lexer": "ipython3",
   "version": "3.7.6"
  }
 },
 "nbformat": 4,
 "nbformat_minor": 4
}
