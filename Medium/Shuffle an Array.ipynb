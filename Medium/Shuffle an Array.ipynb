{
 "cells": [
  {
   "cell_type": "code",
   "execution_count": 1,
   "metadata": {},
   "outputs": [],
   "source": [
    "import random\n",
    "class Shuffle:\n",
    "    def __init__(self,nums):\n",
    "        self.nums = nums\n",
    "        self.original = list(nums)\n",
    "    def reset(self):\n",
    "        self.array = self.original\n",
    "        self.original = list(self.original)\n",
    "        return self.array\n",
    "    def shuffle(self):\n",
    "        for i in range(len(self.nums)):\n",
    "            swap = random.randrange(i,len(self.nums))\n",
    "            self.nums[i],self.nums[swap] = self.nums[swap],self.nums[i]\n",
    "        return self.nums"
   ]
  },
  {
   "cell_type": "code",
   "execution_count": 2,
   "metadata": {},
   "outputs": [
    {
     "data": {
      "text/plain": [
       "[2, 1, 3]"
      ]
     },
     "execution_count": 2,
     "metadata": {},
     "output_type": "execute_result"
    }
   ],
   "source": [
    "sh = Shuffle([1,2,3])\n",
    "sh.shuffle()\n",
    "#Time Complexity O(N)\n",
    "#Space Complexity O(N)"
   ]
  }
 ],
 "metadata": {
  "kernelspec": {
   "display_name": "Python 3",
   "language": "python",
   "name": "python3"
  },
  "language_info": {
   "codemirror_mode": {
    "name": "ipython",
    "version": 3
   },
   "file_extension": ".py",
   "mimetype": "text/x-python",
   "name": "python",
   "nbconvert_exporter": "python",
   "pygments_lexer": "ipython3",
   "version": "3.7.6"
  }
 },
 "nbformat": 4,
 "nbformat_minor": 4
}
