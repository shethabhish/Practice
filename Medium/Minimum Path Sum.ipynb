{
 "cells": [
  {
   "cell_type": "code",
   "execution_count": 1,
   "metadata": {},
   "outputs": [],
   "source": [
    "def miniumum_path_sum(grid):\n",
    "    for i in range(len(grid)-1,-1,-1):\n",
    "        for j in range(len(grid[0])-1,-1,-1):\n",
    "            if i == len(grid)-1 and j != len(grid[0])-1:\n",
    "                grid[i][j] = grid[i][j] + grid[i][j+1]\n",
    "            elif i != len(grid)-1 and j == len(grid[0])-1:\n",
    "                grid[i][j] = grid[i][j]+grid[i+1][j]\n",
    "            elif i != len(grid)-1 and j != len(grid[0])-1:\n",
    "                grid[i][j] = grid[i][j] + min(grid[i+1][j],grid[i][j+1])\n",
    "    return grid[0][0]"
   ]
  },
  {
   "cell_type": "code",
   "execution_count": 2,
   "metadata": {},
   "outputs": [
    {
     "data": {
      "text/plain": [
       "7"
      ]
     },
     "execution_count": 2,
     "metadata": {},
     "output_type": "execute_result"
    }
   ],
   "source": [
    "miniumum_path_sum([[1,3,1],[1,5,1],[4,2,1]])\n",
    "#Time Complexity O(N^2)\n",
    "#Space Complexity O(1)"
   ]
  }
 ],
 "metadata": {
  "kernelspec": {
   "display_name": "Python 3",
   "language": "python",
   "name": "python3"
  },
  "language_info": {
   "codemirror_mode": {
    "name": "ipython",
    "version": 3
   },
   "file_extension": ".py",
   "mimetype": "text/x-python",
   "name": "python",
   "nbconvert_exporter": "python",
   "pygments_lexer": "ipython3",
   "version": "3.7.6"
  }
 },
 "nbformat": 4,
 "nbformat_minor": 4
}
