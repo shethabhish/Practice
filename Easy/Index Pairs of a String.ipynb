{
 "cells": [
  {
   "cell_type": "code",
   "execution_count": 1,
   "metadata": {},
   "outputs": [],
   "source": [
    "def index_pairs(text, words):\n",
    "    result = []\n",
    "    for word in words:\n",
    "        if word in text:\n",
    "            for i in range(len(text)-len(word)+1):\n",
    "                if text[i:i+len(word)] == word:\n",
    "                    result.append([i,i+len(word)-1])\n",
    "    result.sort()\n",
    "    return result"
   ]
  },
  {
   "cell_type": "code",
   "execution_count": 2,
   "metadata": {},
   "outputs": [
    {
     "data": {
      "text/plain": [
       "[[3, 7], [9, 13], [10, 17]]"
      ]
     },
     "execution_count": 2,
     "metadata": {},
     "output_type": "execute_result"
    }
   ],
   "source": [
    "index_pairs(\"thestoryofleetcodeandme\", [\"story\",\"fleet\",\"leetcode\"])\n",
    "#Time Complexity O(M*N*K)\n",
    "#Space Complexity O(N)"
   ]
  }
 ],
 "metadata": {
  "kernelspec": {
   "display_name": "Python 3",
   "language": "python",
   "name": "python3"
  },
  "language_info": {
   "codemirror_mode": {
    "name": "ipython",
    "version": 3
   },
   "file_extension": ".py",
   "mimetype": "text/x-python",
   "name": "python",
   "nbconvert_exporter": "python",
   "pygments_lexer": "ipython3",
   "version": "3.7.6"
  }
 },
 "nbformat": 4,
 "nbformat_minor": 4
}
