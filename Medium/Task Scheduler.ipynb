{
 "cells": [
  {
   "cell_type": "code",
   "execution_count": 1,
   "metadata": {},
   "outputs": [],
   "source": [
    "from collections import Counter\n",
    "from heapq import *\n",
    "def task_scheduler(tasks,k):\n",
    "    count = 0\n",
    "    taskfreq = Counter(tasks)\n",
    "    maxheap = []\n",
    "    for ch,fr in taskfreq.items():\n",
    "        heappush(maxheap,(-fr,ch))\n",
    "    while maxheap:\n",
    "        waitlist = []\n",
    "        n = k+1\n",
    "        while n > 0 and maxheap:\n",
    "            count += 1\n",
    "            freq,char = heappop(maxheap)\n",
    "            if -freq > 1:\n",
    "                waitlist.append((freq+1,char))\n",
    "            n -= 1\n",
    "        for fr,ch in waitlist:\n",
    "            heappush(maxheap,(fr,ch))\n",
    "        if maxheap:\n",
    "            count += n\n",
    "    return count"
   ]
  },
  {
   "cell_type": "code",
   "execution_count": 2,
   "metadata": {},
   "outputs": [
    {
     "data": {
      "text/plain": [
       "8"
      ]
     },
     "execution_count": 2,
     "metadata": {},
     "output_type": "execute_result"
    }
   ],
   "source": [
    "task_scheduler([\"A\",\"A\",\"A\",\"B\",\"B\",\"B\"],2)\n",
    "#Time Complexity O(N)\n",
    "#Space Complexity O(N)"
   ]
  },
  {
   "cell_type": "code",
   "execution_count": 3,
   "metadata": {},
   "outputs": [],
   "source": [
    "def task_scheduler(tasks,k):\n",
    "    frequencies = [0]*26\n",
    "    for t in tasks:\n",
    "        frequencies[ord(t) - ord('A')] += 1\n",
    "    maxfreq = max(frequencies)\n",
    "    nmax = frequencies.count(maxfreq)\n",
    "    return max(len(tasks),(maxfreq-1)*(k+1)+nmax)"
   ]
  },
  {
   "cell_type": "code",
   "execution_count": 4,
   "metadata": {},
   "outputs": [
    {
     "data": {
      "text/plain": [
       "8"
      ]
     },
     "execution_count": 4,
     "metadata": {},
     "output_type": "execute_result"
    }
   ],
   "source": [
    "task_scheduler([\"A\",\"A\",\"A\",\"B\",\"B\",\"B\"],2)\n",
    "#Time Complexity O(N)\n",
    "#Space Complexity O(N)"
   ]
  },
  {
   "cell_type": "code",
   "execution_count": null,
   "metadata": {},
   "outputs": [],
   "source": []
  }
 ],
 "metadata": {
  "kernelspec": {
   "display_name": "Python 3",
   "language": "python",
   "name": "python3"
  },
  "language_info": {
   "codemirror_mode": {
    "name": "ipython",
    "version": 3
   },
   "file_extension": ".py",
   "mimetype": "text/x-python",
   "name": "python",
   "nbconvert_exporter": "python",
   "pygments_lexer": "ipython3",
   "version": "3.7.6"
  }
 },
 "nbformat": 4,
 "nbformat_minor": 4
}
