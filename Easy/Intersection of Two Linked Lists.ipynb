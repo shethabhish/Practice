{
 "cells": [
  {
   "cell_type": "code",
   "execution_count": 1,
   "metadata": {},
   "outputs": [],
   "source": [
    "class Node:\n",
    "    def __init__(self,val):\n",
    "        self.val = val\n",
    "        self.next = None"
   ]
  },
  {
   "cell_type": "code",
   "execution_count": 2,
   "metadata": {},
   "outputs": [],
   "source": [
    "def intersections_two_linkedlists(headA,headB):\n",
    "    if not headA and not headB:\n",
    "        return None\n",
    "    pa,pb = headA,headB\n",
    "    while pa is not pb:\n",
    "        pa = headB if not pa else pa.next\n",
    "        pb = headA if not pb else pb.next\n",
    "    return pa.val"
   ]
  },
  {
   "cell_type": "code",
   "execution_count": 3,
   "metadata": {},
   "outputs": [],
   "source": [
    "headA = Node(4)\n",
    "headA.next = Node(1)\n",
    "headA.next.next = Node(8)\n",
    "headA.next.next.next = Node(4)\n",
    "headA.next.next.next.next  = Node(5)\n",
    "headB = Node(5)\n",
    "headB.next = Node(6)\n",
    "headB.next.next = Node(1)\n",
    "headB.next.next.next = headA.next.next"
   ]
  },
  {
   "cell_type": "code",
   "execution_count": 4,
   "metadata": {},
   "outputs": [
    {
     "data": {
      "text/plain": [
       "8"
      ]
     },
     "execution_count": 4,
     "metadata": {},
     "output_type": "execute_result"
    }
   ],
   "source": [
    "intersections_two_linkedlists(headA,headB)\n",
    "#Time Complexity O(N)\n",
    "#Space Complexity O(M+N)"
   ]
  }
 ],
 "metadata": {
  "kernelspec": {
   "display_name": "Python 3",
   "language": "python",
   "name": "python3"
  },
  "language_info": {
   "codemirror_mode": {
    "name": "ipython",
    "version": 3
   },
   "file_extension": ".py",
   "mimetype": "text/x-python",
   "name": "python",
   "nbconvert_exporter": "python",
   "pygments_lexer": "ipython3",
   "version": "3.7.6"
  }
 },
 "nbformat": 4,
 "nbformat_minor": 4
}
