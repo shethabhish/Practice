{
 "cells": [
  {
   "cell_type": "code",
   "execution_count": 1,
   "metadata": {},
   "outputs": [],
   "source": [
    "from collections import deque\n",
    "def valid_tree(n,edges):\n",
    "    if len(edges) != n-1:\n",
    "        return False\n",
    "    graph = [[] for i in range(n)]\n",
    "    seen = {0}\n",
    "    for u,v in edges:\n",
    "        graph[u].append(v)\n",
    "        graph[v].append(u)\n",
    "    queue = deque([0])\n",
    "    while queue:\n",
    "        node = queue.popleft()\n",
    "        for nei in graph[node]:\n",
    "            if nei in seen:\n",
    "                continue\n",
    "            seen.add(nei)\n",
    "            queue.append(nei)\n",
    "    return len(seen) == n"
   ]
  },
  {
   "cell_type": "code",
   "execution_count": 2,
   "metadata": {},
   "outputs": [
    {
     "data": {
      "text/plain": [
       "True"
      ]
     },
     "execution_count": 2,
     "metadata": {},
     "output_type": "execute_result"
    }
   ],
   "source": [
    "valid_tree(5,[[0,1], [0,2], [0,3], [1,4]])\n",
    "#Time Complexity O(N+E)\n",
    "#Space Complexity O(N+E)"
   ]
  }
 ],
 "metadata": {
  "kernelspec": {
   "display_name": "Python 3",
   "language": "python",
   "name": "python3"
  },
  "language_info": {
   "codemirror_mode": {
    "name": "ipython",
    "version": 3
   },
   "file_extension": ".py",
   "mimetype": "text/x-python",
   "name": "python",
   "nbconvert_exporter": "python",
   "pygments_lexer": "ipython3",
   "version": "3.7.6"
  }
 },
 "nbformat": 4,
 "nbformat_minor": 4
}
