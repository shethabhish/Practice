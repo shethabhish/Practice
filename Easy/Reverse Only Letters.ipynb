{
 "cells": [
  {
   "cell_type": "code",
   "execution_count": 1,
   "metadata": {},
   "outputs": [],
   "source": [
    "def reverse_only_letters(S):\n",
    "    s = [i for i in S]\n",
    "    left,right = 0,len(s)-1\n",
    "    while left < right:\n",
    "        if s[left].isalpha() and s[right].isalpha():\n",
    "            s[left],s[right] = s[right],s[left]\n",
    "            left += 1\n",
    "            right -= 1\n",
    "        if not s[right].isalpha():\n",
    "            right -= 1\n",
    "        if not s[left].isalpha():\n",
    "            left += 1\n",
    "    return ''.join(s)"
   ]
  },
  {
   "cell_type": "code",
   "execution_count": 2,
   "metadata": {},
   "outputs": [
    {
     "data": {
      "text/plain": [
       "'j-Ih-gfE-dCba'"
      ]
     },
     "execution_count": 2,
     "metadata": {},
     "output_type": "execute_result"
    }
   ],
   "source": [
    "reverse_only_letters(\"a-bC-dEf-ghIj\")\n",
    "#Time Complexity O(N)\n",
    "#Space Complexity O(N)"
   ]
  }
 ],
 "metadata": {
  "kernelspec": {
   "display_name": "Python 3",
   "language": "python",
   "name": "python3"
  },
  "language_info": {
   "codemirror_mode": {
    "name": "ipython",
    "version": 3
   },
   "file_extension": ".py",
   "mimetype": "text/x-python",
   "name": "python",
   "nbconvert_exporter": "python",
   "pygments_lexer": "ipython3",
   "version": "3.7.6"
  }
 },
 "nbformat": 4,
 "nbformat_minor": 4
}
