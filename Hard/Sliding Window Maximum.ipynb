{
 "cells": [
  {
   "cell_type": "code",
   "execution_count": 1,
   "metadata": {},
   "outputs": [],
   "source": [
    "from collections import deque\n",
    "def sliding_window_maximum(nums,k):\n",
    "    temp = deque()\n",
    "    result = []\n",
    "    for i,n in enumerate(nums):\n",
    "        while temp and nums[temp[-1]] < n:\n",
    "            temp.pop()\n",
    "        temp.append(i)\n",
    "        if temp[0] == i-k:\n",
    "            temp.popleft()\n",
    "        if i >= k-1:\n",
    "            result.append(nums[temp[0]])\n",
    "    return result"
   ]
  },
  {
   "cell_type": "code",
   "execution_count": 2,
   "metadata": {},
   "outputs": [
    {
     "data": {
      "text/plain": [
       "[3, 3, 5, 5, 6, 7]"
      ]
     },
     "execution_count": 2,
     "metadata": {},
     "output_type": "execute_result"
    }
   ],
   "source": [
    "sliding_window_maximum([1,3,-1,-3,5,3,6,7],3)\n",
    "#Time Complexity O(N^2)\n",
    "#Space Complexity O(N)"
   ]
  },
  {
   "cell_type": "code",
   "execution_count": 3,
   "metadata": {},
   "outputs": [],
   "source": [
    "def sliding_window_maximum(nums,k):\n",
    "    result = []\n",
    "    for i in range(len(nums)-k+1):\n",
    "        result.append(max(nums[i:i+k]))\n",
    "    return result"
   ]
  },
  {
   "cell_type": "code",
   "execution_count": 4,
   "metadata": {},
   "outputs": [
    {
     "data": {
      "text/plain": [
       "[3, 3, 5, 5, 6, 7]"
      ]
     },
     "execution_count": 4,
     "metadata": {},
     "output_type": "execute_result"
    }
   ],
   "source": [
    "sliding_window_maximum([1,3,-1,-3,5,3,6,7],3)\n",
    "#Time Complexity O(N^2)\n",
    "#Space Complexity O(N)"
   ]
  }
 ],
 "metadata": {
  "kernelspec": {
   "display_name": "Python 3",
   "language": "python",
   "name": "python3"
  },
  "language_info": {
   "codemirror_mode": {
    "name": "ipython",
    "version": 3
   },
   "file_extension": ".py",
   "mimetype": "text/x-python",
   "name": "python",
   "nbconvert_exporter": "python",
   "pygments_lexer": "ipython3",
   "version": "3.7.6"
  }
 },
 "nbformat": 4,
 "nbformat_minor": 4
}
