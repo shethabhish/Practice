{
 "cells": [
  {
   "cell_type": "code",
   "execution_count": 1,
   "metadata": {},
   "outputs": [],
   "source": [
    "class MaxStack(list):\n",
    "    def __init__(self):\n",
    "        self.stack = []\n",
    "    def push(self,x):\n",
    "        if not self.stack:\n",
    "            self.stack.append((x,x))\n",
    "        else:\n",
    "            mx = self.stack[-1][-1]\n",
    "            self.stack,append((x,max(x,mx)))\n",
    "    def pop(self):\n",
    "        if self.stack:\n",
    "            return self.stack.pop()[0]\n",
    "        return None\n",
    "    def top(self):\n",
    "        if self.stack:\n",
    "            return self.stack[-1][0]\n",
    "        return None\n",
    "    def peek_max(self):\n",
    "        if self.stack:\n",
    "            return self.stack[-1][-1]\n",
    "        return None\n",
    "    def pop_max(self):\n",
    "        top = self.stack.pop()\n",
    "        twmp = []\n",
    "        while top[0] != top[1]:\n",
    "            temp.append(top[0])\n",
    "            top = self.stack.pop()\n",
    "        for e in temp[::-1]:\n",
    "            self.push(e)\n",
    "        return top[0]"
   ]
  },
  {
   "cell_type": "code",
   "execution_count": null,
   "metadata": {},
   "outputs": [],
   "source": [
    "#Time Complexity O(N)\n",
    "#Space Complexity O(1)"
   ]
  }
 ],
 "metadata": {
  "kernelspec": {
   "display_name": "Python 3",
   "language": "python",
   "name": "python3"
  },
  "language_info": {
   "codemirror_mode": {
    "name": "ipython",
    "version": 3
   },
   "file_extension": ".py",
   "mimetype": "text/x-python",
   "name": "python",
   "nbconvert_exporter": "python",
   "pygments_lexer": "ipython3",
   "version": "3.7.6"
  }
 },
 "nbformat": 4,
 "nbformat_minor": 4
}
