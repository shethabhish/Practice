{
 "cells": [
  {
   "cell_type": "code",
   "execution_count": 1,
   "metadata": {},
   "outputs": [],
   "source": [
    "from heapq import *\n",
    "def meeting_rooms(intervals):\n",
    "    intervals.sort(key = lambda x:x[0])\n",
    "    minheap = []\n",
    "    maxrooms = 0\n",
    "    for i in intervals:\n",
    "        if minheap and minheap[0] <= i[0]:\n",
    "            heappop(minheap)\n",
    "        heappush(minheap,i[1])\n",
    "        maxrooms = max(maxrooms,len(minheap))\n",
    "    return maxrooms"
   ]
  },
  {
   "cell_type": "code",
   "execution_count": 2,
   "metadata": {},
   "outputs": [
    {
     "data": {
      "text/plain": [
       "2"
      ]
     },
     "execution_count": 2,
     "metadata": {},
     "output_type": "execute_result"
    }
   ],
   "source": [
    "meeting_rooms([[0,30],[5,10],[15,20]])"
   ]
  }
 ],
 "metadata": {
  "kernelspec": {
   "display_name": "Python 3",
   "language": "python",
   "name": "python3"
  },
  "language_info": {
   "codemirror_mode": {
    "name": "ipython",
    "version": 3
   },
   "file_extension": ".py",
   "mimetype": "text/x-python",
   "name": "python",
   "nbconvert_exporter": "python",
   "pygments_lexer": "ipython3",
   "version": "3.7.6"
  }
 },
 "nbformat": 4,
 "nbformat_minor": 4
}
