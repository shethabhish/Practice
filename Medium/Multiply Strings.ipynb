{
 "cells": [
  {
   "cell_type": "code",
   "execution_count": 1,
   "metadata": {},
   "outputs": [],
   "source": [
    "def multiply(num1, num2):\n",
    "    m,n = len(num1),len(num2)\n",
    "    result = [0]*(m+n)\n",
    "    for i in range(m-1,-1,-1):\n",
    "        carry = 0\n",
    "        for j in range(n-1,-1,-1):\n",
    "            temp = (ord(num1[i])-ord('0'))*(ord(num2[j])-ord('0'))+carry\n",
    "            carry = (result[i+j+1]+temp)//10\n",
    "            result[i+j+1] = (result[i+j+1]+temp)%10\n",
    "        result[i] += carry\n",
    "    result = ''.join(map(str,result))\n",
    "    return '0' if not result.lstrip('0') else result.lstrip('0')"
   ]
  },
  {
   "cell_type": "code",
   "execution_count": 2,
   "metadata": {},
   "outputs": [
    {
     "data": {
      "text/plain": [
       "'56088'"
      ]
     },
     "execution_count": 2,
     "metadata": {},
     "output_type": "execute_result"
    }
   ],
   "source": [
    "multiply(\"123\", \"456\")\n",
    "#Time Complexity O(N*M)\n",
    "#Space Complexity O(N*M)"
   ]
  }
 ],
 "metadata": {
  "kernelspec": {
   "display_name": "Python 3",
   "language": "python",
   "name": "python3"
  },
  "language_info": {
   "codemirror_mode": {
    "name": "ipython",
    "version": 3
   },
   "file_extension": ".py",
   "mimetype": "text/x-python",
   "name": "python",
   "nbconvert_exporter": "python",
   "pygments_lexer": "ipython3",
   "version": "3.7.6"
  }
 },
 "nbformat": 4,
 "nbformat_minor": 4
}
