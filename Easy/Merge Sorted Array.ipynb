{
 "cells": [
  {
   "cell_type": "code",
   "execution_count": 1,
   "metadata": {},
   "outputs": [],
   "source": [
    "def merge_sorted_array(nums1,m,nums2,n):\n",
    "    left,right,p = m-1,n-1,m+n-1\n",
    "    while left >= 0 and right >= 0:\n",
    "        if nums1[left] < nums2[right]:\n",
    "            nums1[p] = nums2[right]\n",
    "            right -= 1\n",
    "        else:\n",
    "            nums1[p] = nums1[left]\n",
    "            left -= 1\n",
    "        p -= 1\n",
    "    nums1[:right+1] = nums2[:right+1]\n",
    "    return nums1"
   ]
  },
  {
   "cell_type": "code",
   "execution_count": 2,
   "metadata": {},
   "outputs": [
    {
     "data": {
      "text/plain": [
       "[1, 2, 2, 3, 5, 6]"
      ]
     },
     "execution_count": 2,
     "metadata": {},
     "output_type": "execute_result"
    }
   ],
   "source": [
    "merge_sorted_array([1,2,3,0,0,0],3,[2,5,6],3)\n",
    "#Time Complexity O(N)\n",
    "#Space Complexity O(1)"
   ]
  }
 ],
 "metadata": {
  "kernelspec": {
   "display_name": "Python 3",
   "language": "python",
   "name": "python3"
  },
  "language_info": {
   "codemirror_mode": {
    "name": "ipython",
    "version": 3
   },
   "file_extension": ".py",
   "mimetype": "text/x-python",
   "name": "python",
   "nbconvert_exporter": "python",
   "pygments_lexer": "ipython3",
   "version": "3.7.6"
  }
 },
 "nbformat": 4,
 "nbformat_minor": 4
}
