{
 "cells": [
  {
   "cell_type": "code",
   "execution_count": 1,
   "metadata": {},
   "outputs": [],
   "source": [
    "from collections import Counter,defaultdict\n",
    "def find_substing(s,words):\n",
    "    wordBag = Counter(words)\n",
    "    wordLen,numWords = len(words[0]),len(words)\n",
    "    totalLen,result = wordLen*numWords,[]\n",
    "    for i in range(len(s)-totalLen+1):\n",
    "        seen = defaultdict(int)\n",
    "        for j in range(i,i+totalLen,wordLen):\n",
    "            curr = s[j:j+wordLen]\n",
    "            if curr in wordBag:\n",
    "                seen[curr] += 1\n",
    "                if seen[curr] > wordBag[curr]:\n",
    "                    break\n",
    "            else:\n",
    "                break\n",
    "        if seen == wordBag:\n",
    "            result.append(i)\n",
    "    return result"
   ]
  },
  {
   "cell_type": "code",
   "execution_count": 2,
   "metadata": {},
   "outputs": [
    {
     "data": {
      "text/plain": [
       "[0, 9]"
      ]
     },
     "execution_count": 2,
     "metadata": {},
     "output_type": "execute_result"
    }
   ],
   "source": [
    "find_substing(\"barfoothefoobarman\",[\"foo\",\"bar\"])\n",
    "#Time Complexity O(N^2)\n",
    "#Space Complexity O(N)"
   ]
  }
 ],
 "metadata": {
  "kernelspec": {
   "display_name": "Python 3",
   "language": "python",
   "name": "python3"
  },
  "language_info": {
   "codemirror_mode": {
    "name": "ipython",
    "version": 3
   },
   "file_extension": ".py",
   "mimetype": "text/x-python",
   "name": "python",
   "nbconvert_exporter": "python",
   "pygments_lexer": "ipython3",
   "version": "3.7.6"
  }
 },
 "nbformat": 4,
 "nbformat_minor": 4
}
