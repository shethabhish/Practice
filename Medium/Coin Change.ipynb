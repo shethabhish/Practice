{
 "cells": [
  {
   "cell_type": "code",
   "execution_count": 1,
   "metadata": {},
   "outputs": [],
   "source": [
    "def coin_change(coins,amount):\n",
    "    if amount == 0:\n",
    "        return 0\n",
    "    dp = [amount+1 for i in range(amount+1)]\n",
    "    dp[0] = 0\n",
    "    for i in range(1,amount+1):\n",
    "        for coin in coins:\n",
    "            if coin > i:\n",
    "                continue\n",
    "            else:\n",
    "                dp[i] = min(dp[i],dp[i-coin]+1)\n",
    "    return dp[amount] if dp[amount] != amount + 1 else -1"
   ]
  },
  {
   "cell_type": "code",
   "execution_count": 2,
   "metadata": {},
   "outputs": [
    {
     "data": {
      "text/plain": [
       "3"
      ]
     },
     "execution_count": 2,
     "metadata": {},
     "output_type": "execute_result"
    }
   ],
   "source": [
    "coin_change([1,2,5],11)\n",
    "#Time Complexity O(A)\n",
    "#Space Complexity O(A)"
   ]
  }
 ],
 "metadata": {
  "kernelspec": {
   "display_name": "Python 3",
   "language": "python",
   "name": "python3"
  },
  "language_info": {
   "codemirror_mode": {
    "name": "ipython",
    "version": 3
   },
   "file_extension": ".py",
   "mimetype": "text/x-python",
   "name": "python",
   "nbconvert_exporter": "python",
   "pygments_lexer": "ipython3",
   "version": "3.7.6"
  }
 },
 "nbformat": 4,
 "nbformat_minor": 4
}
