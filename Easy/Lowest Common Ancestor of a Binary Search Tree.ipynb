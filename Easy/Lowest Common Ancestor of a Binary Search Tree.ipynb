{
 "cells": [
  {
   "cell_type": "code",
   "execution_count": 1,
   "metadata": {},
   "outputs": [],
   "source": [
    "class Tree:\n",
    "    def __init__(self,val):\n",
    "        self.val = val\n",
    "        self.left = None\n",
    "        self.right = None"
   ]
  },
  {
   "cell_type": "code",
   "execution_count": 2,
   "metadata": {},
   "outputs": [],
   "source": [
    "def lowest_common_ancestor(root,p,q):\n",
    "    if p.val > root.val and q.val > root.val:\n",
    "        lowest_common_ancestor(root.right,p,q)\n",
    "    elif p.val < root.val and q.val < root.val:\n",
    "        lowest_common_ancestor(root.left,p,q)\n",
    "    else:\n",
    "        return root.val"
   ]
  },
  {
   "cell_type": "code",
   "execution_count": 3,
   "metadata": {},
   "outputs": [
    {
     "data": {
      "text/plain": [
       "6"
      ]
     },
     "execution_count": 3,
     "metadata": {},
     "output_type": "execute_result"
    }
   ],
   "source": [
    "root = Tree(6)\n",
    "root.left = Tree(2)\n",
    "root.right = Tree(8)\n",
    "root.left.left = Tree(0)\n",
    "root.left.right = Tree(4)\n",
    "root.left.right.left = Tree(3)\n",
    "root.left.right.right = Tree(5)\n",
    "root.right.left = Tree(7)\n",
    "root.right.right = Tree(9)\n",
    "lowest_common_ancestor(root,root.left,root.right)\n",
    "#Time Complexity O(N)\n",
    "#Space Complexity O(N)"
   ]
  }
 ],
 "metadata": {
  "kernelspec": {
   "display_name": "Python 3",
   "language": "python",
   "name": "python3"
  },
  "language_info": {
   "codemirror_mode": {
    "name": "ipython",
    "version": 3
   },
   "file_extension": ".py",
   "mimetype": "text/x-python",
   "name": "python",
   "nbconvert_exporter": "python",
   "pygments_lexer": "ipython3",
   "version": "3.7.6"
  }
 },
 "nbformat": 4,
 "nbformat_minor": 4
}
