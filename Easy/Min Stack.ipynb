{
 "cells": [
  {
   "cell_type": "code",
   "execution_count": 1,
   "metadata": {},
   "outputs": [],
   "source": [
    "class MinStack:\n",
    "    def __init__(self):\n",
    "        self.stack = []\n",
    "        self.minstack = []\n",
    "    def push(self,x):\n",
    "        self.stack.append(x)\n",
    "        if not self.minstack or x <= self.minstack[-1]:\n",
    "            self.minstack.append(x)\n",
    "    def pop(self):\n",
    "        if self.minstack[-1] == self.stack[-1]:\n",
    "            self.minstack.pop()\n",
    "        return self.stack.pop()\n",
    "    def top(self):\n",
    "        return self.stack[-1]\n",
    "    def get_min(self):\n",
    "        return self.minstack[-1]"
   ]
  },
  {
   "cell_type": "code",
   "execution_count": 2,
   "metadata": {},
   "outputs": [
    {
     "name": "stdout",
     "output_type": "stream",
     "text": [
      "-3\n",
      "-2\n"
     ]
    }
   ],
   "source": [
    "minstack = MinStack()\n",
    "minstack.push(-2)\n",
    "minstack.push(0)\n",
    "minstack.push(-3)\n",
    "print(minstack.get_min())\n",
    "minstack.pop()\n",
    "minstack.top()\n",
    "print(minstack.get_min())\n",
    "#Time Complexity O(N)\n",
    "#Space Complexity O(1)"
   ]
  }
 ],
 "metadata": {
  "kernelspec": {
   "display_name": "Python 3",
   "language": "python",
   "name": "python3"
  },
  "language_info": {
   "codemirror_mode": {
    "name": "ipython",
    "version": 3
   },
   "file_extension": ".py",
   "mimetype": "text/x-python",
   "name": "python",
   "nbconvert_exporter": "python",
   "pygments_lexer": "ipython3",
   "version": "3.7.6"
  }
 },
 "nbformat": 4,
 "nbformat_minor": 4
}
