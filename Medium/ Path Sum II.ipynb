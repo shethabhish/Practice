{
 "cells": [
  {
   "cell_type": "code",
   "execution_count": 1,
   "metadata": {},
   "outputs": [],
   "source": [
    "class Tree:\n",
    "    def __init__(self,val):\n",
    "        self.val = val\n",
    "        self.left = None\n",
    "        self.right = None"
   ]
  },
  {
   "cell_type": "code",
   "execution_count": 2,
   "metadata": {},
   "outputs": [],
   "source": [
    "def path_sum(root,sum):\n",
    "    allpaths = []\n",
    "    sum_path(root,sum,allpaths,[])\n",
    "    return allpaths"
   ]
  },
  {
   "cell_type": "code",
   "execution_count": 3,
   "metadata": {},
   "outputs": [],
   "source": [
    "def sum_path(root,sum,allpaths,temp):\n",
    "    if root is None:\n",
    "        return\n",
    "    temp.append(root.val)\n",
    "    if root.val == sum and root.left is None and root.right is None:\n",
    "        allpaths.append(list(temp))\n",
    "    else:\n",
    "        sum_path(root.left,sum-root.val,allpaths,temp)\n",
    "        sum_path(root.right,sum-root.val,allpaths,temp)\n",
    "    del temp[-1]"
   ]
  },
  {
   "cell_type": "code",
   "execution_count": 4,
   "metadata": {},
   "outputs": [
    {
     "data": {
      "text/plain": [
       "[[5, 4, 11, 2], [5, 8, 4, 5]]"
      ]
     },
     "execution_count": 4,
     "metadata": {},
     "output_type": "execute_result"
    }
   ],
   "source": [
    "root = Tree(5)\n",
    "root.left = Tree(4)\n",
    "root.right = Tree(8)\n",
    "root.left.left = Tree(11)\n",
    "root.left.left.left = Tree(7)\n",
    "root.left.left.right = Tree(2)\n",
    "root.right.left = Tree(13)\n",
    "root.right.right = Tree(4)\n",
    "root.right.right.left = Tree(5)\n",
    "root.right.right.right = Tree(1)\n",
    "path_sum(root,22)"
   ]
  }
 ],
 "metadata": {
  "kernelspec": {
   "display_name": "Python 3",
   "language": "python",
   "name": "python3"
  },
  "language_info": {
   "codemirror_mode": {
    "name": "ipython",
    "version": 3
   },
   "file_extension": ".py",
   "mimetype": "text/x-python",
   "name": "python",
   "nbconvert_exporter": "python",
   "pygments_lexer": "ipython3",
   "version": "3.7.6"
  }
 },
 "nbformat": 4,
 "nbformat_minor": 4
}
