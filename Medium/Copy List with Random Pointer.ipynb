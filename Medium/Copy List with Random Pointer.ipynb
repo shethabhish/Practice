{
 "cells": [
  {
   "cell_type": "code",
   "execution_count": 1,
   "metadata": {},
   "outputs": [],
   "source": [
    "class Node:\n",
    "    def __init__(self,val,next = None, random = None):\n",
    "        self.val = val\n",
    "        self.next = next\n",
    "        self.random = random"
   ]
  },
  {
   "cell_type": "code",
   "execution_count": 2,
   "metadata": {},
   "outputs": [],
   "source": [
    "def copy_random_pointer_list(head):\n",
    "    dict = defaultdict(lambda: Node(0,None,None))\n",
    "    dict[None] = None\n",
    "    current = head\n",
    "    while current:\n",
    "        dict[current].val = current.val\n",
    "        dict[current].next = current.next\n",
    "        dict[current].random = current.random\n",
    "        current = current.next\n",
    "    return dict[head]\n",
    "\n",
    "#Time Complexity O(N)\n",
    "#Space Complexity O(N)"
   ]
  }
 ],
 "metadata": {
  "kernelspec": {
   "display_name": "Python 3",
   "language": "python",
   "name": "python3"
  },
  "language_info": {
   "codemirror_mode": {
    "name": "ipython",
    "version": 3
   },
   "file_extension": ".py",
   "mimetype": "text/x-python",
   "name": "python",
   "nbconvert_exporter": "python",
   "pygments_lexer": "ipython3",
   "version": "3.7.6"
  }
 },
 "nbformat": 4,
 "nbformat_minor": 4
}
