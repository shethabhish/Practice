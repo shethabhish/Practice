{
 "cells": [
  {
   "cell_type": "code",
   "execution_count": 1,
   "metadata": {},
   "outputs": [],
   "source": [
    "from collections import deque\n",
    "def permutations(nums):\n",
    "    permu = deque()\n",
    "    permu.append([])\n",
    "    result = []\n",
    "    for i in nums:\n",
    "        for _ in range(len(permu)):\n",
    "            old = permu.popleft()\n",
    "            for j in range(len(old)+1):\n",
    "                newpermu = list(old)\n",
    "                newpermu.insert(j,i)\n",
    "                if len(newpermu) == len(nums):\n",
    "                    result.append(newpermu)\n",
    "                else:\n",
    "                    permu.append(newpermu)\n",
    "    return result"
   ]
  },
  {
   "cell_type": "code",
   "execution_count": 2,
   "metadata": {},
   "outputs": [
    {
     "data": {
      "text/plain": [
       "[[3, 2, 1], [2, 3, 1], [2, 1, 3], [3, 1, 2], [1, 3, 2], [1, 2, 3]]"
      ]
     },
     "execution_count": 2,
     "metadata": {},
     "output_type": "execute_result"
    }
   ],
   "source": [
    "permutations([1,2,3])\n",
    "#Time Complexity O(N!)\n",
    "#Space Complexity O(N!)"
   ]
  }
 ],
 "metadata": {
  "kernelspec": {
   "display_name": "Python 3",
   "language": "python",
   "name": "python3"
  },
  "language_info": {
   "codemirror_mode": {
    "name": "ipython",
    "version": 3
   },
   "file_extension": ".py",
   "mimetype": "text/x-python",
   "name": "python",
   "nbconvert_exporter": "python",
   "pygments_lexer": "ipython3",
   "version": "3.7.6"
  }
 },
 "nbformat": 4,
 "nbformat_minor": 4
}
