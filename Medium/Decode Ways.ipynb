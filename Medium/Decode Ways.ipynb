{
 "cells": [
  {
   "cell_type": "code",
   "execution_count": 1,
   "metadata": {},
   "outputs": [],
   "source": [
    "def decode_ways(s):\n",
    "    if not s:\n",
    "        return 0\n",
    "    return decode(s,{},0)"
   ]
  },
  {
   "cell_type": "code",
   "execution_count": 2,
   "metadata": {},
   "outputs": [],
   "source": [
    "def decode(s,alpha,index):\n",
    "    if index == len(s):\n",
    "        return 1\n",
    "    if s[index] == '0':\n",
    "        return \n",
    "    if index == len(s)-1:\n",
    "        return 1\n",
    "    if index in alpha:\n",
    "        return alpha[index]\n",
    "    ans = decode(s,alpha,index+1) + decode(s,alpha,index+2) if (int(s[index:index+2]) <= 26) else 0\n",
    "    alpha[index] = ans\n",
    "    return ans"
   ]
  },
  {
   "cell_type": "code",
   "execution_count": 3,
   "metadata": {},
   "outputs": [
    {
     "data": {
      "text/plain": [
       "3"
      ]
     },
     "execution_count": 3,
     "metadata": {},
     "output_type": "execute_result"
    }
   ],
   "source": [
    "decode_ways(\"226\")\n",
    "#Time Complexity O(N)\n",
    "#Space Complexity O(N)"
   ]
  }
 ],
 "metadata": {
  "kernelspec": {
   "display_name": "Python 3",
   "language": "python",
   "name": "python3"
  },
  "language_info": {
   "codemirror_mode": {
    "name": "ipython",
    "version": 3
   },
   "file_extension": ".py",
   "mimetype": "text/x-python",
   "name": "python",
   "nbconvert_exporter": "python",
   "pygments_lexer": "ipython3",
   "version": "3.7.6"
  }
 },
 "nbformat": 4,
 "nbformat_minor": 4
}
