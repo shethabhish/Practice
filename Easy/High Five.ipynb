{
 "cells": [
  {
   "cell_type": "code",
   "execution_count": 1,
   "metadata": {},
   "outputs": [],
   "source": [
    "from heapq import *\n",
    "from collections import defaultdict\n",
    "def high_five(items):\n",
    "    items.sort(key=lambda x:x[0])\n",
    "    dictionary = defaultdict(list)\n",
    "    for item in items:\n",
    "        if item[0] not in dictionary:\n",
    "            dictionary[item[0]]\n",
    "    for item in items:\n",
    "        dictionary[item[0]].append(item[1])\n",
    "        minheap,result = [],[]\n",
    "    for id,marks in dictionary.items():\n",
    "        for i in marks:\n",
    "            heappush(minheap,i)\n",
    "        for i in range(len(minheap)-5):\n",
    "            heappop(minheap)\n",
    "        result.append([id,sum(minheap)//5])\n",
    "        minheap = []\n",
    "    return result"
   ]
  },
  {
   "cell_type": "code",
   "execution_count": 2,
   "metadata": {},
   "outputs": [
    {
     "data": {
      "text/plain": [
       "[[1, 87], [2, 88]]"
      ]
     },
     "execution_count": 2,
     "metadata": {},
     "output_type": "execute_result"
    }
   ],
   "source": [
    "high_five([[1,91],[1,92],[2,93],[2,97],[1,60],[2,77],[1,65],[1,87],[1,100],[2,100],[2,76]])\n",
    "#Time Complexity O(NlogN)\n",
    "#Space Complexity O(N)"
   ]
  }
 ],
 "metadata": {
  "kernelspec": {
   "display_name": "Python 3",
   "language": "python",
   "name": "python3"
  },
  "language_info": {
   "codemirror_mode": {
    "name": "ipython",
    "version": 3
   },
   "file_extension": ".py",
   "mimetype": "text/x-python",
   "name": "python",
   "nbconvert_exporter": "python",
   "pygments_lexer": "ipython3",
   "version": "3.7.6"
  }
 },
 "nbformat": 4,
 "nbformat_minor": 4
}
