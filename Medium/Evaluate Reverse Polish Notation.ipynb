{
 "cells": [
  {
   "cell_type": "code",
   "execution_count": 1,
   "metadata": {},
   "outputs": [],
   "source": [
    "def eval_RPN(tokens):\n",
    "    operations = {\n",
    "        \"+\" : lambda a,b : a+b,\n",
    "        \"-\" : lambda a,b : a-b,\n",
    "        \"*\" : lambda a,b : a*b,\n",
    "        \"/\" : lambda a,b : a//b,\n",
    "    }\n",
    "    stack = []\n",
    "    for token in tokens:\n",
    "        if token in operations:\n",
    "            num2,num1 = stack.pop(),stack.pop()\n",
    "            operation = operations[token]\n",
    "            stack.append(operation(num1,num2))\n",
    "        else:\n",
    "            stack.append(int(token))\n",
    "    return stack.pop()"
   ]
  },
  {
   "cell_type": "code",
   "execution_count": 2,
   "metadata": {},
   "outputs": [
    {
     "data": {
      "text/plain": [
       "9"
      ]
     },
     "execution_count": 2,
     "metadata": {},
     "output_type": "execute_result"
    }
   ],
   "source": [
    "eval_RPN([\"2\", \"1\", \"+\", \"3\", \"*\"])\n",
    "#Time Complexity O(N)\n",
    "#Space Complexity O(N)"
   ]
  }
 ],
 "metadata": {
  "kernelspec": {
   "display_name": "Python 3",
   "language": "python",
   "name": "python3"
  },
  "language_info": {
   "codemirror_mode": {
    "name": "ipython",
    "version": 3
   },
   "file_extension": ".py",
   "mimetype": "text/x-python",
   "name": "python",
   "nbconvert_exporter": "python",
   "pygments_lexer": "ipython3",
   "version": "3.7.6"
  }
 },
 "nbformat": 4,
 "nbformat_minor": 4
}
