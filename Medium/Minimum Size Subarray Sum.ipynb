{
 "cells": [
  {
   "cell_type": "code",
   "execution_count": 1,
   "metadata": {},
   "outputs": [],
   "source": [
    "def min_subarray(nums,s):\n",
    "    windowstart,windowsum,minlength = 0,0,float(\"inf\")\n",
    "    for windowend in range(len(nums)):\n",
    "        windowsum += nums[windowend]\n",
    "        while windowsum >= s:\n",
    "            minlength = min(minlength,windowend-windowstart+1)\n",
    "            windowsum -= nums[windowstart]\n",
    "            windowstart += 1\n",
    "    return minlength if minlength != float(\"inf\") else 0"
   ]
  },
  {
   "cell_type": "code",
   "execution_count": 2,
   "metadata": {},
   "outputs": [
    {
     "data": {
      "text/plain": [
       "2"
      ]
     },
     "execution_count": 2,
     "metadata": {},
     "output_type": "execute_result"
    }
   ],
   "source": [
    "min_subarray([2,3,1,2,4,3],7)\n",
    "#Time Complexity O(N)\n",
    "#Space Complexity O(1)"
   ]
  }
 ],
 "metadata": {
  "kernelspec": {
   "display_name": "Python 3",
   "language": "python",
   "name": "python3"
  },
  "language_info": {
   "codemirror_mode": {
    "name": "ipython",
    "version": 3
   },
   "file_extension": ".py",
   "mimetype": "text/x-python",
   "name": "python",
   "nbconvert_exporter": "python",
   "pygments_lexer": "ipython3",
   "version": "3.7.6"
  }
 },
 "nbformat": 4,
 "nbformat_minor": 4
}
