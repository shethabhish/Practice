{
 "cells": [
  {
   "cell_type": "code",
   "execution_count": 1,
   "metadata": {},
   "outputs": [],
   "source": [
    "def trapping_rain_water(height):\n",
    "    leftmax,rightmax,ans = 0,0,0\n",
    "    left,right = 0,len(height)-1\n",
    "    while left < right:\n",
    "        if height[left] < height[right]:\n",
    "            if height[left] > leftmax:\n",
    "                leftmax = height[left]\n",
    "            else:\n",
    "                ans += leftmax - height[left]\n",
    "            left +=1\n",
    "        else:\n",
    "            if height[right] > rightmax:\n",
    "                rightmax = height[right]\n",
    "            else:\n",
    "                ans += rightmax - height[right]\n",
    "            right -= 1\n",
    "    return ans"
   ]
  },
  {
   "cell_type": "code",
   "execution_count": 2,
   "metadata": {},
   "outputs": [
    {
     "data": {
      "text/plain": [
       "6"
      ]
     },
     "execution_count": 2,
     "metadata": {},
     "output_type": "execute_result"
    }
   ],
   "source": [
    "trapping_rain_water([0,1,0,2,1,0,1,3,2,1,2,1])\n",
    "#Time Complexity O(N)\n",
    "#Space Complexity O(1)"
   ]
  }
 ],
 "metadata": {
  "kernelspec": {
   "display_name": "Python 3",
   "language": "python",
   "name": "python3"
  },
  "language_info": {
   "codemirror_mode": {
    "name": "ipython",
    "version": 3
   },
   "file_extension": ".py",
   "mimetype": "text/x-python",
   "name": "python",
   "nbconvert_exporter": "python",
   "pygments_lexer": "ipython3",
   "version": "3.7.6"
  }
 },
 "nbformat": 4,
 "nbformat_minor": 4
}
