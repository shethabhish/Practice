{
 "cells": [
  {
   "cell_type": "code",
   "execution_count": 1,
   "metadata": {},
   "outputs": [],
   "source": [
    "def interleaving_string(s1,s2,s3):\n",
    "    if len(s3) != len(s1)+len(s2):\n",
    "        return False\n",
    "    dp = [[False for i in range(len(s2)+1)] for j in range(len(s1)+1)]\n",
    "    for i in range(len(s1)+1):\n",
    "        for j in range(len(s2)+1):\n",
    "            if i == 0 and j == 0:\n",
    "                dp[i][j] = True\n",
    "            elif i == 0:\n",
    "                dp[i][j] = (dp[i][j-1] and s2[j-1] == s3[i+j-1])\n",
    "            elif j == 0:\n",
    "                dp[i][j] = (dp[i-1][j] and s1[i-1] == s3[i+j-1])\n",
    "            else:\n",
    "                dp[i][j] = (dp[i-1][j] and s1[i-1] == s3[i+j-1]) or (dp[i][j-1] and s2[j-1] == s3[i+j-1])\n",
    "    return dp[-1][-1]"
   ]
  },
  {
   "cell_type": "code",
   "execution_count": 2,
   "metadata": {},
   "outputs": [
    {
     "data": {
      "text/plain": [
       "True"
      ]
     },
     "execution_count": 2,
     "metadata": {},
     "output_type": "execute_result"
    }
   ],
   "source": [
    "interleaving_string(\"aabcc\",\"dbbca\",\"aadbbcbcac\")\n",
    "#Time Complexity O(S1*S2)\n",
    "#Space Complexity O(S1*S2)"
   ]
  }
 ],
 "metadata": {
  "kernelspec": {
   "display_name": "Python 3",
   "language": "python",
   "name": "python3"
  },
  "language_info": {
   "codemirror_mode": {
    "name": "ipython",
    "version": 3
   },
   "file_extension": ".py",
   "mimetype": "text/x-python",
   "name": "python",
   "nbconvert_exporter": "python",
   "pygments_lexer": "ipython3",
   "version": "3.7.6"
  }
 },
 "nbformat": 4,
 "nbformat_minor": 4
}
