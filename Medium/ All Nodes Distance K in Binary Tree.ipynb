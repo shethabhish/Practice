{
 "cells": [
  {
   "cell_type": "code",
   "execution_count": 1,
   "metadata": {},
   "outputs": [],
   "source": [
    "class Tree:\n",
    "    def __init__(self,val):\n",
    "        self.val = val\n",
    "        self.left = None\n",
    "        self.right = None"
   ]
  },
  {
   "cell_type": "code",
   "execution_count": 2,
   "metadata": {},
   "outputs": [],
   "source": [
    "from collections import defaultdict\n",
    "def distance_k(root,target,k):\n",
    "    graph = defaultdict(list)\n",
    "    build_graph(graph,root,None)\n",
    "    queue = [(target,0)]\n",
    "    visited = set()\n",
    "    result = []\n",
    "    while queue:\n",
    "        node,distance = queue.pop(0)\n",
    "        if node in visited:\n",
    "            continue\n",
    "        visited.add(node)\n",
    "        if distance == k:\n",
    "            result.append(node.val)\n",
    "        elif distance < k:\n",
    "            for child in graph[node]:\n",
    "                queue.append((child,distance+1))\n",
    "    return result"
   ]
  },
  {
   "cell_type": "code",
   "execution_count": 3,
   "metadata": {},
   "outputs": [],
   "source": [
    "def build_graph(graph,node,parent):\n",
    "    if node is None:\n",
    "        return\n",
    "    if parent is not None:\n",
    "        graph[node].append(parent)\n",
    "    if node.left:\n",
    "        graph[node].append(node.left)\n",
    "        build_graph(graph,node.left,node)\n",
    "    if node.right:\n",
    "        graph[node].append(node.right)\n",
    "        build_graph(graph,node.right,node)"
   ]
  },
  {
   "cell_type": "code",
   "execution_count": 4,
   "metadata": {},
   "outputs": [
    {
     "data": {
      "text/plain": [
       "[1, 7, 4]"
      ]
     },
     "execution_count": 4,
     "metadata": {},
     "output_type": "execute_result"
    }
   ],
   "source": [
    "root = Tree(3)\n",
    "root.left = Tree(5)\n",
    "root.right = Tree(1)\n",
    "root.left.left = Tree(6)\n",
    "root.left.right = Tree(2)\n",
    "root.left.right.left = Tree(7)\n",
    "root.left.right.right = Tree(4)\n",
    "root.right.left = Tree(0)\n",
    "root.right.right = Tree(8)\n",
    "distance_k(root,root.left,2)\n",
    "#Time Complexity O(N)\n",
    "#Space Complexity O(N)"
   ]
  }
 ],
 "metadata": {
  "kernelspec": {
   "display_name": "Python 3",
   "language": "python",
   "name": "python3"
  },
  "language_info": {
   "codemirror_mode": {
    "name": "ipython",
    "version": 3
   },
   "file_extension": ".py",
   "mimetype": "text/x-python",
   "name": "python",
   "nbconvert_exporter": "python",
   "pygments_lexer": "ipython3",
   "version": "3.7.6"
  }
 },
 "nbformat": 4,
 "nbformat_minor": 4
}
