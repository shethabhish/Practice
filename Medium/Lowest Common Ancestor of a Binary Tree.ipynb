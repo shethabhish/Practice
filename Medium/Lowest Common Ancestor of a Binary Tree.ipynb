{
 "cells": [
  {
   "cell_type": "code",
   "execution_count": 1,
   "metadata": {},
   "outputs": [],
   "source": [
    "class Tree:\n",
    "    def __init__(self,val):\n",
    "        self.val = val\n",
    "        self.left = None\n",
    "        self.right = None"
   ]
  },
  {
   "cell_type": "code",
   "execution_count": 2,
   "metadata": {},
   "outputs": [],
   "source": [
    "class LCA:\n",
    "    def __init__(self):\n",
    "        self.result = None\n",
    "    def lowest_common_ancestor(self,root,p,q):\n",
    "        def recurse_tree(current):\n",
    "            if current is None:\n",
    "                return False\n",
    "            left =recurse_tree(current.left)\n",
    "            right = recurse_tree(current.right)\n",
    "            mid = current == p or current == q\n",
    "            if left+right+mid >= 2:\n",
    "                self.result = current.val\n",
    "            return mid or left or right\n",
    "        recurse_tree(root)\n",
    "        return self.result"
   ]
  },
  {
   "cell_type": "code",
   "execution_count": 3,
   "metadata": {},
   "outputs": [],
   "source": [
    "root = Tree(2)\n",
    "root.left = Tree(5)\n",
    "root.right = Tree(1)\n",
    "root.left.left = Tree(6)\n",
    "root.left.right = Tree(2)\n",
    "root.left.right.left = Tree(7)\n",
    "root.left.right.right = Tree(4)\n",
    "root.right.left = Tree(0)\n",
    "root.right.right = Tree(8)"
   ]
  },
  {
   "cell_type": "code",
   "execution_count": 4,
   "metadata": {},
   "outputs": [
    {
     "data": {
      "text/plain": [
       "2"
      ]
     },
     "execution_count": 4,
     "metadata": {},
     "output_type": "execute_result"
    }
   ],
   "source": [
    "lca = LCA()\n",
    "lca.lowest_common_ancestor(root,root.left,root.right)\n",
    "#Time Complexity O(N)\n",
    "#Space Complexity O(1)"
   ]
  }
 ],
 "metadata": {
  "kernelspec": {
   "display_name": "Python 3",
   "language": "python",
   "name": "python3"
  },
  "language_info": {
   "codemirror_mode": {
    "name": "ipython",
    "version": 3
   },
   "file_extension": ".py",
   "mimetype": "text/x-python",
   "name": "python",
   "nbconvert_exporter": "python",
   "pygments_lexer": "ipython3",
   "version": "3.7.6"
  }
 },
 "nbformat": 4,
 "nbformat_minor": 4
}
