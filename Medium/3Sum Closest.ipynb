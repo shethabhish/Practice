{
 "cells": [
  {
   "cell_type": "code",
   "execution_count": 1,
   "metadata": {},
   "outputs": [],
   "source": [
    "def theree_sum_closest(arr,target):\n",
    "    arr.sort()\n",
    "    smallestdiff = float(\"inf\")\n",
    "    for i in range(len(arr)-2):\n",
    "        left,right = i+1,len(arr)-1\n",
    "        while left < right:\n",
    "            diff = target - arr[i] - arr[left] - arr[right]\n",
    "            if diff == 0:\n",
    "                return target - diff\n",
    "            if abs(diff) < abs(smallestdiff) or (abs(diff) == abs(smallestdiff) and diff > smallestdiff):\n",
    "                smallestdiff = diff\n",
    "            if diff > 0:\n",
    "                left += 1\n",
    "            else:\n",
    "                right -= 1\n",
    "    return target - smallestdiff"
   ]
  },
  {
   "cell_type": "code",
   "execution_count": 2,
   "metadata": {},
   "outputs": [
    {
     "data": {
      "text/plain": [
       "2"
      ]
     },
     "execution_count": 2,
     "metadata": {},
     "output_type": "execute_result"
    }
   ],
   "source": [
    "theree_sum_closest([-1,2,1,-4],1)\n",
    "#Time Complexity O(N^2)\n",
    "#Space Complexity O(1)"
   ]
  }
 ],
 "metadata": {
  "kernelspec": {
   "display_name": "Python 3",
   "language": "python",
   "name": "python3"
  },
  "language_info": {
   "codemirror_mode": {
    "name": "ipython",
    "version": 3
   },
   "file_extension": ".py",
   "mimetype": "text/x-python",
   "name": "python",
   "nbconvert_exporter": "python",
   "pygments_lexer": "ipython3",
   "version": "3.7.6"
  }
 },
 "nbformat": 4,
 "nbformat_minor": 4
}
