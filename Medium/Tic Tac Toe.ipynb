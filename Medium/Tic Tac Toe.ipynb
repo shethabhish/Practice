{
 "cells": [
  {
   "cell_type": "code",
   "execution_count": 1,
   "metadata": {},
   "outputs": [],
   "source": [
    "class Player:\n",
    "    def __init__(self,n):\n",
    "        self.rows = [0]*n\n",
    "        self.cols = [0]*n        \n",
    "        self.diags = [0]*2        "
   ]
  },
  {
   "cell_type": "code",
   "execution_count": 2,
   "metadata": {},
   "outputs": [],
   "source": [
    "class TicTacToe:\n",
    "    def __init__(self,n):\n",
    "        self.a = Player(n)\n",
    "        self.b = Player(n)\n",
    "        self.n = n\n",
    "    def move(self,row,col,player):\n",
    "        p = self.a if player == 1 else self.b\n",
    "        p.rows[row] += 1\n",
    "        p.cols[col] += 1\n",
    "        if row == col:\n",
    "            p.diags[0] += 1\n",
    "        if row+col == self.n-1:\n",
    "            p.diags[1] += 1\n",
    "        if self.n in (p.rows[row],p.cols[col],p.diags[0],p.diags[1]):\n",
    "            if p == self.a:\n",
    "                return 1\n",
    "            else:\n",
    "                return 2\n",
    "        return 0"
   ]
  },
  {
   "cell_type": "code",
   "execution_count": 3,
   "metadata": {},
   "outputs": [
    {
     "name": "stdout",
     "output_type": "stream",
     "text": [
      "0\n",
      "0\n",
      "0\n",
      "0\n",
      "0\n",
      "0\n",
      "1\n"
     ]
    }
   ],
   "source": [
    "tic = TicTacToe(3)\n",
    "print(tic.move(0,0,1))\n",
    "print(tic.move(0,2,2))\n",
    "print(tic.move(2,2,1))\n",
    "print(tic.move(1,1,2))\n",
    "print(tic.move(2,0,1))\n",
    "print(tic.move(1,0,2))\n",
    "print(tic.move(2,1,1))\n",
    "#Time Complexity O(N)\n",
    "#Space Complexity O(N)"
   ]
  }
 ],
 "metadata": {
  "kernelspec": {
   "display_name": "Python 3",
   "language": "python",
   "name": "python3"
  },
  "language_info": {
   "codemirror_mode": {
    "name": "ipython",
    "version": 3
   },
   "file_extension": ".py",
   "mimetype": "text/x-python",
   "name": "python",
   "nbconvert_exporter": "python",
   "pygments_lexer": "ipython3",
   "version": "3.7.6"
  }
 },
 "nbformat": 4,
 "nbformat_minor": 4
}
