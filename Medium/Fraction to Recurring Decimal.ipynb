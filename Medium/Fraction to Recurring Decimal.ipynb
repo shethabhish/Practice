{
 "cells": [
  {
   "cell_type": "code",
   "execution_count": 1,
   "metadata": {},
   "outputs": [],
   "source": [
    "def fraction_to_decimal(numerator,denominator):\n",
    "    if numerator%denominator == 0:\n",
    "        return str(numerator%denominator)\n",
    "    sign = '' if numerator*denominator > 0 else '-'\n",
    "    numerator,denominator = abs(numerator),abs(denominator)\n",
    "    result = sign+str(numerator//denominator)+'.'\n",
    "    numerator %= denominator\n",
    "    i,part = 0,''\n",
    "    m = {numerator:i}\n",
    "    while numerator%denominator:\n",
    "        numerator *= 10\n",
    "        i += 1\n",
    "        rem = numerator%denominator\n",
    "        part += str(numerator//denominator)\n",
    "        if rem in m:\n",
    "            part = part[:m[rem]] + '(' + part[m[rem]:] + ')'\n",
    "            return result + part\n",
    "        m[rem] = i\n",
    "        numerator = rem\n",
    "    return result + part"
   ]
  },
  {
   "cell_type": "code",
   "execution_count": 2,
   "metadata": {},
   "outputs": [
    {
     "data": {
      "text/plain": [
       "'0.(012)'"
      ]
     },
     "execution_count": 2,
     "metadata": {},
     "output_type": "execute_result"
    }
   ],
   "source": [
    "fraction_to_decimal(4,333)\n",
    "#Time Complexity O(N%M)\n",
    "#Space Complexity O(N/M)"
   ]
  }
 ],
 "metadata": {
  "kernelspec": {
   "display_name": "Python 3",
   "language": "python",
   "name": "python3"
  },
  "language_info": {
   "codemirror_mode": {
    "name": "ipython",
    "version": 3
   },
   "file_extension": ".py",
   "mimetype": "text/x-python",
   "name": "python",
   "nbconvert_exporter": "python",
   "pygments_lexer": "ipython3",
   "version": "3.7.6"
  }
 },
 "nbformat": 4,
 "nbformat_minor": 4
}
