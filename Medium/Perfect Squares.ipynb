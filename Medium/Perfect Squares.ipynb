{
 "cells": [
  {
   "cell_type": "code",
   "execution_count": 1,
   "metadata": {},
   "outputs": [],
   "source": [
    "import math\n",
    "def perfect_squares(n):\n",
    "    squares = [i**2 for i in range(int(math.sqrt(n))+1)]\n",
    "    dp = [float(\"inf\")]*(n+1)\n",
    "    dp[0] = 0\n",
    "    for i in range(1,n+1):\n",
    "        for square in squares:\n",
    "            if i < square:\n",
    "                break\n",
    "            dp[i] = min(dp[i],dp[i-square]+1)\n",
    "    return dp[-1]"
   ]
  },
  {
   "cell_type": "code",
   "execution_count": 2,
   "metadata": {},
   "outputs": [
    {
     "data": {
      "text/plain": [
       "3"
      ]
     },
     "execution_count": 2,
     "metadata": {},
     "output_type": "execute_result"
    }
   ],
   "source": [
    "perfect_squares(12)\n",
    "#Time Complexity O(N*N^1/2)\n",
    "#Space Complexity O(N)"
   ]
  }
 ],
 "metadata": {
  "kernelspec": {
   "display_name": "Python 3",
   "language": "python",
   "name": "python3"
  },
  "language_info": {
   "codemirror_mode": {
    "name": "ipython",
    "version": 3
   },
   "file_extension": ".py",
   "mimetype": "text/x-python",
   "name": "python",
   "nbconvert_exporter": "python",
   "pygments_lexer": "ipython3",
   "version": "3.7.6"
  }
 },
 "nbformat": 4,
 "nbformat_minor": 4
}
