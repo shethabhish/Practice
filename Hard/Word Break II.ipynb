{
 "cells": [
  {
   "cell_type": "code",
   "execution_count": 1,
   "metadata": {},
   "outputs": [],
   "source": [
    "def word_break(s,wordDict):\n",
    "    wordSet = set(wordDict)\n",
    "    dp = [[]]*(len(s)+1)\n",
    "    dp[0] = [[0]]\n",
    "    for i in range(1,len(s)+1):\n",
    "        stops = []\n",
    "        for j in range(i):\n",
    "            if s[j:i] in wordSet:\n",
    "                stops.append([j,i])\n",
    "        dp[i] = stops\n",
    "    res = []\n",
    "    def word_dfs(sentence,dpindex):\n",
    "        if dpindex == 0:\n",
    "            res.append(\" \".join(sentence))\n",
    "            return\n",
    "        for start,end in dp[dpindex]:\n",
    "            word = s[start:end]\n",
    "            word_dfs([word]+sentence,start)\n",
    "    word_dfs([],len(s))\n",
    "    return res"
   ]
  },
  {
   "cell_type": "code",
   "execution_count": 2,
   "metadata": {},
   "outputs": [
    {
     "data": {
      "text/plain": [
       "['cat sand dog', 'cats and dog']"
      ]
     },
     "execution_count": 2,
     "metadata": {},
     "output_type": "execute_result"
    }
   ],
   "source": [
    "word_break(\"catsanddog\",[\"cat\", \"cats\", \"and\", \"sand\", \"dog\"])\n",
    "#Time Complexity O(N^2+2^N+W)\n",
    "#Space Complexity O(N^2+N*2^N+W)"
   ]
  }
 ],
 "metadata": {
  "kernelspec": {
   "display_name": "Python 3",
   "language": "python",
   "name": "python3"
  },
  "language_info": {
   "codemirror_mode": {
    "name": "ipython",
    "version": 3
   },
   "file_extension": ".py",
   "mimetype": "text/x-python",
   "name": "python",
   "nbconvert_exporter": "python",
   "pygments_lexer": "ipython3",
   "version": "3.7.6"
  }
 },
 "nbformat": 4,
 "nbformat_minor": 4
}
