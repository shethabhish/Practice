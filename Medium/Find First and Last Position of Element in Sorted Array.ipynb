{
 "cells": [
  {
   "cell_type": "code",
   "execution_count": 1,
   "metadata": {},
   "outputs": [],
   "source": [
    "def find_range(nums,target):\n",
    "    result = [0,0]\n",
    "    result[0] = find(nums,target,False)\n",
    "    if result[0] != -1:\n",
    "        result[1] = find(nums,target,True)\n",
    "    return result"
   ]
  },
  {
   "cell_type": "code",
   "execution_count": 2,
   "metadata": {},
   "outputs": [],
   "source": [
    "def find(nums,target,findmax):\n",
    "    keyind = -1\n",
    "    start,end = 0,len(nums)-1\n",
    "    while start <= end:\n",
    "        mid = start + (end - start)//2\n",
    "        if target < nums[mid]:\n",
    "            end = mid - 1\n",
    "        elif target > nums[mid]:\n",
    "            start = mid + 1\n",
    "        else:\n",
    "            keyind = mid\n",
    "            if findmax:\n",
    "                start = mid + 1\n",
    "            else:\n",
    "                end = mid - 1\n",
    "    return keyind"
   ]
  },
  {
   "cell_type": "code",
   "execution_count": 3,
   "metadata": {},
   "outputs": [
    {
     "data": {
      "text/plain": [
       "[3, 4]"
      ]
     },
     "execution_count": 3,
     "metadata": {},
     "output_type": "execute_result"
    }
   ],
   "source": [
    "find_range([5,7,7,8,8,10],8)\n",
    "#Time Complexity O(logN)\n",
    "#Space Complexity O(1)"
   ]
  }
 ],
 "metadata": {
  "kernelspec": {
   "display_name": "Python 3",
   "language": "python",
   "name": "python3"
  },
  "language_info": {
   "codemirror_mode": {
    "name": "ipython",
    "version": 3
   },
   "file_extension": ".py",
   "mimetype": "text/x-python",
   "name": "python",
   "nbconvert_exporter": "python",
   "pygments_lexer": "ipython3",
   "version": "3.7.6"
  }
 },
 "nbformat": 4,
 "nbformat_minor": 4
}
