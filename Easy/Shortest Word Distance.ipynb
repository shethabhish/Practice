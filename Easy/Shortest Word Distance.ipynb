{
 "cells": [
  {
   "cell_type": "code",
   "execution_count": 1,
   "metadata": {},
   "outputs": [],
   "source": [
    "def shortest_word_distance(words,word1,word2):\n",
    "    i1,i2,mini = -1,-1,len(words)\n",
    "    for i in range(len(words)):\n",
    "        if words[i] == word1:\n",
    "            i1 = i\n",
    "        elif words[i] == word2:\n",
    "            i2 = i\n",
    "        if i1 != -1 and i2 != -1:\n",
    "            mini = min(mini,abs(i1-i2))\n",
    "    return mini"
   ]
  },
  {
   "cell_type": "code",
   "execution_count": 2,
   "metadata": {},
   "outputs": [
    {
     "data": {
      "text/plain": [
       "3"
      ]
     },
     "execution_count": 2,
     "metadata": {},
     "output_type": "execute_result"
    }
   ],
   "source": [
    "shortest_word_distance([\"practice\", \"makes\", \"perfect\", \"coding\", \"makes\"],\"coding\",\"practice\")"
   ]
  }
 ],
 "metadata": {
  "kernelspec": {
   "display_name": "Python 3",
   "language": "python",
   "name": "python3"
  },
  "language_info": {
   "codemirror_mode": {
    "name": "ipython",
    "version": 3
   },
   "file_extension": ".py",
   "mimetype": "text/x-python",
   "name": "python",
   "nbconvert_exporter": "python",
   "pygments_lexer": "ipython3",
   "version": "3.7.6"
  }
 },
 "nbformat": 4,
 "nbformat_minor": 4
}
