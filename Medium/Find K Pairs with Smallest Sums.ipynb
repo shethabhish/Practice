{
 "cells": [
  {
   "cell_type": "code",
   "execution_count": 1,
   "metadata": {},
   "outputs": [],
   "source": [
    "from heapq import *\n",
    "def k_smallest(nums1,nums2,k):\n",
    "    result = []\n",
    "    for n1 in nums1:\n",
    "        for n2 in nums2:\n",
    "            if len(result) < k:\n",
    "                heappush(result,(-n1-n2,[n1,n2]))\n",
    "            else:\n",
    "                if result and -result[0][0] > n1+n2:\n",
    "                    heappop(result)\n",
    "                    heappush(result,(-n1-n2,[n1,n2]))\n",
    "                else:\n",
    "                    break\n",
    "    return [heappop(result)[1] for _ in range(k)]"
   ]
  },
  {
   "cell_type": "code",
   "execution_count": 2,
   "metadata": {},
   "outputs": [
    {
     "data": {
      "text/plain": [
       "[[1, 6], [1, 4], [1, 2]]"
      ]
     },
     "execution_count": 2,
     "metadata": {},
     "output_type": "execute_result"
    }
   ],
   "source": [
    "k_smallest([1,7,11],[2,4,6],3)\n",
    "#Time Complexity O(NlogN)\n",
    "#Space Complexity O(N)"
   ]
  }
 ],
 "metadata": {
  "kernelspec": {
   "display_name": "Python 3",
   "language": "python",
   "name": "python3"
  },
  "language_info": {
   "codemirror_mode": {
    "name": "ipython",
    "version": 3
   },
   "file_extension": ".py",
   "mimetype": "text/x-python",
   "name": "python",
   "nbconvert_exporter": "python",
   "pygments_lexer": "ipython3",
   "version": "3.7.6"
  }
 },
 "nbformat": 4,
 "nbformat_minor": 4
}
