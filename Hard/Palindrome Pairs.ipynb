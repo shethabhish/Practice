{
 "cells": [
  {
   "cell_type": "code",
   "execution_count": 1,
   "metadata": {},
   "outputs": [],
   "source": [
    "def palindrome_pairs(words):\n",
    "    \n",
    "    def all_valid_suffix(word):\n",
    "        valid = []\n",
    "        for i in range(len(word)):\n",
    "            if word[:i+1] == word[:i+1][::-1]:\n",
    "                valid.append(word[i+1:])\n",
    "        return valid\n",
    "    \n",
    "    def all_valid_prefix(word):\n",
    "        valid = []\n",
    "        for i in range(len(word)):\n",
    "            if word[i:] == word[i:][::-1]:\n",
    "                valid.append(word[:i])\n",
    "        return valid\n",
    "    \n",
    "    word_lookup = {word: i for i,word in enumerate(words)}\n",
    "    result = []\n",
    "    for index,word in enumerate(words):\n",
    "        reverse = word[::-1]\n",
    "        if reverse in word_lookup and index != word_lookup[reverse]:\n",
    "            result.append([index,word_lookup[reverse]])\n",
    "        for suffix in all_valid_suffix(word):\n",
    "            reversedsuffix = suffix[::-1]\n",
    "            if reversedsuffix in word_lookup:\n",
    "                result.append([word_lookup[reversedsuffix],index])\n",
    "        for prefix in all_valid_prefix(word):\n",
    "            reversedprefix = prefix[::-1]\n",
    "            if reversedprefix in word_lookup:\n",
    "                result.append([index,word_lookup[reversedprefix]])\n",
    "    return result"
   ]
  },
  {
   "cell_type": "code",
   "execution_count": 2,
   "metadata": {},
   "outputs": [
    {
     "data": {
      "text/plain": [
       "[[0, 1], [1, 0], [3, 2], [2, 4]]"
      ]
     },
     "execution_count": 2,
     "metadata": {},
     "output_type": "execute_result"
    }
   ],
   "source": [
    "palindrome_pairs([\"abcd\",\"dcba\",\"lls\",\"s\",\"sssll\"])\n",
    "#Time Complexity O(NK^2)\n",
    "#Space Complexity O((K+N)^2)"
   ]
  }
 ],
 "metadata": {
  "kernelspec": {
   "display_name": "Python 3",
   "language": "python",
   "name": "python3"
  },
  "language_info": {
   "codemirror_mode": {
    "name": "ipython",
    "version": 3
   },
   "file_extension": ".py",
   "mimetype": "text/x-python",
   "name": "python",
   "nbconvert_exporter": "python",
   "pygments_lexer": "ipython3",
   "version": "3.7.6"
  }
 },
 "nbformat": 4,
 "nbformat_minor": 4
}
