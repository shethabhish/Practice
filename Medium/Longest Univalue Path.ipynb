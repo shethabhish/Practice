{
 "cells": [
  {
   "cell_type": "code",
   "execution_count": 1,
   "metadata": {},
   "outputs": [],
   "source": [
    "class Tree:\n",
    "    def __init__(self,val):\n",
    "        self.val = val\n",
    "        self.left = None\n",
    "        self.right = None"
   ]
  },
  {
   "cell_type": "code",
   "execution_count": 2,
   "metadata": {},
   "outputs": [],
   "source": [
    "def longest_univalue_path(root):\n",
    "    longest = [0]\n",
    "    def traverse(node):\n",
    "        if node is None:\n",
    "            return 0\n",
    "        left_len,right_len = traverse(node.left),traverse(node.right)\n",
    "        left = (left_len+1) if node.left and node.left.val == node.val else 0\n",
    "        right = (right_len+1) if node.right and node.right.val == node.val else 0\n",
    "        longest[0] = max(longest[0],left+right)\n",
    "        return max(left,right)\n",
    "    traverse(root)\n",
    "    return longest[0]"
   ]
  },
  {
   "cell_type": "code",
   "execution_count": 3,
   "metadata": {},
   "outputs": [
    {
     "data": {
      "text/plain": [
       "2"
      ]
     },
     "execution_count": 3,
     "metadata": {},
     "output_type": "execute_result"
    }
   ],
   "source": [
    "root = Tree(5)\n",
    "root.left = Tree(4)\n",
    "root.left.left = Tree(1)\n",
    "root.left.right = Tree(1)\n",
    "root.right = Tree(5)\n",
    "root.right.right = Tree(5)\n",
    "longest_univalue_path(root)\n",
    "#Time Complexity O(V+E)\n",
    "#Space Complexity O(1)"
   ]
  }
 ],
 "metadata": {
  "kernelspec": {
   "display_name": "Python 3",
   "language": "python",
   "name": "python3"
  },
  "language_info": {
   "codemirror_mode": {
    "name": "ipython",
    "version": 3
   },
   "file_extension": ".py",
   "mimetype": "text/x-python",
   "name": "python",
   "nbconvert_exporter": "python",
   "pygments_lexer": "ipython3",
   "version": "3.7.6"
  }
 },
 "nbformat": 4,
 "nbformat_minor": 4
}
