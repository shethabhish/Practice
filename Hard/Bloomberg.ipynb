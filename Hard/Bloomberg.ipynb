{
 "cells": [
  {
   "cell_type": "markdown",
   "metadata": {},
   "source": [
    "## Design A Leaderboard\n",
    "\n",
    "Design a Leaderboard class, which has 3 functions:\n",
    "\n",
    "addScore(playerId, score): Update the leaderboard by adding score to the given player's score. If there is no player with such id in the leaderboard, add him to the leaderboard with the given score.\n",
    "top(K): Return the score sum of the top K players.\n",
    "reset(playerId): Reset the score of the player with the given id to 0 (in other words erase it from the leaderboard). It is guaranteed that the player was added to the leaderboard before calling this function.\n",
    "Initially, the leaderboard is empty."
   ]
  },
  {
   "cell_type": "code",
   "execution_count": 1,
   "metadata": {},
   "outputs": [],
   "source": [
    "class Leaderboard:\n",
    "\n",
    "    def __init__(self):\n",
    "        self.players = {}\n",
    "        #self.A = collections.Counter()\n",
    "        \n",
    "    def addScore(self, playerId: int, score: int) -> None:\n",
    "        if playerId in self.players:\n",
    "            self.players[playerId] += score\n",
    "        else:\n",
    "            self.players[playerId] = score\n",
    "        #self.A[playerId] += score\n",
    "        \n",
    "    def top(self, K: int) -> int:\n",
    "        maxheap = []\n",
    "        for x in self.players.values():\n",
    "            heappush(maxheap,x)\n",
    "            if len(maxheap) >K:\n",
    "                heappop(maxheap)\n",
    "        return sum(maxheap)    \n",
    "        #return sum(v for i,v in self.A.most_common(K))\n",
    "        \n",
    "    def reset(self, playerId: int) -> None:\n",
    "        self.players[playerId] = 0\n",
    "        #self.A[playerId] = 0\n",
    "        "
   ]
  },
  {
   "cell_type": "markdown",
   "metadata": {},
   "source": [
    "## Candy Crush\n",
    "\n",
    "This question is about implementing a basic elimination algorithm for Candy Crush.\n",
    "\n",
    "Given a 2D integer array board representing the grid of candy, different positive integers board[i][j] represent different types of candies. A value of board[i][j] = 0 represents that the cell at position (i, j) is empty. The given board represents the state of the game following the player's move. Now, you need to restore the board to a stable state by crushing candies according to the following rules:\n",
    "\n",
    "If three or more candies of the same type are adjacent vertically or horizontally, \"crush\" them all at the same time - these positions become empty.\n",
    "After crushing all candies simultaneously, if an empty space on the board has candies on top of itself, then these candies will drop until they hit a candy or bottom at the same time. (No new candies will drop outside the top boundary.)\n",
    "After the above steps, there may exist more candies that can be crushed. If so, you need to repeat the above steps.\n",
    "If there does not exist more candies that can be crushed (ie. the board is stable), then return the current board.\n",
    "You need to perform the above rules until the board becomes stable, then return the current board."
   ]
  },
  {
   "cell_type": "code",
   "execution_count": 2,
   "metadata": {},
   "outputs": [],
   "source": [
    "class Solution:\n",
    "    def candyCrush(self, board):\n",
    "        row,col = len(board),len(board[0])\n",
    "        todo = False\n",
    "        for i in range(row):\n",
    "            for j in range(col-2):\n",
    "                if abs(board[i][j]) == abs(board[i][j+1]) == abs(board[i][j+2]) != 0:\n",
    "                    board[i][j] = board[i][j+1] = board[i][j+2] = -abs(board[i][j])\n",
    "                    todo = True\n",
    "        for i in range(row-2):\n",
    "            for j in range(col):\n",
    "                if abs(board[i][j]) == abs(board[i+1][j]) == abs(board[i+2][j]) != 0:\n",
    "                    board[i][j] = board[i+1][j] = board[i+2][j] = -abs(board[i][j])\n",
    "                    todo = True\n",
    "        for i in range(col):\n",
    "            wr = row - 1\n",
    "            for j in range(row-1,-1,-1):\n",
    "                if board[j][i] > 0:\n",
    "                    board[wr][i] = board[j][i]\n",
    "                    wr -= 1\n",
    "            for wr in range(wr,-1,-1):\n",
    "                board[wr][i] = 0\n",
    "        return self.candyCrush(board) if todo else board"
   ]
  },
  {
   "cell_type": "markdown",
   "metadata": {},
   "source": [
    "##  Meeting Rooms II\n",
    "\n",
    "Given an array of meeting time intervals intervals where intervals[i] = [starti, endi], return the minimum number of conference rooms required."
   ]
  },
  {
   "cell_type": "code",
   "execution_count": 3,
   "metadata": {},
   "outputs": [],
   "source": [
    "class Solution:\n",
    "    def minMeetingRooms(self, intervals) -> int:\n",
    "        intervals.sort(key = lambda x:x[0])\n",
    "        minheap = []\n",
    "        maxrooms = 0\n",
    "        for interval in intervals:\n",
    "            if minheap and minheap[0] <= interval[0]:\n",
    "                heappop(minheap)\n",
    "            heappush(minheap,interval[1])\n",
    "            maxrooms = max(maxrooms,len(minheap))\n",
    "        return maxrooms"
   ]
  },
  {
   "cell_type": "markdown",
   "metadata": {},
   "source": [
    "## Kill Process\n",
    "\n",
    "You have n processes forming a rooted tree structure. You are given two integer arrays pid and ppid, where pid[i] is the ID of the ith process and ppid[i] is the ID of the ith process's parent process.\n",
    "\n",
    "Each process has only one parent process but may have multiple children processes. Only one process has ppid[i] = 0, which means this process has no parent process (the root of the tree).\n",
    "\n",
    "When a process is killed, all of its children processes will also be killed.\n",
    "\n",
    "Given an integer kill representing the ID of a process you want to kill, return a list of the IDs of the processes that will be killed. You may return the answer in any order."
   ]
  },
  {
   "cell_type": "code",
   "execution_count": 4,
   "metadata": {},
   "outputs": [],
   "source": [
    "class Solution:\n",
    "    def killProcess(self, pid, ppid, kill):\n",
    "        graph =defaultdict(list)\n",
    "        for i in range(len(ppid)):\n",
    "            graph[ppid[i]].append(pid[i])\n",
    "        result = []\n",
    "        queue = [kill]\n",
    "        while queue:\n",
    "            current = queue.pop(0)\n",
    "            result.append(current)\n",
    "            if current in graph:\n",
    "                for i in graph[current]:\n",
    "                    queue.append(i)\n",
    "        return result"
   ]
  },
  {
   "cell_type": "markdown",
   "metadata": {},
   "source": [
    "## Binary Tree Vertical Order Traversal\n",
    "\n",
    "Given the root of a binary tree, return the vertical order traversal of its nodes' values. (i.e., from top to bottom, column by column).\n",
    "\n",
    "If two nodes are in the same row and column, the order should be from left to right."
   ]
  },
  {
   "cell_type": "code",
   "execution_count": 5,
   "metadata": {},
   "outputs": [],
   "source": [
    "class TreeNode:\n",
    "    def __init__(self, val=0, left=None, right=None):\n",
    "        self.val = val\n",
    "        self.left = left\n",
    "        self.right = right\n",
    "\n",
    "class Solution:\n",
    "    def verticalOrder(self, root: TreeNode):\n",
    "        if not root:\n",
    "            return []\n",
    "        columns = defaultdict(list)\n",
    "        mincol,maxcol = 0,0\n",
    "        queue = deque([(root,0)])\n",
    "        while queue:\n",
    "            node,col = queue.popleft()\n",
    "            if node:\n",
    "                columns[col].append(node.val)\n",
    "                mincol = min(mincol,col)\n",
    "                maxcol = max(maxcol,col)\n",
    "                queue.append((node.left,col-1))\n",
    "                queue.append((node.right,col+1))\n",
    "        return [columns[i] for i in range(mincol,maxcol+1)]"
   ]
  },
  {
   "cell_type": "markdown",
   "metadata": {},
   "source": [
    "## Number of Ships in a Rectangle\n",
    "\n",
    "Each ship is located at an integer point on the sea represented by a cartesian plane, and each integer point may contain at most 1 ship.\n",
    "\n",
    "You have a function Sea.hasShips(topRight, bottomLeft) which takes two points as arguments and returns true If there is at least one ship in the rectangle represented by the two points, including on the boundary.\n",
    "\n",
    "Given two points: the top right and bottom left corners of a rectangle, return the number of ships present in that rectangle. It is guaranteed that there are at most 10 ships in that rectangle.\n",
    "\n",
    "Submissions making more than 400 calls to hasShips will be judged Wrong Answer. Also, any solutions that attempt to circumvent the judge will result in disqualification."
   ]
  },
  {
   "cell_type": "code",
   "execution_count": 6,
   "metadata": {},
   "outputs": [],
   "source": [
    "# \"\"\"\n",
    "# This is Sea's API interface.\n",
    "# You should not implement it, or speculate about its implementation\n",
    "# \"\"\"\n",
    "#class Sea(object):\n",
    "#    def hasShips(self, topRight: 'Point', bottomLeft: 'Point') -> bool:\n",
    "#\n",
    "#class Point(object):\n",
    "#\tdef __init__(self, x: int, y: int):\n",
    "#\t\tself.x = x\n",
    "#\t\tself.y = y\n",
    "\n",
    "class Solution(object):\n",
    "    def countShips(self, sea: 'Sea', topRight: 'Point', bottomLeft: 'Point') -> int:\n",
    "        \n",
    "        def count(bottom,top):\n",
    "            if bottom.x > top.x or bottom.y > top.y:\n",
    "                return 0\n",
    "            if (top.x,top.y) == (bottom.x,bottom.y):\n",
    "                return int(sea.hasShips(top,bottom))\n",
    "            else:\n",
    "                if not sea.hasShips(top,bottom):\n",
    "                    return 0\n",
    "                else:\n",
    "                    x0,y0 = top.x,top.y\n",
    "                    x1,y1 = bottom.x,bottom.y\n",
    "                    centerx,centery = (x0+x1)//2,(y0+y1)//2\n",
    "                    f1 = count(bottom,Point(centerx,centery))\n",
    "                    f2 = count(Point(centerx+1,centery+1),top)\n",
    "                    f3 = count(Point(x0,centery+1),Point(centerx+1,y1))\n",
    "                    f4 = count(Point(centerx+1,y0),Point(x1,centery))\n",
    "                    return f1+f2+f3+f4\n",
    "\n",
    "        return count(bottomLeft,topRight)"
   ]
  },
  {
   "cell_type": "markdown",
   "metadata": {},
   "source": [
    "## Missing Element in Sorted Array\n",
    "\n",
    "Given an integer array nums which is sorted in ascending order and all of its elements are unique and given also an integer k, return the kth missing number starting from the leftmost number of the array."
   ]
  },
  {
   "cell_type": "code",
   "execution_count": 7,
   "metadata": {},
   "outputs": [],
   "source": [
    "class Solution:\n",
    "    def missingElement(self, nums, k: int) -> int:\n",
    "        missing = lambda idx: nums[idx] - nums[0] - idx\n",
    "        n = len(nums)\n",
    "        if k > missing(n-1):\n",
    "            return nums[-1]+k-missing(n-1)\n",
    "        left,right = 0,len(nums)-1\n",
    "        while left != right:\n",
    "            mid = left + (right - left)//2\n",
    "            if missing(mid) < k:\n",
    "                left = mid + 1\n",
    "            else:\n",
    "                right = mid\n",
    "        return nums[left-1] + k - missing(left-1)"
   ]
  },
  {
   "cell_type": "markdown",
   "metadata": {},
   "source": [
    "## First Unique Number\n",
    "\n",
    "You have a queue of integers, you need to retrieve the first unique integer in the queue.\n",
    "\n",
    "Implement the FirstUnique class:\n",
    "\n",
    "FirstUnique(int[] nums) Initializes the object with the numbers in the queue.\n",
    "int showFirstUnique() returns the value of the first unique integer of the queue, and returns -1 if there is no such integer.\n",
    "void add(int value) insert value to the queue."
   ]
  },
  {
   "cell_type": "code",
   "execution_count": 8,
   "metadata": {},
   "outputs": [],
   "source": [
    "class FirstUnique:\n",
    "\n",
    "    def __init__(self, nums):\n",
    "        self.unique = Counter(nums)\n",
    "\n",
    "    def showFirstUnique(self) -> int:\n",
    "        for num,fr in self.unique.items():\n",
    "            if fr == 1:\n",
    "                return num\n",
    "        return -1\n",
    "\n",
    "    def add(self, value: int) -> None:\n",
    "        if value not in self.unique:\n",
    "            self.unique[value] = 0\n",
    "        self.unique[value] += 1"
   ]
  },
  {
   "cell_type": "markdown",
   "metadata": {},
   "source": [
    "## Design Bounded Blocking Queue\n",
    "\n",
    "Implement a thread-safe bounded blocking queue that has the following methods:\n",
    "\n",
    "BoundedBlockingQueue(int capacity) The constructor initializes the queue with a maximum capacity.\n",
    "void enqueue(int element) Adds an element to the front of the queue. If the queue is full, the calling thread is blocked until the queue is no longer full.\n",
    "int dequeue() Returns the element at the rear of the queue and removes it. If the queue is empty, the calling thread is blocked until the queue is no longer empty.\n",
    "int size() Returns the number of elements currently in the queue.\n",
    "Your implementation will be tested using multiple threads at the same time. Each thread will either be a producer thread that only makes calls to the enqueue method or a consumer thread that only makes calls to the dequeue method. The size method will be called after every test case.\n",
    "\n",
    "Please do not use built-in implementations of bounded blocking queue as this will not be accepted in an interview."
   ]
  },
  {
   "cell_type": "code",
   "execution_count": 9,
   "metadata": {},
   "outputs": [],
   "source": [
    "from threading import Semaphore\n",
    "class BoundedBlockingQueue(object):\n",
    "\n",
    "    def __init__(self, capacity: int):\n",
    "        self.queue = []\n",
    "        self.e = Semaphore(capacity)\n",
    "        self.d = Semaphore(0)\n",
    "\n",
    "    def enqueue(self, element: int) -> None:\n",
    "        self.e.acquire()\n",
    "        self.queue.append(element)\n",
    "        self.d.release()\n",
    "\n",
    "    def dequeue(self) -> int:\n",
    "        self.d.acquire()\n",
    "        ele = self.queue.pop(0)\n",
    "        self.e.release()\n",
    "        return ele\n",
    "\n",
    "    def size(self) -> int:\n",
    "        return len(self.queue)"
   ]
  },
  {
   "cell_type": "markdown",
   "metadata": {},
   "source": [
    "##  Number of Distinct Islands\n",
    "\n",
    "Given a non-empty 2D array grid of 0's and 1's, an island is a group of 1's (representing land) connected 4-directionally (horizontal or vertical.) You may assume all four edges of the grid are surrounded by water.\n",
    "\n",
    "Count the number of distinct islands. An island is considered to be the same as another if and only if one island can be translated (and not rotated or reflected) to equal the other."
   ]
  },
  {
   "cell_type": "code",
   "execution_count": 10,
   "metadata": {},
   "outputs": [],
   "source": [
    "class Solution:\n",
    "    def numDistinctIslands(self, grid) -> int:\n",
    "        result = set()\n",
    "        for i in range(len(grid)):\n",
    "            for j in range(len(grid[0])):\n",
    "                if grid[i][j] == 1:\n",
    "                    positions = []\n",
    "                    self.dfs(grid,i,j,positions,(0,0))\n",
    "                    result.add(tuple(positions))\n",
    "        return len(result)\n",
    "    \n",
    "    def dfs(self,grid,i,j,positions,current):\n",
    "        grid[i][j] = -1\n",
    "        for x,y in ((0,1),(1,0),(0,-1),(-1,0)):\n",
    "            r,c = i+x,j+y\n",
    "            if 0 <= r < len(grid) and 0 <= c < len(grid[0]) and grid[r][c] == 1:\n",
    "                nextpos = current[0]+x,current[1]+y\n",
    "                positions.append(nextpos)\n",
    "                self.dfs(grid,r,c,positions,nextpos)"
   ]
  },
  {
   "cell_type": "markdown",
   "metadata": {},
   "source": [
    "## Clone Binary Tree With Random Pointer\n",
    "\n",
    "A binary tree is given such that each node contains an additional random pointer which could point to any node in the tree or null.\n",
    "\n",
    "Return a deep copy of the tree.\n",
    "\n",
    "The tree is represented in the same input/output way as normal binary trees where each node is represented as a pair of [val, random_index] where:\n",
    "\n",
    "val: an integer representing Node.val\n",
    "random_index: the index of the node (in the input) where the random pointer points to, or null if it does not point to any node.\n",
    "You will be given the tree in class Node and you should return the cloned tree in class NodeCopy. NodeCopy class is just a clone of Node class with the same attributes and constructors."
   ]
  },
  {
   "cell_type": "code",
   "execution_count": 11,
   "metadata": {},
   "outputs": [],
   "source": [
    "class Node:\n",
    "    def __init__(self, val=0, left=None, right=None, random=None):\n",
    "        self.val = val\n",
    "        self.left = left\n",
    "        self.right = right\n",
    "        self.random = random\n",
    "\n",
    "class Solution:\n",
    "    def copyRandomBinaryTree(self, root: 'Node') -> 'NodeCopy':\n",
    "        if not root:\n",
    "            return None\n",
    "        copy = {}\n",
    "        queue = [root]\n",
    "        while queue:\n",
    "            node = queue.pop()\n",
    "            copy[node] = NodeCopy(node.val)\n",
    "            queue.append(node.left) if node.left else None\n",
    "            queue.append(node.right) if node.right else None\n",
    "        queue = [root]\n",
    "        while queue:\n",
    "            node = queue.pop()\n",
    "            if node.left:\n",
    "                copy[node].left = copy[node.left]\n",
    "                queue.append(node.left)\n",
    "            if node.right:\n",
    "                copy[node].right = copy[node.right]\n",
    "                queue.append(node.right)\n",
    "            if node.random:\n",
    "                copy[node].random = copy[node.random]\n",
    "        return copy[root]"
   ]
  },
  {
   "cell_type": "markdown",
   "metadata": {},
   "source": [
    "##  All Paths from Source Lead to Destination\n",
    "\n",
    "Given the edges of a directed graph where edges[i] = [ai, bi] indicates there is an edge between nodes ai and bi, and two nodes source and destination of this graph, determine whether or not all paths starting from source eventually, end at destination, that is:\n",
    "\n",
    "At least one path exists from the source node to the destination node\n",
    "If a path exists from the source node to a node with no outgoing edges, then that node is equal to destination.\n",
    "The number of possible paths from source to destination is a finite number.\n",
    "Return true if and only if all roads from source lead to destination."
   ]
  },
  {
   "cell_type": "code",
   "execution_count": 12,
   "metadata": {},
   "outputs": [],
   "source": [
    "class Solution:\n",
    "    def leadsToDestination(self, n: int, edges, source: int, destination: int) -> bool:\n",
    "        graph = defaultdict(set)\n",
    "        for u,v in edges:\n",
    "            graph[u].add(v)\n",
    "        \n",
    "        def dfs(i):\n",
    "            if len(graph[i]) == 0:\n",
    "                return i == destination\n",
    "            elif visited[i] == 1:\n",
    "                return False\n",
    "            elif visited[i] == 2:\n",
    "                return True\n",
    "            else:\n",
    "                visited[i] = 1\n",
    "                for j in graph[i]:\n",
    "                    if not dfs(j):\n",
    "                        return False\n",
    "                visited[i] = 2\n",
    "            return True\n",
    "        \n",
    "        visited = [0]*n\n",
    "        return dfs(source)"
   ]
  },
  {
   "cell_type": "markdown",
   "metadata": {},
   "source": [
    "## Largest BST Subtree\n",
    "\n",
    "Given the root of a binary tree, find the largest subtree, which is also a Binary Search Tree (BST), where the largest means subtree has the largest number of nodes.\n",
    "\n",
    "A Binary Search Tree (BST) is a tree in which all the nodes follow the below-mentioned properties:\n",
    "\n",
    "The left subtree values are less than the value of their parent (root) node's value.\n",
    "The right subtree values are greater than the value of their parent (root) node's value.\n",
    "Note: A subtree must include all of its descendants.\n",
    "\n",
    "Follow up: Can you figure out ways to solve it with O(n) time complexity?"
   ]
  },
  {
   "cell_type": "code",
   "execution_count": 13,
   "metadata": {},
   "outputs": [],
   "source": [
    "# Definition for a binary tree node.\n",
    "# class TreeNode:\n",
    "#     def __init__(self, val=0, left=None, right=None):\n",
    "#         self.val = val\n",
    "#         self.left = left\n",
    "#         self.right = right\n",
    "class Solution:\n",
    "    def largestBSTSubtree(self, root: TreeNode) -> int:\n",
    "        result = self.largestBST(root)\n",
    "        return result[2]\n",
    "    \n",
    "    def largestBST(self,root):\n",
    "        if not root:\n",
    "            return [math.inf,-math.inf,0]\n",
    "        left = self.largestBST(root.left)\n",
    "        right = self.largestBST(root.right)\n",
    "        if root.val > left[1] and root.val < right[0]:\n",
    "            return [min(root.val,left[0]),max(root.val,right[1]),left[2]+right[2]+1]\n",
    "        else:\n",
    "            return [-math.inf,math.inf,max(left[2],right[2])]"
   ]
  },
  {
   "cell_type": "markdown",
   "metadata": {},
   "source": [
    "## Best Meeting Point\n",
    "\n",
    "Given an m x n binary grid grid where each 1 marks the home of one friend, return the minimal total travel distance.\n",
    "\n",
    "The total travel distance is the sum of the distances between the houses of the friends and the meeting point.\n",
    "\n",
    "The distance is calculated using Manhattan Distance, where distance(p1, p2) = |p2.x - p1.x| + |p2.y - p1.y|."
   ]
  },
  {
   "cell_type": "code",
   "execution_count": 14,
   "metadata": {},
   "outputs": [],
   "source": [
    "class Solution:\n",
    "    def minTotalDistance(self, grid) -> int:\n",
    "        if not grid:\n",
    "            return 0\n",
    "        row = [i for i in range(len(grid)) for j in range(len(grid[0])) if grid[i][j]]\n",
    "        col = [j for j in range(len(grid[0])) for i in range(len(grid)) if grid[i][j]]\n",
    "        res_r,res_c = row[len(row)//2],col[len(col)//2]\n",
    "        return sum(abs(ir-res_r) for ir in row) + sum(abs(ic-res_c) for ic in col)"
   ]
  },
  {
   "cell_type": "markdown",
   "metadata": {},
   "source": [
    "## Inorder Successor in BST II\n",
    "\n",
    "Given a node in a binary search tree, return the in-order successor of that node in the BST. If that node has no in-order successor, return null.\n",
    "\n",
    "The successor of a node is the node with the smallest key greater than node.val.\n",
    "\n",
    "You will have direct access to the node but not to the root of the tree. Each node will have a reference to its parent node. Below is the definition for Node:\n",
    "\n",
    "class Node {\n",
    "\n",
    "    public int val;\n",
    "    public Node left;\n",
    "    public Node right;\n",
    "    public Node parent;\n",
    "    \n",
    "}"
   ]
  },
  {
   "cell_type": "code",
   "execution_count": 15,
   "metadata": {},
   "outputs": [],
   "source": [
    "\"\"\"\n",
    "# Definition for a Node.\n",
    "class Node:\n",
    "    def __init__(self, val):\n",
    "        self.val = val\n",
    "        self.left = None\n",
    "        self.right = None\n",
    "        self.parent = None\n",
    "\"\"\"\n",
    "\n",
    "class Solution:\n",
    "    def inorderSuccessor(self, node: 'Node') -> 'Node':\n",
    "        if node.right:\n",
    "            node = node.right\n",
    "            while node.left:\n",
    "                node = node.left\n",
    "            return node\n",
    "        while node.parent and node == node.parent.right:\n",
    "            node = node.parent\n",
    "        return node.parent"
   ]
  },
  {
   "cell_type": "markdown",
   "metadata": {},
   "source": [
    "## The Maze\n",
    "\n",
    "There is a ball in a maze with empty spaces (represented as 0) and walls (represented as 1). The ball can go through the empty spaces by rolling up, down, left or right, but it won't stop rolling until hitting a wall. When the ball stops, it could choose the next direction.\n",
    "\n",
    "Given the m x n maze, the ball's start position and the destination, where start = [startrow, startcol] and destination = [destinationrow, destinationcol], return true if the ball can stop at the destination, otherwise return false.\n",
    "\n",
    "You may assume that the borders of the maze are all walls (see examples)"
   ]
  },
  {
   "cell_type": "code",
   "execution_count": 16,
   "metadata": {},
   "outputs": [],
   "source": [
    "def hasPath(self, maze, start, destination):   \n",
    "        m,n = len(maze),len(maze[0])\n",
    "        visited = [[False for _ in range(n)] for _ in range(m)]\n",
    "        directions = [(0,1),(1,0),(-1,0),(0,-1)]\n",
    "        queue = deque([(start)])\n",
    "        visited[start[0]][start[1]] = True\n",
    "        while queue:\n",
    "            row,col = queue.popleft()\n",
    "            if row == destination[0] and col == destination[1]:\n",
    "                return True\n",
    "            for x,y in directions:\n",
    "                r,c = row+x,col+y\n",
    "                while 0 <= r < m and 0 <= c < n and maze[r][c] == 0:\n",
    "                    r += x\n",
    "                    c += y\n",
    "                if not visited[r-x][c-y]:\n",
    "                    visited[r-x][c-y] = True\n",
    "                    queue.append([r-x,c-y])\n",
    "        return False"
   ]
  },
  {
   "cell_type": "markdown",
   "metadata": {},
   "source": [
    "## Design Search Autocomplete System\n",
    "\n",
    "Design a search autocomplete system for a search engine. Users may input a sentence (at least one word and end with a special character '#'). For each character they type except '#', you need to return the top 3 historical hot sentences that have prefix the same as the part of sentence already typed. Here are the specific rules:\n",
    "\n",
    "The hot degree for a sentence is defined as the number of times a user typed the exactly same sentence before.\n",
    "The returned top 3 hot sentences should be sorted by hot degree (The first is the hottest one). If several sentences have the same degree of hot, you need to use ASCII-code order (smaller one appears first).\n",
    "If less than 3 hot sentences exist, then just return as many as you can.\n",
    "When the input is a special character, it means the sentence ends, and in this case, you need to return an empty list.\n",
    "Your job is to implement the following functions:\n",
    "\n",
    "The constructor function:\n",
    "\n",
    "AutocompleteSystem(String[] sentences, int[] times): This is the constructor. The input is historical data. Sentences is a string array consists of previously typed sentences. Times is the corresponding times a sentence has been typed. Your system should record these historical data.\n",
    "\n",
    "Now, the user wants to input a new sentence. The following function will provide the next character the user types:\n",
    "\n",
    "List<String> input(char c): The input c is the next character typed by the user. The character will only be lower-case letters ('a' to 'z'), blank space (' ') or a special character ('#'). Also, the previously typed sentence should be recorded in your system. The output will be the top 3 historical hot sentences that have prefix the same as the part of sentence already typed.\n",
    "\n",
    " \n",
    "Example:\n",
    "Operation: AutocompleteSystem([\"i love you\", \"island\",\"ironman\", \"i love leetcode\"], [5,3,2,2])\n",
    "The system have already tracked down the following sentences and their corresponding times:\n",
    "\"i love you\" : 5 times\n",
    "\"island\" : 3 times\n",
    "\"ironman\" : 2 times\n",
    "\"i love leetcode\" : 2 times\n",
    "Now, the user begins another search:\n",
    "\n",
    "Operation: input('i')\n",
    "Output: [\"i love you\", \"island\",\"i love leetcode\"]\n",
    "Explanation:\n",
    "There are four sentences that have prefix \"i\". Among them, \"ironman\" and \"i love leetcode\" have same hot degree. Since ' ' has ASCII code 32 and 'r' has ASCII code 114, \"i love leetcode\" should be in front of \"ironman\". Also we only need to output top 3 hot sentences, so \"ironman\" will be ignored.\n",
    "\n",
    "Operation: input(' ')\n",
    "Output: [\"i love you\",\"i love leetcode\"]\n",
    "Explanation:\n",
    "There are only two sentences that have prefix \"i \".\n",
    "\n",
    "Operation: input('a')\n",
    "Output: []\n",
    "Explanation:\n",
    "There are no sentences that have prefix \"i a\".\n",
    "\n",
    "Operation: input('#')\n",
    "Output: []\n",
    "Explanation:\n",
    "The user finished the input, the sentence \"i a\" should be saved as a historical sentence in system. And the following input will be counted as a new search."
   ]
  },
  {
   "cell_type": "code",
   "execution_count": 17,
   "metadata": {},
   "outputs": [],
   "source": [
    "class Trie:\n",
    "    \n",
    "    def __init__(self):\n",
    "        self.root = {}\n",
    "    \n",
    "    def insert(self,word):\n",
    "        cur = self.root\n",
    "        for c in word:\n",
    "            if c not in cur:\n",
    "                cur[c] = {}\n",
    "            cur = cur[c]\n",
    "        cur['#'] = word\n",
    "    \n",
    "    def search(self,prefix,cur=None):\n",
    "        if not cur:\n",
    "            cur = self.root\n",
    "        for c in prefix:\n",
    "            if c not in cur:\n",
    "                return []\n",
    "            cur = cur[c]\n",
    "        res = []\n",
    "        for k in cur:\n",
    "            if k == '#':\n",
    "                res.append(cur[k])\n",
    "            else:\n",
    "                res += self.search('',cur[k])\n",
    "        return res\n",
    "\n",
    "class AutocompleteSystem:\n",
    "\n",
    "    def __init__(self, sentences, times):\n",
    "        self.lookup = {}\n",
    "        for i,s in enumerate(sentences):\n",
    "            self.lookup[s] = times[i]\n",
    "        self.trie = Trie()\n",
    "        for s in sentences:\n",
    "            self.trie.insert(s)\n",
    "        self.keyword = \"\"\n",
    "\n",
    "    def input(self, c: str):\n",
    "        if c == '#':\n",
    "            self.lookup[self.keyword] = self.lookup.get(self.keyword,0)+1\n",
    "            self.trie.insert(self.keyword)\n",
    "            self.keyword = \"\"\n",
    "            return []\n",
    "        self.keyword += c\n",
    "        lst = self.trie.search(self.keyword)\n",
    "        lst.sort(key = lambda x:(-self.lookup[x],x))\n",
    "        return lst[:3]"
   ]
  },
  {
   "cell_type": "markdown",
   "metadata": {},
   "source": [
    "## Closest Binary Search Tree Value\n",
    "\n",
    "Given the root of a binary search tree and a target value, return the value in the BST that is closest to the target."
   ]
  },
  {
   "cell_type": "code",
   "execution_count": 18,
   "metadata": {},
   "outputs": [],
   "source": [
    "def closestValue(root, target):\n",
    "        closest = root.val\n",
    "        while root:\n",
    "            closest = min(closest,root.val, key = lambda x: abs(target - x))\n",
    "            root = root.left if target < root.val else root.right\n",
    "        return closest"
   ]
  },
  {
   "cell_type": "markdown",
   "metadata": {},
   "source": [
    "## Employee Free Time\n",
    "\n",
    "We are given a list schedule of employees, which represents the working time for each employee.\n",
    "\n",
    "Each employee has a list of non-overlapping Intervals, and these intervals are in sorted order.\n",
    "\n",
    "Return the list of finite intervals representing common, positive-length free time for all employees, also in sorted order.\n",
    "\n",
    "(Even though we are representing Intervals in the form [x, y], the objects inside are Intervals, not lists or arrays. For example, schedule[0][0].start = 1, schedule[0][0].end = 2, and schedule[0][0][0] is not defined).  Also, we wouldn't include intervals like [5, 5] in our answer, as they have zero length."
   ]
  },
  {
   "cell_type": "code",
   "execution_count": 19,
   "metadata": {},
   "outputs": [],
   "source": [
    "\"\"\"\n",
    "# Definition for an Interval.\n",
    "class Interval:\n",
    "    def __init__(self, start: int = None, end: int = None):\n",
    "        self.start = start\n",
    "        self.end = end\n",
    "\"\"\"\n",
    "\n",
    "class Solution:\n",
    "    def employeeFreeTime(self, avails: '[[Interval]]') -> '[Interval]':\n",
    "        heap = []\n",
    "        for interval in avails:\n",
    "            for iv in interval:\n",
    "                heappush(heap,(iv.start,iv.end))\n",
    "        s,e = heappop(heap)\n",
    "        free = e\n",
    "        result = []\n",
    "        while heap:\n",
    "            s,e = heappop(heap)\n",
    "            if s > free:\n",
    "                result.append(Interval(free,s))\n",
    "                free = e\n",
    "            else:\n",
    "                free = max(free,e)\n",
    "        return result"
   ]
  },
  {
   "cell_type": "markdown",
   "metadata": {},
   "source": [
    "## Design Hit Counter\n",
    "\n",
    "Design a hit counter which counts the number of hits received in the past 5 minutes (i.e., the past 300 seconds).\n",
    "\n",
    "Your system should accept a timestamp parameter (in seconds granularity), and you may assume that calls are being made to the system in chronological order (i.e., timestamp is monotonically increasing). Several hits may arrive roughly at the same time.\n",
    "\n",
    "Implement the HitCounter class:\n",
    "\n",
    "HitCounter() Initializes the object of the hit counter system.\n",
    "void hit(int timestamp) Records a hit that happened at timestamp (in seconds). Several hits may happen at the same timestamp.\n",
    "int getHits(int timestamp) Returns the number of hits in the past 5 minutes from timestamp (i.e., the past 300 seconds)."
   ]
  },
  {
   "cell_type": "code",
   "execution_count": 20,
   "metadata": {},
   "outputs": [],
   "source": [
    "class HitCounter:\n",
    "\n",
    "    def __init__(self):\n",
    "        \"\"\"\n",
    "        Initialize your data structure here.\n",
    "        \"\"\"\n",
    "        self.counter = []\n",
    "\n",
    "    def hit(self, timestamp: int) -> None:\n",
    "        \"\"\"\n",
    "        Record a hit.\n",
    "        @param timestamp - The current timestamp (in seconds granularity).\n",
    "        \"\"\"\n",
    "        self.counter.append(timestamp)\n",
    "\n",
    "    def getHits(self, timestamp: int) -> int:\n",
    "        \"\"\"\n",
    "        Return the number of hits in the past 5 minutes.\n",
    "        @param timestamp - The current timestamp (in seconds granularity).\n",
    "        \"\"\"\n",
    "        while self.counter and timestamp - self.counter[0] >= 300:\n",
    "            self.counter.pop(0)\n",
    "        return len(self.counter)"
   ]
  },
  {
   "cell_type": "markdown",
   "metadata": {},
   "source": [
    "## Meeting Rooms\n",
    "\n",
    "Given an array of meeting time intervals where intervals[i] = [starti, endi], determine if a person could attend all meetings."
   ]
  },
  {
   "cell_type": "code",
   "execution_count": 21,
   "metadata": {},
   "outputs": [],
   "source": [
    "class Solution:\n",
    "    def canAttendMeetings(self, intervals) -> bool:\n",
    "        intervals.sort(key=lambda x:x[0])\n",
    "        for i in range(1,len(intervals)):\n",
    "            if intervals[i-1][1] > intervals[i][0]:\n",
    "                return False\n",
    "        return True"
   ]
  },
  {
   "cell_type": "markdown",
   "metadata": {},
   "source": [
    "## Smallest String Starting from leaf"
   ]
  },
  {
   "cell_type": "code",
   "execution_count": 22,
   "metadata": {},
   "outputs": [],
   "source": [
    "class Node:\n",
    "    def __init__(self, val=0, left=None, right=None):\n",
    "        self.val = val\n",
    "        self.left = left\n",
    "        self.right = right"
   ]
  },
  {
   "cell_type": "code",
   "execution_count": 23,
   "metadata": {},
   "outputs": [],
   "source": [
    "class Solution:\n",
    "    def smallestFromLeaf(self, root) -> str:\n",
    "        self.result = []\n",
    "        self.size = float(\"inf\")\n",
    "        def dfs(node,current):\n",
    "            if node:\n",
    "                current.append(node.val)\n",
    "                if not node.left and not node.right:\n",
    "                    if len(current) <= self.size:\n",
    "                        self.size = len(current)\n",
    "                        self.result.append(''.join(reversed(current)))\n",
    "                dfs(node.left,current)\n",
    "                dfs(node.right,current)\n",
    "                current.pop()\n",
    "        \n",
    "        dfs(root,[])\n",
    "        return min(self.result)"
   ]
  },
  {
   "cell_type": "code",
   "execution_count": 24,
   "metadata": {},
   "outputs": [],
   "source": [
    "root = Node(\"a\")\n",
    "root.left = Node(\"e\")\n",
    "root.right = Node(\"c\")\n",
    "root.left.left = Node(\"d\")\n",
    "root.left.right = Node(\"a\")\n",
    "root.left.right.left = Node(\"b\")\n",
    "root.right.left = Node(\"b\")"
   ]
  },
  {
   "cell_type": "code",
   "execution_count": 25,
   "metadata": {},
   "outputs": [
    {
     "data": {
      "text/plain": [
       "'bca'"
      ]
     },
     "execution_count": 25,
     "metadata": {},
     "output_type": "execute_result"
    }
   ],
   "source": [
    "sol = Solution()\n",
    "sol.smallestFromLeaf(root)"
   ]
  },
  {
   "cell_type": "markdown",
   "metadata": {},
   "source": [
    "## Given a balanced string containing letters a-z and brckets '(){}[]' return the deepest nested substring"
   ]
  },
  {
   "cell_type": "code",
   "execution_count": 26,
   "metadata": {},
   "outputs": [],
   "source": [
    "from collections import defaultdict\n",
    "def maxDepthString(s):\n",
    "    max_depth = 0\n",
    "    output = []\n",
    "    open_brackets = {\"(\": \")\", \"{\": \"}\", \"[\":\"]\"}\n",
    "    start_window = 0\n",
    "    curr_depth = 0\n",
    "    for end_window, c in enumerate(s):\n",
    "        if c in open_brackets:\n",
    "            start_window = end_window\n",
    "            curr_depth += 1\n",
    "            if curr_depth > max_depth:\n",
    "                max_depth = curr_depth\n",
    "                output = []\n",
    "            \n",
    "        if c in \")]}\" and c == open_brackets[s[start_window]]:\n",
    "            output.append(s[start_window +1: end_window])\n",
    "            curr_depth -= 1\n",
    "            \n",
    "    return output"
   ]
  },
  {
   "cell_type": "code",
   "execution_count": 27,
   "metadata": {},
   "outputs": [
    {
     "name": "stdout",
     "output_type": "stream",
     "text": [
      "True\n",
      "True\n",
      "True\n",
      "True\n",
      "True\n",
      "True\n"
     ]
    }
   ],
   "source": [
    "print(maxDepthString(\"abc(def)ghi\") == [\"def\"])\n",
    "print(maxDepthString(\"abc(def[ghi]jkl)mno\") == [\"ghi\"])\n",
    "print(maxDepthString(\"abc(def)ghi[jkl]mno\") == [\"def\", \"jkl\"])\n",
    "print(maxDepthString(\"abc\") == [])\n",
    "print(maxDepthString(\"([{a}{b}]c)\") == [\"a\", \"b\"])\n",
    "print(maxDepthString(\"abc(def)g[hi]\") == [\"def\", \"hi\"])"
   ]
  },
  {
   "cell_type": "markdown",
   "metadata": {},
   "source": [
    "## Encode string that has a count after it sees consecutive characters"
   ]
  },
  {
   "cell_type": "code",
   "execution_count": 28,
   "metadata": {},
   "outputs": [],
   "source": [
    "def consecutive_chars(s):\n",
    "    stack = []\n",
    "    for c in s:\n",
    "        if stack and stack[-1][0] == c:\n",
    "            stack[-1][1] += 1\n",
    "        else:\n",
    "            stack.append([c,1])\n",
    "    return ''.join([c+str(count) for c,count in stack])"
   ]
  },
  {
   "cell_type": "code",
   "execution_count": 29,
   "metadata": {},
   "outputs": [
    {
     "data": {
      "text/plain": [
       "'a2b1a2c1a3'"
      ]
     },
     "execution_count": 29,
     "metadata": {},
     "output_type": "execute_result"
    }
   ],
   "source": [
    "consecutive_chars(\"aabaacaaa\")"
   ]
  },
  {
   "cell_type": "markdown",
   "metadata": {},
   "source": [
    "## Count Pairs from two sorted arrays whose sum is equal to given value x"
   ]
  },
  {
   "cell_type": "code",
   "execution_count": 30,
   "metadata": {},
   "outputs": [],
   "source": [
    "def count_pairs(arr1,arr2,x):\n",
    "    left,right = 0,len(arr2)-1\n",
    "    result = []\n",
    "    while left < len(arr1) and right >= 0:\n",
    "        if arr1[left] + arr2[right] == x:\n",
    "            result.append([arr1[left],arr2[right]])\n",
    "            left += 1\n",
    "            right -= 1\n",
    "        elif arr1[left] + arr2[right] < x:\n",
    "            left += 1\n",
    "        else:\n",
    "            right -= 1\n",
    "    return result"
   ]
  },
  {
   "cell_type": "code",
   "execution_count": 31,
   "metadata": {},
   "outputs": [
    {
     "data": {
      "text/plain": [
       "[[1, 8], [3, 6], [4, 5], [5, 4], [7, 2]]"
      ]
     },
     "execution_count": 31,
     "metadata": {},
     "output_type": "execute_result"
    }
   ],
   "source": [
    "count_pairs([1, 2, 3, 4, 5, 7, 11],[2, 3, 4, 5, 6, 8, 12],9)"
   ]
  },
  {
   "cell_type": "markdown",
   "metadata": {},
   "source": [
    "## Given two unsorted arrays, find all pairs whose sum is x"
   ]
  },
  {
   "cell_type": "code",
   "execution_count": 32,
   "metadata": {},
   "outputs": [],
   "source": [
    "def count_pairs(arr1,arr2,x):\n",
    "    result = []\n",
    "    arr1 = set(arr1)\n",
    "    for i in range(len(arr2)):\n",
    "        if x - arr2[i] in arr1:\n",
    "            result.append([x - arr2[i],arr2[i]])\n",
    "    return result"
   ]
  },
  {
   "cell_type": "code",
   "execution_count": 33,
   "metadata": {},
   "outputs": [
    {
     "data": {
      "text/plain": [
       "[[7, 2], [5, 4], [4, 5], [3, 6], [1, 8]]"
      ]
     },
     "execution_count": 33,
     "metadata": {},
     "output_type": "execute_result"
    }
   ],
   "source": [
    "count_pairs([1, 2, 3, 4, 5, 7, 11],[2, 3, 4, 5, 6, 8, 12],9)"
   ]
  },
  {
   "cell_type": "markdown",
   "metadata": {},
   "source": [
    "## Flatten Singly LinkedList"
   ]
  },
  {
   "cell_type": "code",
   "execution_count": 34,
   "metadata": {},
   "outputs": [],
   "source": [
    "class Node:\n",
    "    def __init__(self,val):\n",
    "        self.val = val\n",
    "        self.next = None\n",
    "        self.child = None\n",
    "    \n",
    "    def _print(self):\n",
    "        temp = self\n",
    "        while temp:\n",
    "            print(temp.val, end = \" \")\n",
    "            temp = temp.next"
   ]
  },
  {
   "cell_type": "code",
   "execution_count": 35,
   "metadata": {},
   "outputs": [],
   "source": [
    "def flatten(head):\n",
    "    current = head\n",
    "    while current:\n",
    "        if current.child:\n",
    "            p1 = current.child\n",
    "            current.child = None\n",
    "            after = current.next\n",
    "            current.next = p1\n",
    "            while p1.next:\n",
    "                p1 = p1.next\n",
    "            p1.next = after\n",
    "        current = current.next\n",
    "    return head"
   ]
  },
  {
   "cell_type": "code",
   "execution_count": 36,
   "metadata": {},
   "outputs": [
    {
     "name": "stdout",
     "output_type": "stream",
     "text": [
      "1 2 3 7 8 11 12 9 10 4 5 6 "
     ]
    }
   ],
   "source": [
    "head = Node(1)\n",
    "head.next = Node(2)\n",
    "head.next.next = Node(3)\n",
    "head.next.next.child = Node(7)\n",
    "head.next.next.next = Node(4)\n",
    "head.next.next.child.next = Node(8)\n",
    "head.next.next.child.next.child = Node(11)\n",
    "head.next.next.child.next.child.next = Node(12)\n",
    "head.next.next.child.next.next = Node(9)\n",
    "head.next.next.child.next.next.next = Node(10)\n",
    "head.next.next.next.next = Node(5)\n",
    "head.next.next.next.next.next = Node(6)\n",
    "flatten(head)._print()"
   ]
  },
  {
   "cell_type": "markdown",
   "metadata": {},
   "source": [
    "## 1D Candy Crush"
   ]
  },
  {
   "cell_type": "code",
   "execution_count": 37,
   "metadata": {},
   "outputs": [],
   "source": [
    "def candy_crush(board):\n",
    "    if not board:\n",
    "        return board\n",
    "    stack = [[board[0],1]]\n",
    "    for i in range(1,len(board)):\n",
    "        if board[i] != board[i-1]:\n",
    "            if stack[-1][1] >= 3:\n",
    "                stack.pop()\n",
    "            if stack and stack[-1][0] == board[i]:\n",
    "                stack[-1][1] += 1\n",
    "            else:\n",
    "                stack.append([board[i],1])\n",
    "        else:\n",
    "            stack[-1][1] += 1\n",
    "    if stack[-1][1] >= 3:\n",
    "        stack.pop()\n",
    "    return \"\".join(c*k for c,k in stack)"
   ]
  },
  {
   "cell_type": "code",
   "execution_count": 38,
   "metadata": {},
   "outputs": [
    {
     "name": "stdout",
     "output_type": "stream",
     "text": [
      "c\n",
      "cd\n",
      "\n",
      "cd\n",
      "x\n"
     ]
    }
   ],
   "source": [
    "print(candy_crush(\"aaaabbbc\"))\n",
    "print(candy_crush(\"aabbbacd\"))\n",
    "print(candy_crush(\"aabbccddeeedcba\"))\n",
    "print(candy_crush(\"aabbbaacd\"))\n",
    "print(candy_crush(\"dddabbbbaccccaax\"))"
   ]
  },
  {
   "cell_type": "code",
   "execution_count": 39,
   "metadata": {},
   "outputs": [],
   "source": [
    "def find(s, seen = []):\n",
    "    ''' return seen, s \n",
    "        seen - running list of all indexes already excised in \n",
    "               prev iters, and add to indexes for the (3+)-mer \n",
    "               removed in current call of the function\n",
    "        s - with [possibly] one (3+)-mer removed\n",
    "    '''\n",
    "    count= 0\n",
    "    currentChar = \"\"\n",
    "    occurrence1, occurrence2 = None, None\n",
    "    for i in range(len(s)):\n",
    "        if (s[i] == currentChar) and (i not in seen):\n",
    "            count += 1\n",
    "            if count == 3:\n",
    "                occurrence1 = i - 2\n",
    "        else:\n",
    "            if count >= 3:\n",
    "                occurrence2 = i\n",
    "                break\n",
    "            else:\n",
    "                currentChar = s[i]\n",
    "                count = 1 \n",
    "    if occurrence1 is None:\n",
    "        return seen, s\n",
    "    else:\n",
    "        if occurrence1 == 0 and not occurrence2:\n",
    "            return seen,\"\"\n",
    "        seen.extend(list(range(occurrence1, occurrence2)))\n",
    "        return seen, (s[:occurrence1] + s[occurrence2:])\n",
    "\n",
    "\n",
    "def shortest_string(s):\n",
    "    '''recursive reduction with branching all possiblilites:\n",
    "         - add a level to `branches` for each time (3+)-mer is removed\n",
    "           from its previous level. \n",
    "         - multiple items in each level of the branch represent dif\n",
    "           possibilities of removal\n",
    "         - seen keeps track of previous indexes removed for that \n",
    "           {level, item}, so that `find()`can avoid repeating the same\n",
    "           removal.\n",
    "    '''\n",
    "    level = 0\n",
    "    branches = [[s]]\n",
    "    while True:\n",
    "        branches.append([])\n",
    "        for s in branches[level]:\n",
    "            seen = []\n",
    "            for _ in range(len(s)):\n",
    "                seen, newString = find(s, seen)\n",
    "                if newString in branches[level+1] or newString == s:\n",
    "                    continue\n",
    "                branches[level+1].append(newString)\n",
    "        if len(branches[level+1]) == 0:\n",
    "            len_s = [len(c) for c in branches[level]]\n",
    "            ind = len_s.index(min(len_s))\n",
    "            return branches[level][ind]\n",
    "        level += 1"
   ]
  },
  {
   "cell_type": "code",
   "execution_count": 40,
   "metadata": {},
   "outputs": [
    {
     "name": "stdout",
     "output_type": "stream",
     "text": [
      "c\n",
      "cd\n",
      "\n",
      "cd\n",
      "x\n",
      "cd\n"
     ]
    }
   ],
   "source": [
    "print(shortest_string(\"aaaabbbc\"))\n",
    "print(shortest_string(\"aabbbacd\"))\n",
    "print(shortest_string(\"aabbccddeeedcba\"))\n",
    "print(shortest_string(\"aabbbaacd\"))\n",
    "print(shortest_string(\"dddabbbbaccccaax\"))\n",
    "print(shortest_string('aaabbbacd'))"
   ]
  }
 ],
 "metadata": {
  "kernelspec": {
   "display_name": "Python 3",
   "language": "python",
   "name": "python3"
  },
  "language_info": {
   "codemirror_mode": {
    "name": "ipython",
    "version": 3
   },
   "file_extension": ".py",
   "mimetype": "text/x-python",
   "name": "python",
   "nbconvert_exporter": "python",
   "pygments_lexer": "ipython3",
   "version": "3.7.6"
  }
 },
 "nbformat": 4,
 "nbformat_minor": 4
}
