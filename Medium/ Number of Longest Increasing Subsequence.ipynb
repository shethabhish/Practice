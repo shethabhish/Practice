{
 "cells": [
  {
   "cell_type": "code",
   "execution_count": 1,
   "metadata": {},
   "outputs": [],
   "source": [
    "def number_LIS(nums):\n",
    "    n = len(nums)\n",
    "    if n <= 1:\n",
    "        return n\n",
    "    lengths = [1]*n\n",
    "    count = [1]*n\n",
    "    maxlen = 1\n",
    "    for i in range(1,n):\n",
    "        for j in range(i):\n",
    "            if nums[i] > nums[j]:\n",
    "                if lengths[j]+1 > lengths[i]:\n",
    "                    lengths[i] = lengths[j]+1\n",
    "                    count[i] = count[j]\n",
    "                elif lengths[j]+1 == lengths[i]:\n",
    "                    count[i] += count[j]\n",
    "    longest = max(lengths)\n",
    "    return sum(c for i,c in enumerate(count) if lengths[i] == longest)"
   ]
  },
  {
   "cell_type": "code",
   "execution_count": 2,
   "metadata": {},
   "outputs": [
    {
     "data": {
      "text/plain": [
       "2"
      ]
     },
     "execution_count": 2,
     "metadata": {},
     "output_type": "execute_result"
    }
   ],
   "source": [
    "number_LIS([1,3,5,4,7])\n",
    "#Time Complexity O(N^2)\n",
    "#Space Complexity O(N)"
   ]
  }
 ],
 "metadata": {
  "kernelspec": {
   "display_name": "Python 3",
   "language": "python",
   "name": "python3"
  },
  "language_info": {
   "codemirror_mode": {
    "name": "ipython",
    "version": 3
   },
   "file_extension": ".py",
   "mimetype": "text/x-python",
   "name": "python",
   "nbconvert_exporter": "python",
   "pygments_lexer": "ipython3",
   "version": "3.7.6"
  }
 },
 "nbformat": 4,
 "nbformat_minor": 4
}
