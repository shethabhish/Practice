{
 "cells": [
  {
   "cell_type": "code",
   "execution_count": 1,
   "metadata": {},
   "outputs": [],
   "source": [
    "class Node:\n",
    "    def __init__(self,val):\n",
    "        self.val = val\n",
    "        self.next = None\n",
    "    def printt(self):\n",
    "        temp = self\n",
    "        while temp:\n",
    "            print(temp.val, end = \" \")\n",
    "            temp = temp.next"
   ]
  },
  {
   "cell_type": "code",
   "execution_count": 2,
   "metadata": {},
   "outputs": [],
   "source": [
    "def sort_list(head):\n",
    "    if head is None or head.next is None:\n",
    "        return head\n",
    "    mid = find_mid(head)\n",
    "    left = sort_list(head)\n",
    "    right = sort_list(mid)\n",
    "    return merge(left,right)"
   ]
  },
  {
   "cell_type": "code",
   "execution_count": 3,
   "metadata": {},
   "outputs": [],
   "source": [
    "def find_mid(head):\n",
    "    slow,fast = head,head\n",
    "    prev = None\n",
    "    while fast and fast.next:\n",
    "        prev,slow,fast = slow,slow.next,fast.next.next\n",
    "    if prev:\n",
    "        prev.next = None\n",
    "    return slow"
   ]
  },
  {
   "cell_type": "code",
   "execution_count": 4,
   "metadata": {},
   "outputs": [],
   "source": [
    "def merge(left,right):\n",
    "    dummy = head = Node(0)\n",
    "    while left and right:\n",
    "        if left.val > right.val:\n",
    "            dummy.next = right\n",
    "            right = right.next\n",
    "        else:\n",
    "            dummy.next = left\n",
    "            left = left.next\n",
    "        dummy = dummy.next\n",
    "    if left:\n",
    "        dummy.next = left\n",
    "    if right:\n",
    "        dummy.next = right\n",
    "    return head.next"
   ]
  },
  {
   "cell_type": "code",
   "execution_count": 5,
   "metadata": {},
   "outputs": [],
   "source": [
    "head = Node(4)\n",
    "head.next = Node(2)\n",
    "head.next.next = Node(1)\n",
    "head.next.next.next = Node(3)"
   ]
  },
  {
   "cell_type": "code",
   "execution_count": 6,
   "metadata": {},
   "outputs": [
    {
     "name": "stdout",
     "output_type": "stream",
     "text": [
      "1 2 3 4 "
     ]
    }
   ],
   "source": [
    "sort_list(head).printt()\n",
    "#Time Complexity O(NlogN)\n",
    "#Space Complexity O(1)"
   ]
  }
 ],
 "metadata": {
  "kernelspec": {
   "display_name": "Python 3",
   "language": "python",
   "name": "python3"
  },
  "language_info": {
   "codemirror_mode": {
    "name": "ipython",
    "version": 3
   },
   "file_extension": ".py",
   "mimetype": "text/x-python",
   "name": "python",
   "nbconvert_exporter": "python",
   "pygments_lexer": "ipython3",
   "version": "3.7.6"
  }
 },
 "nbformat": 4,
 "nbformat_minor": 4
}
