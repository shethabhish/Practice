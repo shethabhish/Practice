{
 "cells": [
  {
   "cell_type": "code",
   "execution_count": 1,
   "metadata": {},
   "outputs": [],
   "source": [
    "from collections import deque\n",
    "def course_schedule(numCourses,prerequisites):\n",
    "    sortedOrder = []\n",
    "    if numCourses <= 0:\n",
    "        return sortedOrder\n",
    "    graph = {i:[] for i in range(numCourses)}\n",
    "    indegree = {i:0 for i in range(numCourses)}\n",
    "    sources = deque()\n",
    "    for pre in prerequisites:\n",
    "        parent,child = pre[0],pre[1]\n",
    "        graph[parent].append(child)\n",
    "        indegree[child] += 1\n",
    "    sources = deque()\n",
    "    for key in indegree:\n",
    "        if indegree[key] == 0:\n",
    "            sources.append(key)\n",
    "    while sources:\n",
    "        vertex = sources.popleft()\n",
    "        sortedOrder.append(vertex)\n",
    "        for child in graph[vertex]:\n",
    "            indegree[child] -= 1\n",
    "            if indegree[child] == 0:\n",
    "                sources.append(child)\n",
    "    if len(sortedOrder) !=  numCourses:\n",
    "        return []\n",
    "    return sortedOrder"
   ]
  },
  {
   "cell_type": "code",
   "execution_count": 2,
   "metadata": {},
   "outputs": [
    {
     "data": {
      "text/plain": [
       "[3, 1, 2, 0]"
      ]
     },
     "execution_count": 2,
     "metadata": {},
     "output_type": "execute_result"
    }
   ],
   "source": [
    "course_schedule(4,[[1,0],[2,0],[3,1],[3,2]])\n",
    "#Time Complexity O(V+E)\n",
    "#Space Complexity O(V+E)"
   ]
  }
 ],
 "metadata": {
  "kernelspec": {
   "display_name": "Python 3",
   "language": "python",
   "name": "python3"
  },
  "language_info": {
   "codemirror_mode": {
    "name": "ipython",
    "version": 3
   },
   "file_extension": ".py",
   "mimetype": "text/x-python",
   "name": "python",
   "nbconvert_exporter": "python",
   "pygments_lexer": "ipython3",
   "version": "3.7.6"
  }
 },
 "nbformat": 4,
 "nbformat_minor": 4
}
