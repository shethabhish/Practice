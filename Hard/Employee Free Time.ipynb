{
 "cells": [
  {
   "cell_type": "code",
   "execution_count": 1,
   "metadata": {},
   "outputs": [],
   "source": [
    "from heapq import *\n",
    "def employee_free_time(avails):\n",
    "    heap = []\n",
    "    for interval in avails:\n",
    "        for iv in interval:\n",
    "            heappush(heap,((iv[0],iv[1])))\n",
    "    s,e = heappop(heap)\n",
    "    free = e\n",
    "    res = []\n",
    "    while heap:\n",
    "        s,e = heappop(heap)\n",
    "        if s > free:\n",
    "            res.append([free,s])\n",
    "            free = e\n",
    "        else:\n",
    "            free = max(free,e)\n",
    "    return res"
   ]
  },
  {
   "cell_type": "code",
   "execution_count": 2,
   "metadata": {},
   "outputs": [
    {
     "data": {
      "text/plain": [
       "[[3, 4]]"
      ]
     },
     "execution_count": 2,
     "metadata": {},
     "output_type": "execute_result"
    }
   ],
   "source": [
    "employee_free_time([[[1,2],[5,6]],[[1,3]],[[4,10]]])\n",
    "#Time Complexity O(NlogN)\n",
    "#Space Complexity O(N)"
   ]
  }
 ],
 "metadata": {
  "kernelspec": {
   "display_name": "Python 3",
   "language": "python",
   "name": "python3"
  },
  "language_info": {
   "codemirror_mode": {
    "name": "ipython",
    "version": 3
   },
   "file_extension": ".py",
   "mimetype": "text/x-python",
   "name": "python",
   "nbconvert_exporter": "python",
   "pygments_lexer": "ipython3",
   "version": "3.7.6"
  }
 },
 "nbformat": 4,
 "nbformat_minor": 4
}
