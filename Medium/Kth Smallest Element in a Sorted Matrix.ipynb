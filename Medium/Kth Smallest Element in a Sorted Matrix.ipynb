{
 "cells": [
  {
   "cell_type": "code",
   "execution_count": 1,
   "metadata": {},
   "outputs": [],
   "source": [
    "def kth_smallest(matrix,k):\n",
    "    n = len(matrix)\n",
    "    start,end = matrix[0][0],matrix[n-1][n-1]\n",
    "    while start < end:\n",
    "        mid = start + (end - start)//2\n",
    "        smaller,larger = matrix[0][0],matrix[n-1][n-1]\n",
    "        count,smaller,larger = countless(matrix,mid,smaller,larger)\n",
    "        if count == k:\n",
    "            return smaller\n",
    "        if count < k:\n",
    "            start = larger\n",
    "        else:\n",
    "            end = smaller\n",
    "    return start"
   ]
  },
  {
   "cell_type": "code",
   "execution_count": 2,
   "metadata": {},
   "outputs": [],
   "source": [
    "def countless(matrix,mid,smaller,larger):\n",
    "    count,n = 0,len(matrix)\n",
    "    row,col = n-1,0\n",
    "    while row >= 0 and col < n:\n",
    "        if matrix[row][col] > mid:\n",
    "            larger = min(larger,matrix[row][col])\n",
    "            row -= 1\n",
    "        else:\n",
    "            smaller = max(smaller,matrix[row][col])\n",
    "            count += row+1\n",
    "            col += 1\n",
    "    return count,smaller,larger"
   ]
  },
  {
   "cell_type": "code",
   "execution_count": 3,
   "metadata": {},
   "outputs": [
    {
     "data": {
      "text/plain": [
       "13"
      ]
     },
     "execution_count": 3,
     "metadata": {},
     "output_type": "execute_result"
    }
   ],
   "source": [
    "kth_smallest([\n",
    "   [ 1,  5,  9],\n",
    "   [10, 11, 13],\n",
    "   [12, 13, 15]\n",
    "],8)\n",
    "#Time Complexity O(NlogN)\n",
    "#Space Complexity O(1)"
   ]
  }
 ],
 "metadata": {
  "kernelspec": {
   "display_name": "Python 3",
   "language": "python",
   "name": "python3"
  },
  "language_info": {
   "codemirror_mode": {
    "name": "ipython",
    "version": 3
   },
   "file_extension": ".py",
   "mimetype": "text/x-python",
   "name": "python",
   "nbconvert_exporter": "python",
   "pygments_lexer": "ipython3",
   "version": "3.7.6"
  }
 },
 "nbformat": 4,
 "nbformat_minor": 4
}
