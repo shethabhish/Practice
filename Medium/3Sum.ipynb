{
 "cells": [
  {
   "cell_type": "code",
   "execution_count": 1,
   "metadata": {},
   "outputs": [],
   "source": [
    "def three_sum(nums):\n",
    "    nums.sort()\n",
    "    result = []\n",
    "    for i in range(len(nums)):\n",
    "        if i > 0 and nums[i-1] == nums[i]:\n",
    "            continue\n",
    "        left,right = i+1,len(nums)-1\n",
    "        while left < right:\n",
    "            current = nums[i]+nums[left]+nums[right]\n",
    "            if current < 0:\n",
    "                left += 1\n",
    "            elif current > 0:\n",
    "                right -= 1\n",
    "            else:\n",
    "                result.append([nums[i],nums[left],nums[right]])\n",
    "                while left < right and nums[left] == nums[left+1]:\n",
    "                    left += 1\n",
    "                while left < right and nums[right] == nums[right-1]:\n",
    "                    right -= 1\n",
    "                left += 1\n",
    "                right -= 1\n",
    "    return result"
   ]
  },
  {
   "cell_type": "code",
   "execution_count": 2,
   "metadata": {},
   "outputs": [
    {
     "data": {
      "text/plain": [
       "[[-1, -1, 2], [-1, 0, 1]]"
      ]
     },
     "execution_count": 2,
     "metadata": {},
     "output_type": "execute_result"
    }
   ],
   "source": [
    "three_sum([-1,0,1,2,-1,-4])\n",
    "#Time Complexity O(N^2)\n",
    "#Space Complexity O(N)"
   ]
  }
 ],
 "metadata": {
  "kernelspec": {
   "display_name": "Python 3",
   "language": "python",
   "name": "python3"
  },
  "language_info": {
   "codemirror_mode": {
    "name": "ipython",
    "version": 3
   },
   "file_extension": ".py",
   "mimetype": "text/x-python",
   "name": "python",
   "nbconvert_exporter": "python",
   "pygments_lexer": "ipython3",
   "version": "3.7.6"
  }
 },
 "nbformat": 4,
 "nbformat_minor": 4
}
