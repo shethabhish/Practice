{
 "cells": [
  {
   "cell_type": "code",
   "execution_count": 1,
   "metadata": {},
   "outputs": [],
   "source": [
    "from collections import defaultdict,Counter\n",
    "class FreqStack:\n",
    "    def __init__(self):\n",
    "        self.freq = Counter()\n",
    "        self.group = defaultdict(list)\n",
    "        self.maxfreq = 0\n",
    "    def push(self,x):\n",
    "        f,m = self.freq,self.group\n",
    "        f[x] += 1\n",
    "        self.maxfreq = max(self.maxfreq,f[x])\n",
    "        m[f[x]].append(x)\n",
    "    def pop(self):\n",
    "        freq,m,maxf = self.freq,self.group,self.maxfreq\n",
    "        x = m[maxf].pop()\n",
    "        if not m[maxf]:\n",
    "            self.maxfreq = maxf-1\n",
    "        freq[x] -= 1\n",
    "        return x"
   ]
  },
  {
   "cell_type": "code",
   "execution_count": 2,
   "metadata": {},
   "outputs": [
    {
     "name": "stdout",
     "output_type": "stream",
     "text": [
      "5\n",
      "7\n",
      "5\n",
      "4\n"
     ]
    }
   ],
   "source": [
    "freq = FreqStack()\n",
    "freq.push(5)\n",
    "freq.push(7)\n",
    "freq.push(5)\n",
    "freq.push(7)\n",
    "freq.push(4)\n",
    "freq.push(5)\n",
    "print(freq.pop())\n",
    "print(freq.pop())\n",
    "print(freq.pop())\n",
    "print(freq.pop())\n",
    "#Time Complexity O(1)\n",
    "#Space Complexity O(N)"
   ]
  }
 ],
 "metadata": {
  "kernelspec": {
   "display_name": "Python 3",
   "language": "python",
   "name": "python3"
  },
  "language_info": {
   "codemirror_mode": {
    "name": "ipython",
    "version": 3
   },
   "file_extension": ".py",
   "mimetype": "text/x-python",
   "name": "python",
   "nbconvert_exporter": "python",
   "pygments_lexer": "ipython3",
   "version": "3.7.6"
  }
 },
 "nbformat": 4,
 "nbformat_minor": 4
}
