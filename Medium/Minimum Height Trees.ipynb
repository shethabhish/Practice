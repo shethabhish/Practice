{
 "cells": [
  {
   "cell_type": "code",
   "execution_count": 1,
   "metadata": {},
   "outputs": [],
   "source": [
    "def min_height_trees(n,edges):\n",
    "    if n <= 2:\n",
    "        return [i for i in range(n)]\n",
    "    neighbors = [set() for i in range(n)]\n",
    "    for start,end in edges:\n",
    "        neighbors[start].add(end)\n",
    "        neighbors[end].add(start)\n",
    "    leaves = []\n",
    "    for i in range(n):\n",
    "        if len(neighbors[i]) == 1:\n",
    "            leaves.append(i)\n",
    "    remainingnodes = n\n",
    "    while remainingnodes > 2:\n",
    "        remainingnodes -= len(leaves)\n",
    "        newleaves = []\n",
    "        while leaves:\n",
    "            leaf = leaves.pop()\n",
    "            neighbor = neighbors[leaf].pop()\n",
    "            neighbors[neighbor].remove(leaf)\n",
    "            if len(neighbors[neighbor]) == 1:\n",
    "                newleaves.append(neighbor)\n",
    "        leaves = newleaves\n",
    "    return leaves"
   ]
  },
  {
   "cell_type": "code",
   "execution_count": 2,
   "metadata": {},
   "outputs": [
    {
     "data": {
      "text/plain": [
       "[1]"
      ]
     },
     "execution_count": 2,
     "metadata": {},
     "output_type": "execute_result"
    }
   ],
   "source": [
    "min_height_trees(4,[[1,0],[1,2],[1,3]])\n",
    "#Time Complexity O(V)\n",
    "#Space Complexity O(V)"
   ]
  }
 ],
 "metadata": {
  "kernelspec": {
   "display_name": "Python 3",
   "language": "python",
   "name": "python3"
  },
  "language_info": {
   "codemirror_mode": {
    "name": "ipython",
    "version": 3
   },
   "file_extension": ".py",
   "mimetype": "text/x-python",
   "name": "python",
   "nbconvert_exporter": "python",
   "pygments_lexer": "ipython3",
   "version": "3.7.6"
  }
 },
 "nbformat": 4,
 "nbformat_minor": 4
}
