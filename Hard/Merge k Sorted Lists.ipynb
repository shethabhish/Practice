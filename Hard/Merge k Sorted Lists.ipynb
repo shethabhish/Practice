{
 "cells": [
  {
   "cell_type": "code",
   "execution_count": 1,
   "metadata": {},
   "outputs": [],
   "source": [
    "class Node:\n",
    "    def __init__(self,val):\n",
    "        self.val = val\n",
    "        self.next = None\n",
    "    def __lt__(self,other):\n",
    "        return self.val < other.val"
   ]
  },
  {
   "cell_type": "code",
   "execution_count": 2,
   "metadata": {},
   "outputs": [],
   "source": [
    "from heapq import *\n",
    "def merge_k(lists):\n",
    "    minheap = []\n",
    "    for root in lists:\n",
    "        if root is not None:\n",
    "            heappush(minheap,root)\n",
    "    resulthead,resulttail = None,None\n",
    "    while minheap:\n",
    "        node = heappop(minheap)\n",
    "        if resulthead is None:\n",
    "            resulthead = resulttail = node\n",
    "        else:\n",
    "            resulttail.next = node\n",
    "            resulttail = resulttail.next\n",
    "        if node.next is not None:\n",
    "            heappush(minheap,node.next)\n",
    "    return resulthead"
   ]
  },
  {
   "cell_type": "code",
   "execution_count": 3,
   "metadata": {},
   "outputs": [
    {
     "name": "stdout",
     "output_type": "stream",
     "text": [
      "1 2 3 3 4 6 6 7 8 "
     ]
    }
   ],
   "source": [
    "l1 = Node(2)\n",
    "l1.next = Node(6)\n",
    "l1.next.next = Node(8)\n",
    "l2 = Node(3)\n",
    "l2.next = Node(6)\n",
    "l2.next.next = Node(7)\n",
    "l3 = Node(1)\n",
    "l3.next = Node(3)\n",
    "l3.next.next = Node(4)\n",
    "result = merge_k([l1,l2,l3])\n",
    "while result is not None:\n",
    "    print(result.val, end=\" \")\n",
    "    result = result.next\n",
    "#Time Complexity O(N*logK)\n",
    "#Space Complexity O(K)"
   ]
  }
 ],
 "metadata": {
  "kernelspec": {
   "display_name": "Python 3",
   "language": "python",
   "name": "python3"
  },
  "language_info": {
   "codemirror_mode": {
    "name": "ipython",
    "version": 3
   },
   "file_extension": ".py",
   "mimetype": "text/x-python",
   "name": "python",
   "nbconvert_exporter": "python",
   "pygments_lexer": "ipython3",
   "version": "3.7.6"
  }
 },
 "nbformat": 4,
 "nbformat_minor": 4
}
