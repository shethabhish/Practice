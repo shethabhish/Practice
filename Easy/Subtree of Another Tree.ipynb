{
 "cells": [
  {
   "cell_type": "code",
   "execution_count": 1,
   "metadata": {},
   "outputs": [],
   "source": [
    "class Tree:\n",
    "    def __init__(self,val):\n",
    "        self.val = val\n",
    "        self.left = None\n",
    "        self.right = None"
   ]
  },
  {
   "cell_type": "code",
   "execution_count": 2,
   "metadata": {},
   "outputs": [],
   "source": [
    "def subtree(s,t):\n",
    "    return s != None and (same_tree(s,t) or subtree(s.left,t) or subtree(s.right,t))"
   ]
  },
  {
   "cell_type": "code",
   "execution_count": 3,
   "metadata": {},
   "outputs": [],
   "source": [
    "def same_tree(s,t):\n",
    "    if s is None and t is None:\n",
    "        return True\n",
    "    elif s is not None and t is None:\n",
    "        return False\n",
    "    elif s is None and t is not None:\n",
    "        return False\n",
    "    else:\n",
    "        if s.val == t.val and same_tree(s.left,t.left) and same_tree(s.right,t.right):\n",
    "            return True\n",
    "        else:\n",
    "            return False"
   ]
  },
  {
   "cell_type": "code",
   "execution_count": 4,
   "metadata": {},
   "outputs": [],
   "source": [
    "s = Tree(3)\n",
    "s.left = Tree(4)\n",
    "s.left.left = Tree(1)\n",
    "s.left.right = Tree(2)\n",
    "s.right = Tree(5)\n",
    "\n",
    "t = Tree(4)\n",
    "t.left = Tree(1)\n",
    "t.right = Tree(2)"
   ]
  },
  {
   "cell_type": "code",
   "execution_count": 5,
   "metadata": {},
   "outputs": [
    {
     "data": {
      "text/plain": [
       "True"
      ]
     },
     "execution_count": 5,
     "metadata": {},
     "output_type": "execute_result"
    }
   ],
   "source": [
    "subtree(s,t)"
   ]
  }
 ],
 "metadata": {
  "kernelspec": {
   "display_name": "Python 3",
   "language": "python",
   "name": "python3"
  },
  "language_info": {
   "codemirror_mode": {
    "name": "ipython",
    "version": 3
   },
   "file_extension": ".py",
   "mimetype": "text/x-python",
   "name": "python",
   "nbconvert_exporter": "python",
   "pygments_lexer": "ipython3",
   "version": "3.7.6"
  }
 },
 "nbformat": 4,
 "nbformat_minor": 4
}
