{
 "cells": [
  {
   "cell_type": "code",
   "execution_count": 1,
   "metadata": {},
   "outputs": [],
   "source": [
    "def combination_sum2(candidates,target):\n",
    "    result = []\n",
    "    def dfs(arr,target,buffer,start):\n",
    "        if target < 0:\n",
    "            return\n",
    "        if target == 0:\n",
    "            result.append(buffer)\n",
    "        for i in range(start,len(arr)):\n",
    "            if i > start and arr[i-1] == arr[i]:\n",
    "                continue\n",
    "            dfs(arr,target-arr[i],buffer+[arr[i]],i+1)\n",
    "    dfs(sorted(candidates),target,[],0)\n",
    "    return result"
   ]
  },
  {
   "cell_type": "code",
   "execution_count": 2,
   "metadata": {},
   "outputs": [
    {
     "data": {
      "text/plain": [
       "[[1, 1, 6], [1, 2, 5], [1, 7], [2, 6]]"
      ]
     },
     "execution_count": 2,
     "metadata": {},
     "output_type": "execute_result"
    }
   ],
   "source": [
    "combination_sum2([10,1,2,7,6,1,5],8)\n",
    "#Time Complexity O(2^N)\n",
    "#Space Complexity O(2^N)"
   ]
  }
 ],
 "metadata": {
  "kernelspec": {
   "display_name": "Python 3",
   "language": "python",
   "name": "python3"
  },
  "language_info": {
   "codemirror_mode": {
    "name": "ipython",
    "version": 3
   },
   "file_extension": ".py",
   "mimetype": "text/x-python",
   "name": "python",
   "nbconvert_exporter": "python",
   "pygments_lexer": "ipython3",
   "version": "3.7.6"
  }
 },
 "nbformat": 4,
 "nbformat_minor": 4
}
