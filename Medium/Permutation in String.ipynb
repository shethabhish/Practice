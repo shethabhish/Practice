{
 "cells": [
  {
   "cell_type": "code",
   "execution_count": 1,
   "metadata": {},
   "outputs": [],
   "source": [
    "from collections import Counter\n",
    "def permutation_string(pattern,s):\n",
    "    freq,windowstart,match = Counter(pattern),0,0\n",
    "    for windowend in range(len(s)):\n",
    "        right = s[windowend]\n",
    "        if right in freq:\n",
    "            freq[right] -= 1\n",
    "            if freq[right] == 0:\n",
    "                match += 1\n",
    "        if match == len(pattern):\n",
    "            return True\n",
    "        if windowend >= len(pattern)-1:\n",
    "            left = s[windowstart]\n",
    "            windowstart += 1\n",
    "            if left in freq:\n",
    "                if freq[left] == 0:\n",
    "                    match -= 1\n",
    "                freq[left] += 1\n",
    "    return False"
   ]
  },
  {
   "cell_type": "code",
   "execution_count": 2,
   "metadata": {},
   "outputs": [
    {
     "data": {
      "text/plain": [
       "True"
      ]
     },
     "execution_count": 2,
     "metadata": {},
     "output_type": "execute_result"
    }
   ],
   "source": [
    "permutation_string(\"ab\",\"eidbaooo\")\n",
    "#Time Complexity O(N)\n",
    "#Space Complexity O(N)"
   ]
  }
 ],
 "metadata": {
  "kernelspec": {
   "display_name": "Python 3",
   "language": "python",
   "name": "python3"
  },
  "language_info": {
   "codemirror_mode": {
    "name": "ipython",
    "version": 3
   },
   "file_extension": ".py",
   "mimetype": "text/x-python",
   "name": "python",
   "nbconvert_exporter": "python",
   "pygments_lexer": "ipython3",
   "version": "3.7.6"
  }
 },
 "nbformat": 4,
 "nbformat_minor": 4
}
