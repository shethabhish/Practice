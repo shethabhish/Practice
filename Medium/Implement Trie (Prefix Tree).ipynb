{
 "cells": [
  {
   "cell_type": "code",
   "execution_count": 1,
   "metadata": {},
   "outputs": [],
   "source": [
    "class TrieNode:\n",
    "    def __init__(self):\n",
    "        self.children = {}\n",
    "        self.end = False"
   ]
  },
  {
   "cell_type": "code",
   "execution_count": 2,
   "metadata": {},
   "outputs": [],
   "source": [
    "class Trie:\n",
    "    def __init__(self):\n",
    "        self.root = TrieNode()\n",
    "    def insert(self,word):\n",
    "        curr = self.root\n",
    "        for c in word:\n",
    "            if c not in curr.children:\n",
    "                curr.children[c] = TrieNode()\n",
    "            curr = curr.children[c]\n",
    "        curr.end = True\n",
    "    def search(self,word):\n",
    "        curr = self.root\n",
    "        for c in word:\n",
    "            if c not in curr.children:\n",
    "                return False\n",
    "            curr = curr.children[c]\n",
    "        return curr.end == True\n",
    "    def starts_with(self,prefix):\n",
    "        curr = self.root\n",
    "        for c in prefix:\n",
    "            if c not in curr.children:\n",
    "                return False\n",
    "            curr = curr.children[c]\n",
    "        return True"
   ]
  },
  {
   "cell_type": "code",
   "execution_count": 3,
   "metadata": {},
   "outputs": [
    {
     "name": "stdout",
     "output_type": "stream",
     "text": [
      "True\n",
      "False\n",
      "True\n",
      "True\n"
     ]
    }
   ],
   "source": [
    "trie = Trie()\n",
    "trie.insert(\"apple\")\n",
    "print(trie.search(\"apple\"))\n",
    "print(trie.search(\"app\"))\n",
    "print(trie.starts_with(\"app\"))\n",
    "trie.insert(\"app\")   \n",
    "print(trie.search(\"app\"))\n",
    "#Time Complexity O(N)\n",
    "#Space Complexity O(N)"
   ]
  }
 ],
 "metadata": {
  "kernelspec": {
   "display_name": "Python 3",
   "language": "python",
   "name": "python3"
  },
  "language_info": {
   "codemirror_mode": {
    "name": "ipython",
    "version": 3
   },
   "file_extension": ".py",
   "mimetype": "text/x-python",
   "name": "python",
   "nbconvert_exporter": "python",
   "pygments_lexer": "ipython3",
   "version": "3.7.6"
  }
 },
 "nbformat": 4,
 "nbformat_minor": 4
}
