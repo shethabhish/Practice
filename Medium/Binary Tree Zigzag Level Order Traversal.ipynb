{
 "cells": [
  {
   "cell_type": "code",
   "execution_count": 1,
   "metadata": {},
   "outputs": [],
   "source": [
    "class Tree:\n",
    "    def __init__(self,val):\n",
    "        self.val = val\n",
    "        self.left = None\n",
    "        self.right = None"
   ]
  },
  {
   "cell_type": "code",
   "execution_count": 2,
   "metadata": {},
   "outputs": [],
   "source": [
    "from collections import deque\n",
    "def zigzag_level_order(root):\n",
    "    if root is None:\n",
    "        return []\n",
    "    queue = deque()\n",
    "    queue.append(root)\n",
    "    result = []\n",
    "    is_forward = True\n",
    "    while queue:\n",
    "        levelsize = len(queue)\n",
    "        current = deque()\n",
    "        for _ in range(levelsize):\n",
    "            node = queue.popleft()\n",
    "            if is_forward:\n",
    "                current.append(node.val)\n",
    "            else:\n",
    "                current.appendleft(node.val)\n",
    "            if node.left:\n",
    "                queue.append(node.left)\n",
    "            if node.right:\n",
    "                queue.append(node.right)\n",
    "        result.append(list(current))\n",
    "        is_forward = not is_forward\n",
    "    return result"
   ]
  },
  {
   "cell_type": "code",
   "execution_count": 3,
   "metadata": {},
   "outputs": [
    {
     "data": {
      "text/plain": [
       "[[3], [20, 9], [15, 7]]"
      ]
     },
     "execution_count": 3,
     "metadata": {},
     "output_type": "execute_result"
    }
   ],
   "source": [
    "root = Tree(3)\n",
    "root.left = Tree(9)\n",
    "root.right = Tree(20)\n",
    "root.right.left = Tree(15)\n",
    "root.right.right = Tree(7)\n",
    "zigzag_level_order(root)"
   ]
  }
 ],
 "metadata": {
  "kernelspec": {
   "display_name": "Python 3",
   "language": "python",
   "name": "python3"
  },
  "language_info": {
   "codemirror_mode": {
    "name": "ipython",
    "version": 3
   },
   "file_extension": ".py",
   "mimetype": "text/x-python",
   "name": "python",
   "nbconvert_exporter": "python",
   "pygments_lexer": "ipython3",
   "version": "3.7.6"
  }
 },
 "nbformat": 4,
 "nbformat_minor": 4
}
