{
 "cells": [
  {
   "cell_type": "code",
   "execution_count": 1,
   "metadata": {},
   "outputs": [],
   "source": [
    "from collections import deque\n",
    "def sequence_reconstruction(org,seqs):\n",
    "    if len(org) <= 0:\n",
    "        return False\n",
    "    sortedOrder,indegree,graph = [],{},{}\n",
    "    for seq in seqs:\n",
    "        for num in seq:\n",
    "            graph[num] = []\n",
    "            indegree[num] = 0\n",
    "    for seq in seqs:\n",
    "        for i in range(1,len(seq)):\n",
    "            parent,child = seq[i-1],seq[i]\n",
    "            graph[parent].append(child)\n",
    "            indegree[child] += 1\n",
    "    if len(indegree) != len(org):\n",
    "        return False\n",
    "    sources = deque()\n",
    "    for key in indegree:\n",
    "        if indegree[key] == 0:\n",
    "            sources.append(key)\n",
    "    while sources:\n",
    "        if len(sources) > 1:\n",
    "            return False\n",
    "        if org[len(sortedOrder)] != sources[0]:\n",
    "            return False\n",
    "        vertex = sources.popleft()\n",
    "        sortedOrder.append(vertex)\n",
    "        for child in graph[vertex]:\n",
    "            indegree[child] -= 1\n",
    "            if indegree[child] == 0:\n",
    "                sources.append(child)\n",
    "    return len(sortedOrder) == len(org)"
   ]
  },
  {
   "cell_type": "code",
   "execution_count": 2,
   "metadata": {},
   "outputs": [
    {
     "data": {
      "text/plain": [
       "False"
      ]
     },
     "execution_count": 2,
     "metadata": {},
     "output_type": "execute_result"
    }
   ],
   "source": [
    "sequence_reconstruction([1,2,3],[[1,2],[1,3]])\n",
    "#Time Complexity O(V+E)\n",
    "#Space Complexity O(V+E)"
   ]
  }
 ],
 "metadata": {
  "kernelspec": {
   "display_name": "Python 3",
   "language": "python",
   "name": "python3"
  },
  "language_info": {
   "codemirror_mode": {
    "name": "ipython",
    "version": 3
   },
   "file_extension": ".py",
   "mimetype": "text/x-python",
   "name": "python",
   "nbconvert_exporter": "python",
   "pygments_lexer": "ipython3",
   "version": "3.7.6"
  }
 },
 "nbformat": 4,
 "nbformat_minor": 4
}
