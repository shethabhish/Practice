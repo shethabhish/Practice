{
 "cells": [
  {
   "cell_type": "code",
   "execution_count": 1,
   "metadata": {},
   "outputs": [],
   "source": [
    "from collections import Counter\n",
    "def minimum_windowstart(s,pattern):\n",
    "    windowstart,match,substrstart,minlength,freq = 0,0,0,len(s)+1,Counter(pattern)\n",
    "    for windowend in range(len(s)):\n",
    "        right = s[windowend]\n",
    "        if right in freq:\n",
    "            freq[right] -= 1\n",
    "            if freq[right] >= 0:\n",
    "                match += 1\n",
    "        while match == len(pattern):\n",
    "            if minlength > windowend - windowstart + 1:\n",
    "                minlength = windowend - windowstart + 1\n",
    "                substrstart = windowstart\n",
    "            left = s[windowstart]\n",
    "            windowstart += 1\n",
    "            if left in freq:\n",
    "                if freq[left] == 0:\n",
    "                    match -= 1\n",
    "                freq[left] += 1\n",
    "    if minlength > len(s):\n",
    "        return \"\"\n",
    "    return s[substrstart:substrstart+minlength]"
   ]
  },
  {
   "cell_type": "code",
   "execution_count": 2,
   "metadata": {},
   "outputs": [
    {
     "data": {
      "text/plain": [
       "'BANC'"
      ]
     },
     "execution_count": 2,
     "metadata": {},
     "output_type": "execute_result"
    }
   ],
   "source": [
    "minimum_windowstart(\"ADOBECODEBANC\",\"ABC\")\n",
    "#Time Complexity O(S+P)\n",
    "#Space Complexity O(S+P)"
   ]
  }
 ],
 "metadata": {
  "kernelspec": {
   "display_name": "Python 3",
   "language": "python",
   "name": "python3"
  },
  "language_info": {
   "codemirror_mode": {
    "name": "ipython",
    "version": 3
   },
   "file_extension": ".py",
   "mimetype": "text/x-python",
   "name": "python",
   "nbconvert_exporter": "python",
   "pygments_lexer": "ipython3",
   "version": "3.7.6"
  }
 },
 "nbformat": 4,
 "nbformat_minor": 4
}
