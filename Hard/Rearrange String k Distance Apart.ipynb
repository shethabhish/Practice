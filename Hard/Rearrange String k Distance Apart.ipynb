{
 "cells": [
  {
   "cell_type": "code",
   "execution_count": 1,
   "metadata": {},
   "outputs": [],
   "source": [
    "from heapq import *\n",
    "from collections import Counter,deque\n",
    "def rearrange_k_distance(s,k):\n",
    "    if k < 1:\n",
    "        return s\n",
    "    freq = Counter(s)\n",
    "    maxheap = []\n",
    "    for ch,fr in freq.items():\n",
    "        heappush(maxheap,(-fr,ch))\n",
    "    queue = deque()\n",
    "    result = ''\n",
    "    while maxheap:\n",
    "        fr,ch = heappop(maxheap)\n",
    "        result += ch\n",
    "        queue.append((fr+1,ch))\n",
    "        if len(queue) == k:\n",
    "            fr,ch = queue.popleft()\n",
    "            if -fr > 0:\n",
    "                heappush(maxheap,(fr,ch))\n",
    "    return result if len(result) == len(s) else \"\""
   ]
  },
  {
   "cell_type": "code",
   "execution_count": 2,
   "metadata": {},
   "outputs": [
    {
     "data": {
      "text/plain": [
       "'abcabc'"
      ]
     },
     "execution_count": 2,
     "metadata": {},
     "output_type": "execute_result"
    }
   ],
   "source": [
    "rearrange_k_distance(\"aabbcc\",3)\n",
    "#Time Complexity O(SlogK)\n",
    "#Space Complexity O(SlogK)"
   ]
  }
 ],
 "metadata": {
  "kernelspec": {
   "display_name": "Python 3",
   "language": "python",
   "name": "python3"
  },
  "language_info": {
   "codemirror_mode": {
    "name": "ipython",
    "version": 3
   },
   "file_extension": ".py",
   "mimetype": "text/x-python",
   "name": "python",
   "nbconvert_exporter": "python",
   "pygments_lexer": "ipython3",
   "version": "3.7.6"
  }
 },
 "nbformat": 4,
 "nbformat_minor": 4
}
