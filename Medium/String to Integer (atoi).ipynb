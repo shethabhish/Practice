{
 "cells": [
  {
   "cell_type": "code",
   "execution_count": 1,
   "metadata": {},
   "outputs": [],
   "source": [
    "def str_int(s):\n",
    "    s = s.strip()\n",
    "    if len(s) == 0:\n",
    "        return 0\n",
    "    sign = -1 if s[0] == '-' else 1\n",
    "    if s[0] in ['-','+']:\n",
    "        s = s[1:]\n",
    "    result,i = 0,0\n",
    "    while i < len(s) and s[i].isdigit():\n",
    "        result = result*10 + int(s[i])\n",
    "        i += 1\n",
    "    return max(-2**31,min(sign*result,2**31-1))"
   ]
  },
  {
   "cell_type": "code",
   "execution_count": 2,
   "metadata": {},
   "outputs": [
    {
     "data": {
      "text/plain": [
       "-42"
      ]
     },
     "execution_count": 2,
     "metadata": {},
     "output_type": "execute_result"
    }
   ],
   "source": [
    "str_int( \"   -42\")\n",
    "#Time Complexity O(S)\n",
    "#Space Complexity O(S)"
   ]
  }
 ],
 "metadata": {
  "kernelspec": {
   "display_name": "Python 3",
   "language": "python",
   "name": "python3"
  },
  "language_info": {
   "codemirror_mode": {
    "name": "ipython",
    "version": 3
   },
   "file_extension": ".py",
   "mimetype": "text/x-python",
   "name": "python",
   "nbconvert_exporter": "python",
   "pygments_lexer": "ipython3",
   "version": "3.7.6"
  }
 },
 "nbformat": 4,
 "nbformat_minor": 4
}
