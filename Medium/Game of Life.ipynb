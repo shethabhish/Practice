{
 "cells": [
  {
   "cell_type": "code",
   "execution_count": 1,
   "metadata": {},
   "outputs": [],
   "source": [
    "def game_of_life(board):\n",
    "    neighbors = [(1,0),(1,-1),(0,-1),(-1,-1),(-1,0),(-1,1),(0,1),(1,1)]\n",
    "    rows,cols = len(board),len(board[0])\n",
    "    for row in range(rows):\n",
    "        for col in range(cols):\n",
    "            live = 0\n",
    "            for nei in neighbors:\n",
    "                r,c = (row+nei[0]),(col+nei[1])\n",
    "                if (r < rows and r >= 0) and (c < cols and c >= 0) and abs(board[r][c]) == 1:\n",
    "                    live += 1\n",
    "            if board[row][col] == 1 and (live > 3 or live < 2):\n",
    "                board[row][col] = -1\n",
    "            if board[row][col] == 0 and live == 3:\n",
    "                board[row][col] = 2\n",
    "    for row in range(rows):\n",
    "        for col in range(cols):\n",
    "            if board[row][col] > 0:\n",
    "                board[row][col] = 1\n",
    "            else:\n",
    "                board[row][col] = 0\n",
    "    return board"
   ]
  },
  {
   "cell_type": "code",
   "execution_count": 2,
   "metadata": {},
   "outputs": [
    {
     "data": {
      "text/plain": [
       "[[0, 0, 0], [1, 0, 1], [0, 1, 1], [0, 1, 0]]"
      ]
     },
     "execution_count": 2,
     "metadata": {},
     "output_type": "execute_result"
    }
   ],
   "source": [
    "game_of_life([[0,1,0],[0,0,1],[1,1,1],[0,0,0]])\n",
    "#Time Complexity O(M*N)\n",
    "#Space Complexity O(1)"
   ]
  }
 ],
 "metadata": {
  "kernelspec": {
   "display_name": "Python 3",
   "language": "python",
   "name": "python3"
  },
  "language_info": {
   "codemirror_mode": {
    "name": "ipython",
    "version": 3
   },
   "file_extension": ".py",
   "mimetype": "text/x-python",
   "name": "python",
   "nbconvert_exporter": "python",
   "pygments_lexer": "ipython3",
   "version": "3.7.6"
  }
 },
 "nbformat": 4,
 "nbformat_minor": 4
}
