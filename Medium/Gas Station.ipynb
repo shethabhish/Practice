{
 "cells": [
  {
   "cell_type": "code",
   "execution_count": 1,
   "metadata": {},
   "outputs": [],
   "source": [
    "def gas_station(gas,cost):\n",
    "    total = 0\n",
    "    for i in range(len(gas)):\n",
    "        total += gas[i] - cost[i]\n",
    "    if total < 0:\n",
    "        return -1\n",
    "    else:\n",
    "        start,tank = 0,0\n",
    "        for i in range(len(gas)):\n",
    "            tank += gas[i] - cost[i]\n",
    "            if tank < 0:\n",
    "                start = i+1\n",
    "                tank = 0\n",
    "    return start"
   ]
  },
  {
   "cell_type": "code",
   "execution_count": 2,
   "metadata": {},
   "outputs": [
    {
     "data": {
      "text/plain": [
       "3"
      ]
     },
     "execution_count": 2,
     "metadata": {},
     "output_type": "execute_result"
    }
   ],
   "source": [
    "gas_station([1,2,3,4,5],[3,4,5,1,2])\n",
    "#Time Complexity O(N)\n",
    "#Space Complexity O(1)"
   ]
  }
 ],
 "metadata": {
  "kernelspec": {
   "display_name": "Python 3",
   "language": "python",
   "name": "python3"
  },
  "language_info": {
   "codemirror_mode": {
    "name": "ipython",
    "version": 3
   },
   "file_extension": ".py",
   "mimetype": "text/x-python",
   "name": "python",
   "nbconvert_exporter": "python",
   "pygments_lexer": "ipython3",
   "version": "3.7.6"
  }
 },
 "nbformat": 4,
 "nbformat_minor": 4
}
