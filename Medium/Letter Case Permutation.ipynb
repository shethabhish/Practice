{
 "cells": [
  {
   "cell_type": "code",
   "execution_count": 1,
   "metadata": {},
   "outputs": [],
   "source": [
    "def letter_case_permutation(S):\n",
    "    permutations = [S]\n",
    "    for i in range(len(S)):\n",
    "        if S[i].isalpha():\n",
    "            for j in range(len(permutations)):\n",
    "                ch = list(permutations[j])\n",
    "                ch[i] = ch[i].swapcase()\n",
    "                permutations.append(''.join(ch))\n",
    "    return permutations"
   ]
  },
  {
   "cell_type": "code",
   "execution_count": 2,
   "metadata": {},
   "outputs": [
    {
     "data": {
      "text/plain": [
       "['a1b2', 'A1b2', 'a1B2', 'A1B2']"
      ]
     },
     "execution_count": 2,
     "metadata": {},
     "output_type": "execute_result"
    }
   ],
   "source": [
    "letter_case_permutation(\"a1b2\")\n",
    "#Time Complexity O(2^N*N)\n",
    "#Space Complexity O(2^N*N)"
   ]
  }
 ],
 "metadata": {
  "kernelspec": {
   "display_name": "Python 3",
   "language": "python",
   "name": "python3"
  },
  "language_info": {
   "codemirror_mode": {
    "name": "ipython",
    "version": 3
   },
   "file_extension": ".py",
   "mimetype": "text/x-python",
   "name": "python",
   "nbconvert_exporter": "python",
   "pygments_lexer": "ipython3",
   "version": "3.7.6"
  }
 },
 "nbformat": 4,
 "nbformat_minor": 4
}
